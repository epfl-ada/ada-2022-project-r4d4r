{
 "cells": [
  {
   "cell_type": "code",
   "execution_count": 1,
   "metadata": {},
   "outputs": [],
   "source": [
    "import ast\n",
    "import imdb\n",
    "import json\n",
    "import pickle\n",
    "import itertools\n",
    "import dateparser\n",
    "import numpy as np\n",
    "import pandas as pd\n",
    "import matplotlib.pyplot as plt\n",
    "\n",
    "from ast import literal_eval\n",
    "from price_parser import Price\n",
    "from collections import Counter\n",
    "\n",
    "%matplotlib inline"
   ]
  },
  {
   "attachments": {},
   "cell_type": "markdown",
   "metadata": {},
   "source": [
    "#### Step 1: Preprocessing, data scraping"
   ]
  },
  {
   "cell_type": "code",
   "execution_count": 2,
   "metadata": {},
   "outputs": [],
   "source": [
    "DATA_COLUMNS = [\"index\",\"wikipedia_id\", \"imdb_id\", \"title\", \"cast\", \"genres\", \"runtimes\", \"countries\", \"languages\", \"box_office\", \"rating\", \"votes\", \"plot\", \"synopsis\"]\n",
    "\n",
    "df = pd.read_csv(\"./Data/fetched_data.csv\", names=DATA_COLUMNS, header=0, index_col=0)"
   ]
  },
  {
   "cell_type": "code",
   "execution_count": 3,
   "metadata": {},
   "outputs": [],
   "source": [
    "df[\"title\"] = df[\"title\"].astype(\"string\")\n",
    "df.cast = df.cast.apply(lambda x: literal_eval(x))\n",
    "df.genres = df.genres.apply(lambda x: [] if pd.isna(x) else literal_eval(x))\n",
    "df[\"runtimes\"] = pd.to_numeric(df[\"runtimes\"].apply(lambda x: \"0\" if pd.isna(x) else x.replace(\"[\", \"\").replace(\"]\", \"\").replace(\"'\", \"\")))\n",
    "df.countries = df.countries.apply(lambda x: [] if pd.isna(x) else literal_eval(x))\n",
    "df.languages = df.languages.apply(lambda x: [] if pd.isna(x) else literal_eval(x))\n",
    "df[\"synopsis\"] = df[\"synopsis\"].apply(lambda x: \"\" if pd.isna(x) else literal_eval(x)[0])\n",
    "df[\"plot\"] = df[\"plot\"].apply(lambda x: \"\" if pd.isna(x) else literal_eval(x)[0])"
   ]
  },
  {
   "cell_type": "code",
   "execution_count": 4,
   "metadata": {},
   "outputs": [],
   "source": [
    "# TODO question assistant => comment avoir la bonne valeur de box office en dollar \n",
    "# sachant que le cours a evolue au cours du temps\n",
    "\n",
    "def convert_currency(x):\n",
    "    formated = Price.fromstring(x)\n",
    "    amount = formated.amount_float\n",
    "    match formated.currency:\n",
    "        case \"$\":\n",
    "            return amount\n",
    "        case \"EUR\":\n",
    "            return amount * 1.18\n",
    "        case \"GBP\":\n",
    "            return amount * 1.36\n",
    "        case \"SEK\":\n",
    "            return amount * 0.11\n",
    "        case \"CAD\":\n",
    "            return amount * 0.79\n",
    "        case \"INR\":\n",
    "            return amount * 0.013\n",
    "        case \"CZK\":\n",
    "            return amount * 0.04\n",
    "        case \"JPY\":\n",
    "            return amount * 0.009\n",
    "        case _:\n",
    "            return None\n",
    "    "
   ]
  },
  {
   "cell_type": "code",
   "execution_count": 5,
   "metadata": {},
   "outputs": [],
   "source": [
    "# lets format the box office column\n",
    "\n",
    "def superfunction(box_office):\n",
    "    if pd.isna(box_office):\n",
    "        return None, None, None\n",
    "    film = ast.literal_eval(box_office)\n",
    "    budget = convert_currency(film[\"Budget\"]) if \"Budget\" in film else None\n",
    "    bo_usa = Price.fromstring(film[\"Opening Weekend United States\"]).amount if \"Opening Weekend United States\" in film else None\n",
    "    bo_world = Price.fromstring(film[\"Cumulative Worldwide Gross\"]).amount if \"Cumulative Worldwide Gross\" in film else None\n",
    "    return budget, bo_usa, bo_world\n",
    "    \n",
    "formated_bo = df[\"box_office\"].apply(lambda x: superfunction(x))\n",
    "df[\"budget\"], df[\"box_office_usa\"], df[\"box_office_world\"] = zip(*formated_bo)\n"
   ]
  },
  {
   "cell_type": "code",
   "execution_count": 6,
   "metadata": {},
   "outputs": [],
   "source": [
    "years_df = pd.read_csv(\"./Data/movie.metadata.tsv\", sep='\\t', header=None)"
   ]
  },
  {
   "cell_type": "code",
   "execution_count": 7,
   "metadata": {},
   "outputs": [],
   "source": [
    "# for each movies we have in df, find by id the one in years df\n",
    "def parse_date(x):\n",
    "    timestamped_fetched = years_df[years_df[0] == x][3].values\n",
    "    year = dateparser.parse(timestamped_fetched[0]).year\n",
    "    return year\n",
    "\n",
    "df[\"release_year\"] = df.wikipedia_id.apply(lambda x: parse_date(x))"
   ]
  },
  {
   "cell_type": "code",
   "execution_count": null,
   "metadata": {},
   "outputs": [],
   "source": [
    "df.to_csv(\"./Data/cleaned_data.csv\")"
   ]
  },
  {
   "attachments": {},
   "cell_type": "markdown",
   "metadata": {},
   "source": [
    "#### Step 2: Investigating the evolution of movie production over time and finding main character"
   ]
  },
  {
   "cell_type": "code",
   "execution_count": null,
   "metadata": {},
   "outputs": [],
   "source": [
    "# 2.1 movie production"
   ]
  },
  {
   "cell_type": "code",
   "execution_count": null,
   "metadata": {},
   "outputs": [],
   "source": [
    "# main character\n"
   ]
  },
  {
   "attachments": {},
   "cell_type": "markdown",
   "metadata": {},
   "source": [
    "#### Step 3: Box office feature analysis"
   ]
  },
  {
   "cell_type": "markdown",
   "metadata": {},
   "source": []
  },
  {
   "attachments": {},
   "cell_type": "markdown",
   "metadata": {},
   "source": [
    "#### Step 4: Finding correlation"
   ]
  },
  {
   "cell_type": "code",
   "execution_count": null,
   "metadata": {},
   "outputs": [],
   "source": []
  },
  {
   "attachments": {},
   "cell_type": "markdown",
   "metadata": {},
   "source": [
    "#### Step 5: Predicting future production and box office"
   ]
  },
  {
   "cell_type": "markdown",
   "metadata": {},
   "source": []
  },
  {
   "attachments": {},
   "cell_type": "markdown",
   "metadata": {},
   "source": [
    "#### Step 6: Final visualisation of the datastory"
   ]
  },
  {
   "cell_type": "code",
   "execution_count": null,
   "metadata": {},
   "outputs": [],
   "source": []
  }
 ],
 "metadata": {
  "kernelspec": {
   "display_name": "Python 3",
   "language": "python",
   "name": "python3"
  },
  "language_info": {
   "codemirror_mode": {
    "name": "ipython",
    "version": 3
   },
   "file_extension": ".py",
   "mimetype": "text/x-python",
   "name": "python",
   "nbconvert_exporter": "python",
   "pygments_lexer": "ipython3",
   "version": "3.10.8"
  },
  "orig_nbformat": 4,
  "vscode": {
   "interpreter": {
    "hash": "b0fa6594d8f4cbf19f97940f81e996739fb7646882a419484c72d19e05852a7e"
   }
  }
 },
 "nbformat": 4,
 "nbformat_minor": 2
}
