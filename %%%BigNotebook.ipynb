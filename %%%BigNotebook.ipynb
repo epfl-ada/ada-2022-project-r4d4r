{
 "cells": [
  {
   "cell_type": "code",
   "execution_count": 1,
   "id": "c9f22601",
   "metadata": {},
   "outputs": [],
   "source": [
    "import mysql.connector\n",
    "import pandas as pd\n",
    "import numpy as np\n",
    "import datetime\n",
    "import matplotlib.pyplot as plt\n",
    "import seaborn as sns\n",
    "import statsmodels.tsa.stattools as tsa\n",
    "import scipy.stats as stats\n",
    "\n",
    "import price_parser #to handle currencies\n",
    "import forex_python.converter as converter #to handle currency exchanges\n",
    "import cpi #to handle inflation\n",
    "#cpi.update()"
   ]
  },
  {
   "cell_type": "markdown",
   "id": "37bf4767",
   "metadata": {},
   "source": [
    "# Preprocessing"
   ]
  },
  {
   "cell_type": "markdown",
   "id": "ba2a51d4",
   "metadata": {},
   "source": [
    "## Fetch data scraped from IMDB"
   ]
  },
  {
   "cell_type": "code",
   "execution_count": 2,
   "id": "bb94c242",
   "metadata": {},
   "outputs": [],
   "source": [
    "db = mysql.connector.connect(\n",
    "  host =\"mysql.micro-ondes.ch\",\n",
    "  user =\"r4d4r\",\n",
    "  passwd =\"1MotDePasse\",\n",
    "  database = \"ada_raw_imdb\"\n",
    ")\n",
    "cursor = db.cursor()\n",
    "cursor.execute(\"SELECT * FROM RAW_DATA\")\n",
    "DB_DATA = cursor.fetchall()"
   ]
  },
  {
   "cell_type": "code",
   "execution_count": 3,
   "id": "4d500f8d",
   "metadata": {
    "scrolled": true
   },
   "outputs": [
    {
     "data": {
      "text/html": [
       "<div>\n",
       "<style scoped>\n",
       "    .dataframe tbody tr th:only-of-type {\n",
       "        vertical-align: middle;\n",
       "    }\n",
       "\n",
       "    .dataframe tbody tr th {\n",
       "        vertical-align: top;\n",
       "    }\n",
       "\n",
       "    .dataframe thead th {\n",
       "        text-align: right;\n",
       "    }\n",
       "</style>\n",
       "<table border=\"1\" class=\"dataframe\">\n",
       "  <thead>\n",
       "    <tr style=\"text-align: right;\">\n",
       "      <th></th>\n",
       "      <th>imdb_genres</th>\n",
       "      <th>imdb_runtimes</th>\n",
       "      <th>imdb_countries</th>\n",
       "      <th>imdb_languages</th>\n",
       "      <th>imdb_box_office</th>\n",
       "      <th>imdb_rating</th>\n",
       "      <th>imdb_votes</th>\n",
       "      <th>imdb_plot</th>\n",
       "      <th>imdb_synopsis</th>\n",
       "    </tr>\n",
       "  </thead>\n",
       "  <tbody>\n",
       "    <tr>\n",
       "      <th>975900</th>\n",
       "      <td>['Action', 'Horror', 'Sci-Fi']</td>\n",
       "      <td>['98']</td>\n",
       "      <td>['United States']</td>\n",
       "      <td>['English']</td>\n",
       "      <td>{'Budget': '$28,000,000 (estimated)', 'Opening...</td>\n",
       "      <td>4.9</td>\n",
       "      <td>55370</td>\n",
       "      <td>['In 2176, a Martian police unit is sent to pi...</td>\n",
       "      <td>[\"200 years in the future, Mars has been colon...</td>\n",
       "    </tr>\n",
       "    <tr>\n",
       "      <th>28463795</th>\n",
       "      <td>['Crime', 'Drama']</td>\n",
       "      <td>['83']</td>\n",
       "      <td>['Norway']</td>\n",
       "      <td>['Norwegian']</td>\n",
       "      <td>NaN</td>\n",
       "      <td>5.7</td>\n",
       "      <td>40</td>\n",
       "      <td>['The lonely, divorced and disillusioned lawye...</td>\n",
       "      <td>NaN</td>\n",
       "    </tr>\n",
       "    <tr>\n",
       "      <th>261236</th>\n",
       "      <td>['Drama']</td>\n",
       "      <td>['106']</td>\n",
       "      <td>['West Germany']</td>\n",
       "      <td>['German']</td>\n",
       "      <td>NaN</td>\n",
       "      <td>6.0</td>\n",
       "      <td>591</td>\n",
       "      <td>['Eva, an upper-class housewife, frustratingly...</td>\n",
       "      <td>NaN</td>\n",
       "    </tr>\n",
       "    <tr>\n",
       "      <th>10408933</th>\n",
       "      <td>['Drama', 'Music', 'Musical', 'Romance']</td>\n",
       "      <td>['106']</td>\n",
       "      <td>['United States']</td>\n",
       "      <td>['English']</td>\n",
       "      <td>{'Budget': '$2,000,000 (estimated)'}</td>\n",
       "      <td>6.9</td>\n",
       "      <td>2164</td>\n",
       "      <td>['This send-up of ragtime song and dance begin...</td>\n",
       "      <td>NaN</td>\n",
       "    </tr>\n",
       "    <tr>\n",
       "      <th>175026</th>\n",
       "      <td>['Drama', 'Romance']</td>\n",
       "      <td>['86']</td>\n",
       "      <td>['United States']</td>\n",
       "      <td>['English']</td>\n",
       "      <td>NaN</td>\n",
       "      <td>5.4</td>\n",
       "      <td>274</td>\n",
       "      <td>[\"After years of abusing his wife, a ne'er-do-...</td>\n",
       "      <td>NaN</td>\n",
       "    </tr>\n",
       "  </tbody>\n",
       "</table>\n",
       "</div>"
      ],
      "text/plain": [
       "                                       imdb_genres imdb_runtimes  \\\n",
       "975900              ['Action', 'Horror', 'Sci-Fi']        ['98']   \n",
       "28463795                        ['Crime', 'Drama']        ['83']   \n",
       "261236                                   ['Drama']       ['106']   \n",
       "10408933  ['Drama', 'Music', 'Musical', 'Romance']       ['106']   \n",
       "175026                        ['Drama', 'Romance']        ['86']   \n",
       "\n",
       "             imdb_countries imdb_languages  \\\n",
       "975900    ['United States']    ['English']   \n",
       "28463795         ['Norway']  ['Norwegian']   \n",
       "261236     ['West Germany']     ['German']   \n",
       "10408933  ['United States']    ['English']   \n",
       "175026    ['United States']    ['English']   \n",
       "\n",
       "                                            imdb_box_office  imdb_rating  \\\n",
       "975900    {'Budget': '$28,000,000 (estimated)', 'Opening...          4.9   \n",
       "28463795                                                NaN          5.7   \n",
       "261236                                                  NaN          6.0   \n",
       "10408933               {'Budget': '$2,000,000 (estimated)'}          6.9   \n",
       "175026                                                  NaN          5.4   \n",
       "\n",
       "          imdb_votes                                          imdb_plot  \\\n",
       "975900         55370  ['In 2176, a Martian police unit is sent to pi...   \n",
       "28463795          40  ['The lonely, divorced and disillusioned lawye...   \n",
       "261236           591  ['Eva, an upper-class housewife, frustratingly...   \n",
       "10408933        2164  ['This send-up of ragtime song and dance begin...   \n",
       "175026           274  [\"After years of abusing his wife, a ne'er-do-...   \n",
       "\n",
       "                                              imdb_synopsis  \n",
       "975900    [\"200 years in the future, Mars has been colon...  \n",
       "28463795                                                NaN  \n",
       "261236                                                  NaN  \n",
       "10408933                                                NaN  \n",
       "175026                                                  NaN  "
      ]
     },
     "execution_count": 3,
     "metadata": {},
     "output_type": "execute_result"
    }
   ],
   "source": [
    "DATA_COLUMNS = [\"imdb_id\", \"title\", \"cast\", \"imdb_genres\", \"imdb_runtimes\", \"imdb_countries\", \"imdb_languages\", \"imdb_box_office\", \"imdb_rating\", \"imdb_votes\", \"imdb_plot\", \"imdb_synopsis\"]\n",
    "DB_DATA = pd.DataFrame(map(lambda x: x[1:], DB_DATA), index=map(lambda x: x[0], DB_DATA), columns=DATA_COLUMNS)\n",
    "DB_DATA = DB_DATA.replace('NULL',np.NaN)\n",
    "DB_DATA.drop(columns=[\"title\", \"imdb_id\", \"cast\"], inplace = True)\n",
    "DB_DATA.head()"
   ]
  },
  {
   "cell_type": "markdown",
   "id": "196f7b3b",
   "metadata": {},
   "source": [
    "## Fetch data from original dataset"
   ]
  },
  {
   "cell_type": "markdown",
   "id": "f4cfe217",
   "metadata": {},
   "source": [
    "### Movies"
   ]
  },
  {
   "cell_type": "code",
   "execution_count": 4,
   "id": "56497974",
   "metadata": {
    "scrolled": true
   },
   "outputs": [
    {
     "data": {
      "text/html": [
       "<div>\n",
       "<style scoped>\n",
       "    .dataframe tbody tr th:only-of-type {\n",
       "        vertical-align: middle;\n",
       "    }\n",
       "\n",
       "    .dataframe tbody tr th {\n",
       "        vertical-align: top;\n",
       "    }\n",
       "\n",
       "    .dataframe thead th {\n",
       "        text-align: right;\n",
       "    }\n",
       "</style>\n",
       "<table border=\"1\" class=\"dataframe\">\n",
       "  <thead>\n",
       "    <tr style=\"text-align: right;\">\n",
       "      <th></th>\n",
       "      <th>movie_name</th>\n",
       "      <th>movie_release_date</th>\n",
       "      <th>freebase_box_office_revenue</th>\n",
       "      <th>freebase_runtime</th>\n",
       "      <th>freebase_languages</th>\n",
       "      <th>freebase_countries</th>\n",
       "      <th>freebase_genres</th>\n",
       "      <th>movie_release_year</th>\n",
       "    </tr>\n",
       "  </thead>\n",
       "  <tbody>\n",
       "    <tr>\n",
       "      <th>975900</th>\n",
       "      <td>Ghosts of Mars</td>\n",
       "      <td>2001-08-24</td>\n",
       "      <td>14010832.0</td>\n",
       "      <td>98.0</td>\n",
       "      <td>{\"/m/02h40lc\": \"English Language\"}</td>\n",
       "      <td>{\"/m/09c7w0\": \"United States of America\"}</td>\n",
       "      <td>{\"/m/01jfsb\": \"Thriller\", \"/m/06n90\": \"Science...</td>\n",
       "      <td>2001.0</td>\n",
       "    </tr>\n",
       "    <tr>\n",
       "      <th>3196793</th>\n",
       "      <td>Getting Away with Murder: The JonBenét Ramsey ...</td>\n",
       "      <td>2000-02-16</td>\n",
       "      <td>NaN</td>\n",
       "      <td>95.0</td>\n",
       "      <td>{\"/m/02h40lc\": \"English Language\"}</td>\n",
       "      <td>{\"/m/09c7w0\": \"United States of America\"}</td>\n",
       "      <td>{\"/m/02n4kr\": \"Mystery\", \"/m/03bxz7\": \"Biograp...</td>\n",
       "      <td>2000.0</td>\n",
       "    </tr>\n",
       "    <tr>\n",
       "      <th>28463795</th>\n",
       "      <td>Brun bitter</td>\n",
       "      <td>1988-01-01</td>\n",
       "      <td>NaN</td>\n",
       "      <td>83.0</td>\n",
       "      <td>{\"/m/05f_3\": \"Norwegian Language\"}</td>\n",
       "      <td>{\"/m/05b4w\": \"Norway\"}</td>\n",
       "      <td>{\"/m/0lsxr\": \"Crime Fiction\", \"/m/07s9rl0\": \"D...</td>\n",
       "      <td>1988.0</td>\n",
       "    </tr>\n",
       "    <tr>\n",
       "      <th>9363483</th>\n",
       "      <td>White Of The Eye</td>\n",
       "      <td>1987-01-01</td>\n",
       "      <td>NaN</td>\n",
       "      <td>110.0</td>\n",
       "      <td>{\"/m/02h40lc\": \"English Language\"}</td>\n",
       "      <td>{\"/m/07ssc\": \"United Kingdom\"}</td>\n",
       "      <td>{\"/m/01jfsb\": \"Thriller\", \"/m/0glj9q\": \"Erotic...</td>\n",
       "      <td>1987.0</td>\n",
       "    </tr>\n",
       "    <tr>\n",
       "      <th>261236</th>\n",
       "      <td>A Woman in Flames</td>\n",
       "      <td>1983-01-01</td>\n",
       "      <td>NaN</td>\n",
       "      <td>106.0</td>\n",
       "      <td>{\"/m/04306rv\": \"German Language\"}</td>\n",
       "      <td>{\"/m/0345h\": \"Germany\"}</td>\n",
       "      <td>{\"/m/07s9rl0\": \"Drama\"}</td>\n",
       "      <td>1983.0</td>\n",
       "    </tr>\n",
       "  </tbody>\n",
       "</table>\n",
       "</div>"
      ],
      "text/plain": [
       "                                                 movie_name  \\\n",
       "975900                                       Ghosts of Mars   \n",
       "3196793   Getting Away with Murder: The JonBenét Ramsey ...   \n",
       "28463795                                        Brun bitter   \n",
       "9363483                                    White Of The Eye   \n",
       "261236                                    A Woman in Flames   \n",
       "\n",
       "         movie_release_date  freebase_box_office_revenue  freebase_runtime  \\\n",
       "975900           2001-08-24                   14010832.0              98.0   \n",
       "3196793          2000-02-16                          NaN              95.0   \n",
       "28463795         1988-01-01                          NaN              83.0   \n",
       "9363483          1987-01-01                          NaN             110.0   \n",
       "261236           1983-01-01                          NaN             106.0   \n",
       "\n",
       "                          freebase_languages  \\\n",
       "975900    {\"/m/02h40lc\": \"English Language\"}   \n",
       "3196793   {\"/m/02h40lc\": \"English Language\"}   \n",
       "28463795  {\"/m/05f_3\": \"Norwegian Language\"}   \n",
       "9363483   {\"/m/02h40lc\": \"English Language\"}   \n",
       "261236     {\"/m/04306rv\": \"German Language\"}   \n",
       "\n",
       "                                 freebase_countries  \\\n",
       "975900    {\"/m/09c7w0\": \"United States of America\"}   \n",
       "3196793   {\"/m/09c7w0\": \"United States of America\"}   \n",
       "28463795                     {\"/m/05b4w\": \"Norway\"}   \n",
       "9363483              {\"/m/07ssc\": \"United Kingdom\"}   \n",
       "261236                      {\"/m/0345h\": \"Germany\"}   \n",
       "\n",
       "                                            freebase_genres  \\\n",
       "975900    {\"/m/01jfsb\": \"Thriller\", \"/m/06n90\": \"Science...   \n",
       "3196793   {\"/m/02n4kr\": \"Mystery\", \"/m/03bxz7\": \"Biograp...   \n",
       "28463795  {\"/m/0lsxr\": \"Crime Fiction\", \"/m/07s9rl0\": \"D...   \n",
       "9363483   {\"/m/01jfsb\": \"Thriller\", \"/m/0glj9q\": \"Erotic...   \n",
       "261236                              {\"/m/07s9rl0\": \"Drama\"}   \n",
       "\n",
       "          movie_release_year  \n",
       "975900                2001.0  \n",
       "3196793               2000.0  \n",
       "28463795              1988.0  \n",
       "9363483               1987.0  \n",
       "261236                1983.0  "
      ]
     },
     "execution_count": 4,
     "metadata": {},
     "output_type": "execute_result"
    }
   ],
   "source": [
    "COLUMNS_NAMES_MOVIES = [\n",
    "    \"freebase_id\",\n",
    "    \"movie_name\",\n",
    "    \"movie_release_date\",\n",
    "    \"freebase_box_office_revenue\",\n",
    "    \"freebase_runtime\",\n",
    "    \"freebase_languages\",\n",
    "    \"freebase_countries\",\n",
    "    \"freebase_genres\"\n",
    "]\n",
    "MOVIE_DATA = pd.read_csv('data/movie.metadata.tsv', sep='\\t', header=None, names=COLUMNS_NAMES_MOVIES, index_col=0)\n",
    "MOVIE_DATA.drop(columns=[\"freebase_id\"], inplace = True)\n",
    "MOVIE_DATA = MOVIE_DATA.replace('NULL',np.NaN)\n",
    "MOVIE_DATA[\"movie_release_date\"] = pd.to_datetime(MOVIE_DATA[\"movie_release_date\"], errors=\"coerce\")\n",
    "MOVIE_DATA[\"movie_release_year\"] = MOVIE_DATA[\"movie_release_date\"].dt.year.astype(int, errors=\"ignore\")\n",
    "MOVIE_DATA.dropna(subset=[\"movie_release_year\"], inplace=True)\n",
    "MOVIE_DATA.head()"
   ]
  },
  {
   "cell_type": "markdown",
   "id": "217ce88c",
   "metadata": {},
   "source": [
    "### Characters"
   ]
  },
  {
   "cell_type": "code",
   "execution_count": 5,
   "id": "0c18916f",
   "metadata": {
    "scrolled": true
   },
   "outputs": [
    {
     "data": {
      "text/html": [
       "<div>\n",
       "<style scoped>\n",
       "    .dataframe tbody tr th:only-of-type {\n",
       "        vertical-align: middle;\n",
       "    }\n",
       "\n",
       "    .dataframe tbody tr th {\n",
       "        vertical-align: top;\n",
       "    }\n",
       "\n",
       "    .dataframe thead th {\n",
       "        text-align: right;\n",
       "    }\n",
       "</style>\n",
       "<table border=\"1\" class=\"dataframe\">\n",
       "  <thead>\n",
       "    <tr style=\"text-align: right;\">\n",
       "      <th></th>\n",
       "      <th>wiki_movie_id</th>\n",
       "      <th>character_name</th>\n",
       "      <th>actor_date_of_birth</th>\n",
       "      <th>actor_gender</th>\n",
       "      <th>actor_height</th>\n",
       "      <th>actor_ethnicity</th>\n",
       "      <th>actor_name</th>\n",
       "      <th>actor_age_at_movie_release</th>\n",
       "      <th>freebase_character_actor_map_id</th>\n",
       "      <th>freebase_character_id</th>\n",
       "      <th>freebase_actor_id</th>\n",
       "    </tr>\n",
       "  </thead>\n",
       "  <tbody>\n",
       "    <tr>\n",
       "      <th>0</th>\n",
       "      <td>975900</td>\n",
       "      <td>Akooshay</td>\n",
       "      <td>1958-08-26</td>\n",
       "      <td>F</td>\n",
       "      <td>1.620</td>\n",
       "      <td>NaN</td>\n",
       "      <td>Wanda De Jesus</td>\n",
       "      <td>42.0</td>\n",
       "      <td>/m/0bgchxw</td>\n",
       "      <td>/m/0bgcj3x</td>\n",
       "      <td>/m/03wcfv7</td>\n",
       "    </tr>\n",
       "    <tr>\n",
       "      <th>1</th>\n",
       "      <td>975900</td>\n",
       "      <td>Lieutenant Melanie Ballard</td>\n",
       "      <td>1974-08-15</td>\n",
       "      <td>F</td>\n",
       "      <td>1.780</td>\n",
       "      <td>/m/044038p</td>\n",
       "      <td>Natasha Henstridge</td>\n",
       "      <td>27.0</td>\n",
       "      <td>/m/0jys3m</td>\n",
       "      <td>/m/0bgchn4</td>\n",
       "      <td>/m/0346l4</td>\n",
       "    </tr>\n",
       "    <tr>\n",
       "      <th>2</th>\n",
       "      <td>975900</td>\n",
       "      <td>Desolation Williams</td>\n",
       "      <td>1969-06-15</td>\n",
       "      <td>M</td>\n",
       "      <td>1.727</td>\n",
       "      <td>/m/0x67</td>\n",
       "      <td>Ice Cube</td>\n",
       "      <td>32.0</td>\n",
       "      <td>/m/0jys3g</td>\n",
       "      <td>/m/0bgchn_</td>\n",
       "      <td>/m/01vw26l</td>\n",
       "    </tr>\n",
       "    <tr>\n",
       "      <th>3</th>\n",
       "      <td>975900</td>\n",
       "      <td>Sgt Jericho Butler</td>\n",
       "      <td>1967-09-12</td>\n",
       "      <td>M</td>\n",
       "      <td>1.750</td>\n",
       "      <td>NaN</td>\n",
       "      <td>Jason Statham</td>\n",
       "      <td>33.0</td>\n",
       "      <td>/m/02vchl6</td>\n",
       "      <td>/m/0bgchnq</td>\n",
       "      <td>/m/034hyc</td>\n",
       "    </tr>\n",
       "    <tr>\n",
       "      <th>4</th>\n",
       "      <td>975900</td>\n",
       "      <td>Bashira Kincaid</td>\n",
       "      <td>1977-09-25</td>\n",
       "      <td>F</td>\n",
       "      <td>1.650</td>\n",
       "      <td>NaN</td>\n",
       "      <td>Clea DuVall</td>\n",
       "      <td>23.0</td>\n",
       "      <td>/m/02vbb3r</td>\n",
       "      <td>/m/0bgchp9</td>\n",
       "      <td>/m/01y9xg</td>\n",
       "    </tr>\n",
       "  </tbody>\n",
       "</table>\n",
       "</div>"
      ],
      "text/plain": [
       "   wiki_movie_id              character_name actor_date_of_birth actor_gender  \\\n",
       "0         975900                    Akooshay          1958-08-26            F   \n",
       "1         975900  Lieutenant Melanie Ballard          1974-08-15            F   \n",
       "2         975900         Desolation Williams          1969-06-15            M   \n",
       "3         975900          Sgt Jericho Butler          1967-09-12            M   \n",
       "4         975900             Bashira Kincaid          1977-09-25            F   \n",
       "\n",
       "   actor_height actor_ethnicity          actor_name  \\\n",
       "0         1.620             NaN      Wanda De Jesus   \n",
       "1         1.780      /m/044038p  Natasha Henstridge   \n",
       "2         1.727         /m/0x67            Ice Cube   \n",
       "3         1.750             NaN       Jason Statham   \n",
       "4         1.650             NaN         Clea DuVall   \n",
       "\n",
       "   actor_age_at_movie_release freebase_character_actor_map_id  \\\n",
       "0                        42.0                      /m/0bgchxw   \n",
       "1                        27.0                       /m/0jys3m   \n",
       "2                        32.0                       /m/0jys3g   \n",
       "3                        33.0                      /m/02vchl6   \n",
       "4                        23.0                      /m/02vbb3r   \n",
       "\n",
       "  freebase_character_id freebase_actor_id  \n",
       "0            /m/0bgcj3x        /m/03wcfv7  \n",
       "1            /m/0bgchn4         /m/0346l4  \n",
       "2            /m/0bgchn_        /m/01vw26l  \n",
       "3            /m/0bgchnq         /m/034hyc  \n",
       "4            /m/0bgchp9         /m/01y9xg  "
      ]
     },
     "execution_count": 5,
     "metadata": {},
     "output_type": "execute_result"
    }
   ],
   "source": [
    "COLUMNS_NAMES_CHARACTERS = [\n",
    "    \"wiki_movie_id\",\n",
    "    \"freebase_movie_id\",\n",
    "    \"movie_release_date\",\n",
    "    \"character_name\",\n",
    "    \"actor_date_of_birth\",\n",
    "    \"actor_gender\",\n",
    "    \"actor_height\",\n",
    "    \"actor_ethnicity\",\n",
    "    \"actor_name\",\n",
    "    \"actor_age_at_movie_release\",\n",
    "    \"freebase_character_actor_map_id\",\n",
    "    \"freebase_character_id\",\n",
    "    \"freebase_actor_id\"\n",
    "]\n",
    "CHARACTER_DATA = pd.read_csv('data/character.metadata.tsv', sep='\\t', header=None, names=COLUMNS_NAMES_CHARACTERS)\n",
    "CHARACTER_DATA.drop(columns=[\"freebase_movie_id\", \"movie_release_date\"], inplace = True)\n",
    "CHARACTER_DATA.dropna(subset=[\"wiki_movie_id\", \"character_name\"], inplace=True)\n",
    "CHARACTER_DATA[\"actor_date_of_birth\"] = pd.to_datetime(CHARACTER_DATA[\"actor_date_of_birth\"], errors=\"coerce\")\n",
    "CHARACTER_DATA.head()"
   ]
  },
  {
   "cell_type": "markdown",
   "id": "d833693f",
   "metadata": {},
   "source": [
    "### Plots"
   ]
  },
  {
   "cell_type": "code",
   "execution_count": 6,
   "id": "bf1d4cf4",
   "metadata": {},
   "outputs": [
    {
     "data": {
      "text/html": [
       "<div>\n",
       "<style scoped>\n",
       "    .dataframe tbody tr th:only-of-type {\n",
       "        vertical-align: middle;\n",
       "    }\n",
       "\n",
       "    .dataframe tbody tr th {\n",
       "        vertical-align: top;\n",
       "    }\n",
       "\n",
       "    .dataframe thead th {\n",
       "        text-align: right;\n",
       "    }\n",
       "</style>\n",
       "<table border=\"1\" class=\"dataframe\">\n",
       "  <thead>\n",
       "    <tr style=\"text-align: right;\">\n",
       "      <th></th>\n",
       "      <th>wiki_plot</th>\n",
       "    </tr>\n",
       "  </thead>\n",
       "  <tbody>\n",
       "    <tr>\n",
       "      <th>23890098</th>\n",
       "      <td>Shlykov, a hard-working taxi driver and Lyosha...</td>\n",
       "    </tr>\n",
       "    <tr>\n",
       "      <th>31186339</th>\n",
       "      <td>The nation of Panem consists of a wealthy Capi...</td>\n",
       "    </tr>\n",
       "    <tr>\n",
       "      <th>20663735</th>\n",
       "      <td>Poovalli Induchoodan  is sentenced for six yea...</td>\n",
       "    </tr>\n",
       "    <tr>\n",
       "      <th>2231378</th>\n",
       "      <td>The Lemon Drop Kid , a New York City swindler,...</td>\n",
       "    </tr>\n",
       "    <tr>\n",
       "      <th>595909</th>\n",
       "      <td>Seventh-day Adventist Church pastor Michael Ch...</td>\n",
       "    </tr>\n",
       "  </tbody>\n",
       "</table>\n",
       "</div>"
      ],
      "text/plain": [
       "                                                  wiki_plot\n",
       "23890098  Shlykov, a hard-working taxi driver and Lyosha...\n",
       "31186339  The nation of Panem consists of a wealthy Capi...\n",
       "20663735  Poovalli Induchoodan  is sentenced for six yea...\n",
       "2231378   The Lemon Drop Kid , a New York City swindler,...\n",
       "595909    Seventh-day Adventist Church pastor Michael Ch..."
      ]
     },
     "execution_count": 6,
     "metadata": {},
     "output_type": "execute_result"
    }
   ],
   "source": [
    "COLUMNS_NAMES_PLOTS = [\"wiki_plot\"]\n",
    "PLOT_DATA = pd.read_csv('data/plot_summaries.txt', sep='\\t', header=None, names=COLUMNS_NAMES_PLOTS, index_col=0)\n",
    "PLOT_DATA.head()"
   ]
  },
  {
   "cell_type": "markdown",
   "id": "a23150ac",
   "metadata": {},
   "source": [
    "### Tropes"
   ]
  },
  {
   "cell_type": "code",
   "execution_count": 7,
   "id": "9d4cf7e5",
   "metadata": {},
   "outputs": [
    {
     "data": {
      "text/html": [
       "<div>\n",
       "<style scoped>\n",
       "    .dataframe tbody tr th:only-of-type {\n",
       "        vertical-align: middle;\n",
       "    }\n",
       "\n",
       "    .dataframe tbody tr th {\n",
       "        vertical-align: top;\n",
       "    }\n",
       "\n",
       "    .dataframe thead th {\n",
       "        text-align: right;\n",
       "    }\n",
       "</style>\n",
       "<table border=\"1\" class=\"dataframe\">\n",
       "  <thead>\n",
       "    <tr style=\"text-align: right;\">\n",
       "      <th></th>\n",
       "      <th>character_type</th>\n",
       "      <th>character_name</th>\n",
       "      <th>movie_name</th>\n",
       "      <th>freebase_id</th>\n",
       "      <th>actor_name</th>\n",
       "    </tr>\n",
       "  </thead>\n",
       "  <tbody>\n",
       "    <tr>\n",
       "      <th>0</th>\n",
       "      <td>absent_minded_professor</td>\n",
       "      <td>Professor Philip Brainard</td>\n",
       "      <td>Flubber</td>\n",
       "      <td>/m/0jy9q0</td>\n",
       "      <td>Robin Williams</td>\n",
       "    </tr>\n",
       "    <tr>\n",
       "      <th>1</th>\n",
       "      <td>absent_minded_professor</td>\n",
       "      <td>Professor Keenbean</td>\n",
       "      <td>Richie Rich</td>\n",
       "      <td>/m/02vchl3</td>\n",
       "      <td>Michael McShane</td>\n",
       "    </tr>\n",
       "    <tr>\n",
       "      <th>2</th>\n",
       "      <td>absent_minded_professor</td>\n",
       "      <td>Dr. Reinhardt Lane</td>\n",
       "      <td>The Shadow</td>\n",
       "      <td>/m/0k6fkc</td>\n",
       "      <td>Ian McKellen</td>\n",
       "    </tr>\n",
       "    <tr>\n",
       "      <th>3</th>\n",
       "      <td>absent_minded_professor</td>\n",
       "      <td>Dr. Harold Medford</td>\n",
       "      <td>Them!</td>\n",
       "      <td>/m/0k6_br</td>\n",
       "      <td>Edmund Gwenn</td>\n",
       "    </tr>\n",
       "    <tr>\n",
       "      <th>4</th>\n",
       "      <td>absent_minded_professor</td>\n",
       "      <td>Daniel Jackson</td>\n",
       "      <td>Stargate</td>\n",
       "      <td>/m/0k3rhh</td>\n",
       "      <td>James Spader</td>\n",
       "    </tr>\n",
       "  </tbody>\n",
       "</table>\n",
       "</div>"
      ],
      "text/plain": [
       "            character_type             character_name   movie_name  \\\n",
       "0  absent_minded_professor  Professor Philip Brainard      Flubber   \n",
       "1  absent_minded_professor         Professor Keenbean  Richie Rich   \n",
       "2  absent_minded_professor         Dr. Reinhardt Lane   The Shadow   \n",
       "3  absent_minded_professor         Dr. Harold Medford        Them!   \n",
       "4  absent_minded_professor             Daniel Jackson     Stargate   \n",
       "\n",
       "  freebase_id       actor_name  \n",
       "0   /m/0jy9q0   Robin Williams  \n",
       "1  /m/02vchl3  Michael McShane  \n",
       "2   /m/0k6fkc     Ian McKellen  \n",
       "3   /m/0k6_br     Edmund Gwenn  \n",
       "4   /m/0k3rhh     James Spader  "
      ]
     },
     "execution_count": 7,
     "metadata": {},
     "output_type": "execute_result"
    }
   ],
   "source": [
    "COLUMNS_NAMES_TROPES = [\n",
    "    \"character_type\",\n",
    "    \"object\"\n",
    "]\n",
    "TROPES_DATA = pd.read_csv(\"data/tvtropes.clusters.txt\", sep='\\t', header=None, names=COLUMNS_NAMES_TROPES)\n",
    "TROPES_DATA[\"character_name\"] = TROPES_DATA.apply(lambda x: eval(x[\"object\"])[\"char\"], axis=1)\n",
    "TROPES_DATA[\"movie_name\"] = TROPES_DATA.apply(lambda x: eval(x[\"object\"])[\"movie\"], axis=1)\n",
    "TROPES_DATA[\"freebase_id\"] = TROPES_DATA.apply(lambda x: eval(x[\"object\"])[\"id\"], axis=1)\n",
    "TROPES_DATA[\"actor_name\"] = TROPES_DATA.apply(lambda x: eval(x[\"object\"])[\"actor\"], axis=1)\n",
    "TROPES_DATA.drop(columns=[\"object\"], axis=1, inplace=True)\n",
    "TROPES_DATA.head()"
   ]
  },
  {
   "cell_type": "markdown",
   "id": "3ec0a107",
   "metadata": {},
   "source": [
    "## Merge imdb and freebase"
   ]
  },
  {
   "cell_type": "code",
   "execution_count": 8,
   "id": "c9774218",
   "metadata": {
    "scrolled": true
   },
   "outputs": [],
   "source": [
    "MOVIE_DATA = MOVIE_DATA.join(DB_DATA)"
   ]
  },
  {
   "cell_type": "markdown",
   "id": "50b513ed",
   "metadata": {},
   "source": [
    "### About box office"
   ]
  },
  {
   "cell_type": "markdown",
   "id": "a9acf71c",
   "metadata": {},
   "source": [
    "#### Parse imdb data"
   ]
  },
  {
   "cell_type": "code",
   "execution_count": 9,
   "id": "8e5b31d7",
   "metadata": {},
   "outputs": [],
   "source": [
    "def func(row):\n",
    "    if pd.isna(row):\n",
    "        return np.NaN, np.NaN, np.NaN\n",
    "    imdb_box_office = eval(row)\n",
    "    budget = imdb_box_office[\"Budget\"] if \"Budget\" in imdb_box_office.keys() else np.NaN\n",
    "    cum_world_box_office = imdb_box_office[\"Cumulative Worldwide Gross\"] if \"Cumulative Worldwide Gross\" in imdb_box_office.keys() else np.NaN\n",
    "    weekend_US_box_office = imdb_box_office[\"Opening Weekend United States\"] if \"Opening Weekend United States\" in imdb_box_office.keys() else np.NaN\n",
    "    return budget, cum_world_box_office, weekend_US_box_office\n",
    "        \n",
    "        \n",
    "MOVIE_DATA[\"budget\"], MOVIE_DATA[\"cum_world_box_office\"], MOVIE_DATA[\"weekend_US_box_office\"] = zip(*MOVIE_DATA[\"imdb_box_office\"].apply(func))            "
   ]
  },
  {
   "cell_type": "markdown",
   "id": "dbdaa448",
   "metadata": {},
   "source": [
    "#### Handle different currencies"
   ]
  },
  {
   "cell_type": "code",
   "execution_count": 10,
   "id": "f472ceee",
   "metadata": {},
   "outputs": [],
   "source": [
    "def func(val, year):\n",
    "    if pd.isna(val):\n",
    "        return np.NaN\n",
    "    price = price_parser.Price.fromstring(val)\n",
    "    if price.currency == \"$\":\n",
    "        return price.amount_float\n",
    "    try:\n",
    "        c = converter.CurrencyRates()\n",
    "        date = datetime.datetime(int(year), 1, 1, 0, 0)\n",
    "        return c.get_rate(price.currency, \"USD\", date) * price.amount_float\n",
    "    except:\n",
    "        return np.NaN\n",
    "    \n",
    "MOVIE_DATA[\"budget\"] = MOVIE_DATA.apply(lambda x: func(x[\"budget\"], x[\"movie_release_year\"]), axis=1)\n",
    "MOVIE_DATA[\"cum_world_box_office\"] = MOVIE_DATA.apply(lambda x: func(x[\"cum_world_box_office\"], x[\"movie_release_year\"]), axis=1)\n",
    "MOVIE_DATA[\"weekend_US_box_office\"] = MOVIE_DATA.apply(lambda x: func(x[\"weekend_US_box_office\"], x[\"movie_release_year\"]), axis=1)"
   ]
  },
  {
   "cell_type": "markdown",
   "id": "9c57cbbe",
   "metadata": {},
   "source": [
    "#### Compare IMDB to Freebase"
   ]
  },
  {
   "cell_type": "code",
   "execution_count": 11,
   "id": "56e19222",
   "metadata": {},
   "outputs": [
    {
     "name": "stdout",
     "output_type": "stream",
     "text": [
      "-0.13212905952193935\n",
      "-2.6568221807037284\n"
     ]
    },
    {
     "name": "stderr",
     "output_type": "stream",
     "text": [
      "C:\\Users\\edoua\\AppData\\Local\\Programs\\Python\\Python310\\lib\\site-packages\\pandas\\core\\arraylike.py:364: RuntimeWarning: divide by zero encountered in log\n",
      "  result = getattr(ufunc, method)(*inputs, **kwargs)\n"
     ]
    }
   ],
   "source": [
    "print((np.log(MOVIE_DATA[\"cum_world_box_office\"].dropna())-np.log(MOVIE_DATA[\"freebase_box_office_revenue\"].dropna())).dropna().mean())\n",
    "print((np.log(MOVIE_DATA[\"weekend_US_box_office\"].dropna())-np.log(MOVIE_DATA[\"freebase_box_office_revenue\"].dropna())).dropna().mean())"
   ]
  },
  {
   "cell_type": "code",
   "execution_count": 12,
   "id": "36a70f88",
   "metadata": {},
   "outputs": [],
   "source": [
    "MOVIE_DATA[\"box_office\"] = MOVIE_DATA[\"freebase_box_office_revenue\"]\n",
    "#MOVIE_DATA[\"box_office\"][MOVIE_DATA[\"box_office\"].isna()] = MOVIE_DATA[\"cum_world_box_office\"]\n",
    "MOVIE_DATA.drop(columns=[\"freebase_box_office_revenue\", \"imdb_box_office\", \"cum_world_box_office\", \"weekend_US_box_office\"], inplace = True)"
   ]
  },
  {
   "cell_type": "markdown",
   "id": "10f47b48",
   "metadata": {},
   "source": [
    "#### Handle inflation"
   ]
  },
  {
   "cell_type": "code",
   "execution_count": 13,
   "id": "d8396399",
   "metadata": {
    "scrolled": true
   },
   "outputs": [],
   "source": [
    "def func(val, year):\n",
    "    try:\n",
    "        return cpi.inflate(val, int(year))\n",
    "    except:\n",
    "        np.NaN\n",
    "    \n",
    "MOVIE_DATA[\"budget_inflated\"] = MOVIE_DATA.apply(lambda x: func(x[\"budget\"], x[\"movie_release_year\"]), axis=1)\n",
    "MOVIE_DATA[\"box_office_inflated\"] = MOVIE_DATA.apply(lambda x: func(x[\"box_office\"], x[\"movie_release_year\"]), axis=1)"
   ]
  },
  {
   "cell_type": "markdown",
   "id": "1d139a2c",
   "metadata": {},
   "source": [
    "### Handle languages"
   ]
  },
  {
   "cell_type": "code",
   "execution_count": 14,
   "id": "7bada660",
   "metadata": {},
   "outputs": [],
   "source": [
    "def func(freebase, imdb):\n",
    "    if isinstance(imdb, str):\n",
    "        languages = set(eval(imdb))\n",
    "    else:\n",
    "        languages = set()\n",
    "    if freebase:\n",
    "        freebase = eval(freebase)\n",
    "        for key, val in freebase.items():\n",
    "            l = val.replace(\"Language\", \"\").replace(\"language\", \"\").strip()\n",
    "            languages.update([l])\n",
    "    return languages\n",
    "\n",
    "MOVIE_DATA[\"languages\"] = MOVIE_DATA.apply(lambda x: func(x[\"freebase_languages\"], x[\"imdb_languages\"]), axis=1)\n",
    "MOVIE_DATA.drop(columns=[\"freebase_languages\", \"imdb_languages\"], inplace = True)"
   ]
  },
  {
   "cell_type": "markdown",
   "id": "d3a3227b",
   "metadata": {},
   "source": [
    "### Handle countries"
   ]
  },
  {
   "cell_type": "code",
   "execution_count": 15,
   "id": "4f4e6a6b",
   "metadata": {},
   "outputs": [],
   "source": [
    "def func(freebase, imdb):\n",
    "    if isinstance(imdb, str):\n",
    "        countries = set(eval(imdb))\n",
    "    else:\n",
    "        countries = set()\n",
    "    if freebase:\n",
    "        freebase = eval(freebase)\n",
    "        for key, val in freebase.items():\n",
    "            c = val.replace(\"of America\", \"\").strip()\n",
    "            countries.update([c])\n",
    "    return countries\n",
    "\n",
    "MOVIE_DATA[\"countries\"] = MOVIE_DATA.apply(lambda x: func(x[\"freebase_countries\"], x[\"imdb_countries\"]), axis=1)\n",
    "MOVIE_DATA.drop(columns=[\"freebase_countries\", \"imdb_countries\"], inplace = True)"
   ]
  },
  {
   "cell_type": "markdown",
   "id": "4b3670c0",
   "metadata": {},
   "source": [
    "### Handle genres"
   ]
  },
  {
   "cell_type": "code",
   "execution_count": 16,
   "id": "ffd1a19c",
   "metadata": {},
   "outputs": [],
   "source": [
    "def func(freebase, imdb):\n",
    "    if isinstance(imdb, str):\n",
    "        genres = set(eval(imdb))\n",
    "    else:\n",
    "        genres = set()\n",
    "    if freebase:\n",
    "        freebase = eval(freebase)\n",
    "        for key, val in freebase.items():\n",
    "            g = val.strip()\n",
    "            genres.update([g])\n",
    "    return genres\n",
    "\n",
    "MOVIE_DATA[\"genres\"] = MOVIE_DATA.apply(lambda x: func(x[\"freebase_genres\"], x[\"imdb_genres\"]), axis=1)\n",
    "MOVIE_DATA.drop(columns=[\"freebase_genres\", \"imdb_genres\"], inplace = True)\n",
    "MOVIE_DATA.drop(MOVIE_DATA[MOVIE_DATA[\"genres\"].map(lambda x: \"Short Film\" in x)].index, inplace=True)"
   ]
  },
  {
   "cell_type": "markdown",
   "id": "17333539",
   "metadata": {},
   "source": [
    "### Handle runtime"
   ]
  },
  {
   "cell_type": "code",
   "execution_count": 17,
   "id": "eef34194",
   "metadata": {},
   "outputs": [],
   "source": [
    "def func(freebase, imdb):\n",
    "    if not isinstance(imdb, str):\n",
    "        return freebase if not np.isnan(freebase) else np.NaN\n",
    "    imdb = eval(imdb)\n",
    "    if not freebase:\n",
    "        return float(imdb[0])\n",
    "    if freebase in imdb:\n",
    "        return freebase   \n",
    "    return float(imdb[0])\n",
    "\n",
    "MOVIE_DATA[\"runtime\"] = MOVIE_DATA.apply(lambda x: func(x[\"freebase_runtime\"], x[\"imdb_runtimes\"]), axis=1)\n",
    "MOVIE_DATA.drop(columns=[\"freebase_runtime\", \"imdb_runtimes\"], inplace = True)\n",
    "MOVIE_DATA[MOVIE_DATA[\"runtime\"] > 360] = np.NaN"
   ]
  },
  {
   "cell_type": "markdown",
   "id": "aa30a55a",
   "metadata": {},
   "source": [
    "### Change column datatypes"
   ]
  },
  {
   "cell_type": "code",
   "execution_count": 18,
   "id": "ed9035b9",
   "metadata": {},
   "outputs": [],
   "source": [
    "def func(val):\n",
    "    if isinstance(val, str):\n",
    "        return set(eval(val))\n",
    "    else:\n",
    "        return np.NaN\n",
    "\n",
    "MOVIE_DATA[\"imdb_plot\"] = MOVIE_DATA[\"imdb_plot\"].apply(func)\n",
    "MOVIE_DATA[\"imdb_synopsis\"] = MOVIE_DATA[\"imdb_synopsis\"].apply(func)"
   ]
  },
  {
   "cell_type": "markdown",
   "id": "c74723a2",
   "metadata": {},
   "source": [
    "### Add wikipedia plots"
   ]
  },
  {
   "cell_type": "code",
   "execution_count": 19,
   "id": "93091e5f",
   "metadata": {},
   "outputs": [],
   "source": [
    "MOVIE_DATA = MOVIE_DATA.join(PLOT_DATA, how=\"left\")"
   ]
  },
  {
   "cell_type": "markdown",
   "id": "ca5b1013",
   "metadata": {},
   "source": [
    "### Find main characters"
   ]
  },
  {
   "cell_type": "code",
   "execution_count": 20,
   "id": "3801aa1e",
   "metadata": {},
   "outputs": [],
   "source": [
    "def func(i, imdb_plot, imdb_synopsis, wiki_plot):\n",
    "    characters = CHARACTER_DATA[CHARACTER_DATA[\"wiki_movie_id\"] == i]\n",
    "    if characters.shape[0] == 0:\n",
    "        return []\n",
    "    bigplot = \"\"\n",
    "    if isinstance(imdb_plot, set):\n",
    "        bigplot = bigplot + \" \" + \" \".join(imdb_plot)\n",
    "    if isinstance(imdb_synopsis, set):\n",
    "        bigplot = bigplot + \" \" + \" \".join(imdb_synopsis)\n",
    "    if isinstance(wiki_plot, str):\n",
    "        bigplot = bigplot + wiki_plot\n",
    "    if bigplot == \"\":\n",
    "        return []\n",
    "    bigplot = bigplot.casefold()\n",
    "    occurences = []\n",
    "    for c, character in characters.iterrows():\n",
    "        localcount = 0\n",
    "        for c_part in character[\"character_name\"].casefold().split():\n",
    "            localcount += bigplot.count(c_part.strip())\n",
    "        occurences.append(localcount)\n",
    "    if max(occurences) == 0:\n",
    "        return []\n",
    "    return list(characters.iloc[[idx for idx, val in enumerate(occurences) if val == max(occurences)]][\"freebase_character_actor_map_id\"])\n",
    "\n",
    "MOVIE_DATA[\"main_characters\"] = MOVIE_DATA.apply(lambda x: func(x.name, x[\"imdb_plot\"], x[\"imdb_synopsis\"], x[\"wiki_plot\"]), axis=1)"
   ]
  },
  {
   "cell_type": "markdown",
   "id": "c1463b26",
   "metadata": {},
   "source": [
    "### Add tropes to characters"
   ]
  },
  {
   "cell_type": "code",
   "execution_count": 21,
   "id": "81a8fa60",
   "metadata": {},
   "outputs": [
    {
     "data": {
      "text/html": [
       "<div>\n",
       "<style scoped>\n",
       "    .dataframe tbody tr th:only-of-type {\n",
       "        vertical-align: middle;\n",
       "    }\n",
       "\n",
       "    .dataframe tbody tr th {\n",
       "        vertical-align: top;\n",
       "    }\n",
       "\n",
       "    .dataframe thead th {\n",
       "        text-align: right;\n",
       "    }\n",
       "</style>\n",
       "<table border=\"1\" class=\"dataframe\">\n",
       "  <thead>\n",
       "    <tr style=\"text-align: right;\">\n",
       "      <th></th>\n",
       "      <th>wiki_movie_id</th>\n",
       "      <th>character_name</th>\n",
       "      <th>actor_date_of_birth</th>\n",
       "      <th>actor_gender</th>\n",
       "      <th>actor_height</th>\n",
       "      <th>actor_ethnicity</th>\n",
       "      <th>actor_name</th>\n",
       "      <th>actor_age_at_movie_release</th>\n",
       "      <th>freebase_character_actor_map_id</th>\n",
       "      <th>freebase_character_id</th>\n",
       "      <th>freebase_actor_id</th>\n",
       "    </tr>\n",
       "  </thead>\n",
       "  <tbody>\n",
       "    <tr>\n",
       "      <th>0</th>\n",
       "      <td>975900</td>\n",
       "      <td>Akooshay</td>\n",
       "      <td>1958-08-26</td>\n",
       "      <td>F</td>\n",
       "      <td>1.620</td>\n",
       "      <td>NaN</td>\n",
       "      <td>Wanda De Jesus</td>\n",
       "      <td>42.0</td>\n",
       "      <td>/m/0bgchxw</td>\n",
       "      <td>/m/0bgcj3x</td>\n",
       "      <td>/m/03wcfv7</td>\n",
       "    </tr>\n",
       "    <tr>\n",
       "      <th>1</th>\n",
       "      <td>975900</td>\n",
       "      <td>Lieutenant Melanie Ballard</td>\n",
       "      <td>1974-08-15</td>\n",
       "      <td>F</td>\n",
       "      <td>1.780</td>\n",
       "      <td>/m/044038p</td>\n",
       "      <td>Natasha Henstridge</td>\n",
       "      <td>27.0</td>\n",
       "      <td>/m/0jys3m</td>\n",
       "      <td>/m/0bgchn4</td>\n",
       "      <td>/m/0346l4</td>\n",
       "    </tr>\n",
       "    <tr>\n",
       "      <th>2</th>\n",
       "      <td>975900</td>\n",
       "      <td>Desolation Williams</td>\n",
       "      <td>1969-06-15</td>\n",
       "      <td>M</td>\n",
       "      <td>1.727</td>\n",
       "      <td>/m/0x67</td>\n",
       "      <td>Ice Cube</td>\n",
       "      <td>32.0</td>\n",
       "      <td>/m/0jys3g</td>\n",
       "      <td>/m/0bgchn_</td>\n",
       "      <td>/m/01vw26l</td>\n",
       "    </tr>\n",
       "    <tr>\n",
       "      <th>3</th>\n",
       "      <td>975900</td>\n",
       "      <td>Sgt Jericho Butler</td>\n",
       "      <td>1967-09-12</td>\n",
       "      <td>M</td>\n",
       "      <td>1.750</td>\n",
       "      <td>NaN</td>\n",
       "      <td>Jason Statham</td>\n",
       "      <td>33.0</td>\n",
       "      <td>/m/02vchl6</td>\n",
       "      <td>/m/0bgchnq</td>\n",
       "      <td>/m/034hyc</td>\n",
       "    </tr>\n",
       "    <tr>\n",
       "      <th>4</th>\n",
       "      <td>975900</td>\n",
       "      <td>Bashira Kincaid</td>\n",
       "      <td>1977-09-25</td>\n",
       "      <td>F</td>\n",
       "      <td>1.650</td>\n",
       "      <td>NaN</td>\n",
       "      <td>Clea DuVall</td>\n",
       "      <td>23.0</td>\n",
       "      <td>/m/02vbb3r</td>\n",
       "      <td>/m/0bgchp9</td>\n",
       "      <td>/m/01y9xg</td>\n",
       "    </tr>\n",
       "  </tbody>\n",
       "</table>\n",
       "</div>"
      ],
      "text/plain": [
       "   wiki_movie_id              character_name actor_date_of_birth actor_gender  \\\n",
       "0         975900                    Akooshay          1958-08-26            F   \n",
       "1         975900  Lieutenant Melanie Ballard          1974-08-15            F   \n",
       "2         975900         Desolation Williams          1969-06-15            M   \n",
       "3         975900          Sgt Jericho Butler          1967-09-12            M   \n",
       "4         975900             Bashira Kincaid          1977-09-25            F   \n",
       "\n",
       "   actor_height actor_ethnicity          actor_name  \\\n",
       "0         1.620             NaN      Wanda De Jesus   \n",
       "1         1.780      /m/044038p  Natasha Henstridge   \n",
       "2         1.727         /m/0x67            Ice Cube   \n",
       "3         1.750             NaN       Jason Statham   \n",
       "4         1.650             NaN         Clea DuVall   \n",
       "\n",
       "   actor_age_at_movie_release freebase_character_actor_map_id  \\\n",
       "0                        42.0                      /m/0bgchxw   \n",
       "1                        27.0                       /m/0jys3m   \n",
       "2                        32.0                       /m/0jys3g   \n",
       "3                        33.0                      /m/02vchl6   \n",
       "4                        23.0                      /m/02vbb3r   \n",
       "\n",
       "  freebase_character_id freebase_actor_id  \n",
       "0            /m/0bgcj3x        /m/03wcfv7  \n",
       "1            /m/0bgchn4         /m/0346l4  \n",
       "2            /m/0bgchn_        /m/01vw26l  \n",
       "3            /m/0bgchnq         /m/034hyc  \n",
       "4            /m/0bgchp9         /m/01y9xg  "
      ]
     },
     "execution_count": 21,
     "metadata": {},
     "output_type": "execute_result"
    }
   ],
   "source": [
    "#CHARACTER_DATA = CHARACTER_DATA.join(TROPES_DATA.set_index([\"character_name\", \"actor_name\"]), on=[\"character_name\", \"actor_name\"])\n",
    "CHARACTER_DATA.head()"
   ]
  },
  {
   "cell_type": "code",
   "execution_count": 22,
   "id": "607b0ca1",
   "metadata": {},
   "outputs": [
    {
     "data": {
      "text/html": [
       "<div>\n",
       "<style scoped>\n",
       "    .dataframe tbody tr th:only-of-type {\n",
       "        vertical-align: middle;\n",
       "    }\n",
       "\n",
       "    .dataframe tbody tr th {\n",
       "        vertical-align: top;\n",
       "    }\n",
       "\n",
       "    .dataframe thead th {\n",
       "        text-align: right;\n",
       "    }\n",
       "</style>\n",
       "<table border=\"1\" class=\"dataframe\">\n",
       "  <thead>\n",
       "    <tr style=\"text-align: right;\">\n",
       "      <th></th>\n",
       "      <th>character_type</th>\n",
       "      <th>character_name</th>\n",
       "      <th>movie_name</th>\n",
       "      <th>freebase_id</th>\n",
       "      <th>actor_name</th>\n",
       "    </tr>\n",
       "  </thead>\n",
       "  <tbody>\n",
       "    <tr>\n",
       "      <th>0</th>\n",
       "      <td>absent_minded_professor</td>\n",
       "      <td>Professor Philip Brainard</td>\n",
       "      <td>Flubber</td>\n",
       "      <td>/m/0jy9q0</td>\n",
       "      <td>Robin Williams</td>\n",
       "    </tr>\n",
       "    <tr>\n",
       "      <th>1</th>\n",
       "      <td>absent_minded_professor</td>\n",
       "      <td>Professor Keenbean</td>\n",
       "      <td>Richie Rich</td>\n",
       "      <td>/m/02vchl3</td>\n",
       "      <td>Michael McShane</td>\n",
       "    </tr>\n",
       "    <tr>\n",
       "      <th>2</th>\n",
       "      <td>absent_minded_professor</td>\n",
       "      <td>Dr. Reinhardt Lane</td>\n",
       "      <td>The Shadow</td>\n",
       "      <td>/m/0k6fkc</td>\n",
       "      <td>Ian McKellen</td>\n",
       "    </tr>\n",
       "    <tr>\n",
       "      <th>3</th>\n",
       "      <td>absent_minded_professor</td>\n",
       "      <td>Dr. Harold Medford</td>\n",
       "      <td>Them!</td>\n",
       "      <td>/m/0k6_br</td>\n",
       "      <td>Edmund Gwenn</td>\n",
       "    </tr>\n",
       "    <tr>\n",
       "      <th>4</th>\n",
       "      <td>absent_minded_professor</td>\n",
       "      <td>Daniel Jackson</td>\n",
       "      <td>Stargate</td>\n",
       "      <td>/m/0k3rhh</td>\n",
       "      <td>James Spader</td>\n",
       "    </tr>\n",
       "  </tbody>\n",
       "</table>\n",
       "</div>"
      ],
      "text/plain": [
       "            character_type             character_name   movie_name  \\\n",
       "0  absent_minded_professor  Professor Philip Brainard      Flubber   \n",
       "1  absent_minded_professor         Professor Keenbean  Richie Rich   \n",
       "2  absent_minded_professor         Dr. Reinhardt Lane   The Shadow   \n",
       "3  absent_minded_professor         Dr. Harold Medford        Them!   \n",
       "4  absent_minded_professor             Daniel Jackson     Stargate   \n",
       "\n",
       "  freebase_id       actor_name  \n",
       "0   /m/0jy9q0   Robin Williams  \n",
       "1  /m/02vchl3  Michael McShane  \n",
       "2   /m/0k6fkc     Ian McKellen  \n",
       "3   /m/0k6_br     Edmund Gwenn  \n",
       "4   /m/0k3rhh     James Spader  "
      ]
     },
     "execution_count": 22,
     "metadata": {},
     "output_type": "execute_result"
    }
   ],
   "source": [
    "TROPES_DATA.head()"
   ]
  },
  {
   "cell_type": "markdown",
   "id": "8278241a",
   "metadata": {},
   "source": [
    "### Rearrange columns"
   ]
  },
  {
   "cell_type": "code",
   "execution_count": 23,
   "id": "62dfd36b",
   "metadata": {},
   "outputs": [
    {
     "data": {
      "text/html": [
       "<div>\n",
       "<style scoped>\n",
       "    .dataframe tbody tr th:only-of-type {\n",
       "        vertical-align: middle;\n",
       "    }\n",
       "\n",
       "    .dataframe tbody tr th {\n",
       "        vertical-align: top;\n",
       "    }\n",
       "\n",
       "    .dataframe thead th {\n",
       "        text-align: right;\n",
       "    }\n",
       "</style>\n",
       "<table border=\"1\" class=\"dataframe\">\n",
       "  <thead>\n",
       "    <tr style=\"text-align: right;\">\n",
       "      <th></th>\n",
       "      <th>movie_name</th>\n",
       "      <th>movie_release_date</th>\n",
       "      <th>movie_release_year</th>\n",
       "      <th>runtime</th>\n",
       "      <th>imdb_rating</th>\n",
       "      <th>imdb_votes</th>\n",
       "      <th>languages</th>\n",
       "      <th>countries</th>\n",
       "      <th>genres</th>\n",
       "      <th>budget</th>\n",
       "      <th>budget_inflated</th>\n",
       "      <th>box_office</th>\n",
       "      <th>box_office_inflated</th>\n",
       "      <th>imdb_plot</th>\n",
       "      <th>imdb_synopsis</th>\n",
       "      <th>wiki_plot</th>\n",
       "      <th>main_characters</th>\n",
       "    </tr>\n",
       "  </thead>\n",
       "  <tbody>\n",
       "    <tr>\n",
       "      <th>975900</th>\n",
       "      <td>Ghosts of Mars</td>\n",
       "      <td>2001-08-24</td>\n",
       "      <td>2001.0</td>\n",
       "      <td>98.0</td>\n",
       "      <td>4.9</td>\n",
       "      <td>55370.0</td>\n",
       "      <td>{English}</td>\n",
       "      <td>{United States}</td>\n",
       "      <td>{Thriller, Supernatural, Space western, Advent...</td>\n",
       "      <td>28000000.0</td>\n",
       "      <td>4.284111e+07</td>\n",
       "      <td>14010832.0</td>\n",
       "      <td>2.143713e+07</td>\n",
       "      <td>{200 years in the future a Martian police unit...</td>\n",
       "      <td>{200 years in the future, Mars has been coloni...</td>\n",
       "      <td>Set in the second half of the 22nd century, th...</td>\n",
       "      <td>[/m/0jys3m]</td>\n",
       "    </tr>\n",
       "    <tr>\n",
       "      <th>3196793</th>\n",
       "      <td>Getting Away with Murder: The JonBenét Ramsey ...</td>\n",
       "      <td>2000-02-16</td>\n",
       "      <td>2000.0</td>\n",
       "      <td>95.0</td>\n",
       "      <td>NaN</td>\n",
       "      <td>NaN</td>\n",
       "      <td>{English}</td>\n",
       "      <td>{United States}</td>\n",
       "      <td>{Mystery, Drama, Crime Drama, Biographical film}</td>\n",
       "      <td>NaN</td>\n",
       "      <td>NaN</td>\n",
       "      <td>NaN</td>\n",
       "      <td>NaN</td>\n",
       "      <td>NaN</td>\n",
       "      <td>NaN</td>\n",
       "      <td>NaN</td>\n",
       "      <td>[]</td>\n",
       "    </tr>\n",
       "    <tr>\n",
       "      <th>28463795</th>\n",
       "      <td>Brun bitter</td>\n",
       "      <td>1988-01-01</td>\n",
       "      <td>1988.0</td>\n",
       "      <td>83.0</td>\n",
       "      <td>5.7</td>\n",
       "      <td>40.0</td>\n",
       "      <td>{Norwegian}</td>\n",
       "      <td>{Norway}</td>\n",
       "      <td>{Drama, Crime Fiction, Crime}</td>\n",
       "      <td>NaN</td>\n",
       "      <td>NaN</td>\n",
       "      <td>NaN</td>\n",
       "      <td>NaN</td>\n",
       "      <td>{The lonely, divorced and disillusioned lawyer...</td>\n",
       "      <td>NaN</td>\n",
       "      <td>NaN</td>\n",
       "      <td>[]</td>\n",
       "    </tr>\n",
       "    <tr>\n",
       "      <th>9363483</th>\n",
       "      <td>White Of The Eye</td>\n",
       "      <td>1987-01-01</td>\n",
       "      <td>1987.0</td>\n",
       "      <td>110.0</td>\n",
       "      <td>NaN</td>\n",
       "      <td>NaN</td>\n",
       "      <td>{English}</td>\n",
       "      <td>{United Kingdom}</td>\n",
       "      <td>{Erotic thriller, Thriller, Psychological thri...</td>\n",
       "      <td>NaN</td>\n",
       "      <td>NaN</td>\n",
       "      <td>NaN</td>\n",
       "      <td>NaN</td>\n",
       "      <td>NaN</td>\n",
       "      <td>NaN</td>\n",
       "      <td>A series of murders of rich young women throug...</td>\n",
       "      <td>[]</td>\n",
       "    </tr>\n",
       "    <tr>\n",
       "      <th>261236</th>\n",
       "      <td>A Woman in Flames</td>\n",
       "      <td>1983-01-01</td>\n",
       "      <td>1983.0</td>\n",
       "      <td>106.0</td>\n",
       "      <td>6.0</td>\n",
       "      <td>591.0</td>\n",
       "      <td>{German}</td>\n",
       "      <td>{West Germany, Germany}</td>\n",
       "      <td>{Drama}</td>\n",
       "      <td>NaN</td>\n",
       "      <td>NaN</td>\n",
       "      <td>NaN</td>\n",
       "      <td>NaN</td>\n",
       "      <td>{Eva, an upper-class housewife, frustratingly ...</td>\n",
       "      <td>NaN</td>\n",
       "      <td>Eva, an upper class housewife, becomes frustra...</td>\n",
       "      <td>[]</td>\n",
       "    </tr>\n",
       "  </tbody>\n",
       "</table>\n",
       "</div>"
      ],
      "text/plain": [
       "                                                 movie_name  \\\n",
       "975900                                       Ghosts of Mars   \n",
       "3196793   Getting Away with Murder: The JonBenét Ramsey ...   \n",
       "28463795                                        Brun bitter   \n",
       "9363483                                    White Of The Eye   \n",
       "261236                                    A Woman in Flames   \n",
       "\n",
       "         movie_release_date  movie_release_year  runtime  imdb_rating  \\\n",
       "975900           2001-08-24              2001.0     98.0          4.9   \n",
       "3196793          2000-02-16              2000.0     95.0          NaN   \n",
       "28463795         1988-01-01              1988.0     83.0          5.7   \n",
       "9363483          1987-01-01              1987.0    110.0          NaN   \n",
       "261236           1983-01-01              1983.0    106.0          6.0   \n",
       "\n",
       "          imdb_votes    languages                countries  \\\n",
       "975900       55370.0    {English}          {United States}   \n",
       "3196793          NaN    {English}          {United States}   \n",
       "28463795        40.0  {Norwegian}                 {Norway}   \n",
       "9363483          NaN    {English}         {United Kingdom}   \n",
       "261236         591.0     {German}  {West Germany, Germany}   \n",
       "\n",
       "                                                     genres      budget  \\\n",
       "975900    {Thriller, Supernatural, Space western, Advent...  28000000.0   \n",
       "3196793    {Mystery, Drama, Crime Drama, Biographical film}         NaN   \n",
       "28463795                      {Drama, Crime Fiction, Crime}         NaN   \n",
       "9363483   {Erotic thriller, Thriller, Psychological thri...         NaN   \n",
       "261236                                              {Drama}         NaN   \n",
       "\n",
       "          budget_inflated  box_office  box_office_inflated  \\\n",
       "975900       4.284111e+07  14010832.0         2.143713e+07   \n",
       "3196793               NaN         NaN                  NaN   \n",
       "28463795              NaN         NaN                  NaN   \n",
       "9363483               NaN         NaN                  NaN   \n",
       "261236                NaN         NaN                  NaN   \n",
       "\n",
       "                                                  imdb_plot  \\\n",
       "975900    {200 years in the future a Martian police unit...   \n",
       "3196793                                                 NaN   \n",
       "28463795  {The lonely, divorced and disillusioned lawyer...   \n",
       "9363483                                                 NaN   \n",
       "261236    {Eva, an upper-class housewife, frustratingly ...   \n",
       "\n",
       "                                              imdb_synopsis  \\\n",
       "975900    {200 years in the future, Mars has been coloni...   \n",
       "3196793                                                 NaN   \n",
       "28463795                                                NaN   \n",
       "9363483                                                 NaN   \n",
       "261236                                                  NaN   \n",
       "\n",
       "                                                  wiki_plot main_characters  \n",
       "975900    Set in the second half of the 22nd century, th...     [/m/0jys3m]  \n",
       "3196793                                                 NaN              []  \n",
       "28463795                                                NaN              []  \n",
       "9363483   A series of murders of rich young women throug...              []  \n",
       "261236    Eva, an upper class housewife, becomes frustra...              []  "
      ]
     },
     "execution_count": 23,
     "metadata": {},
     "output_type": "execute_result"
    }
   ],
   "source": [
    "COLUMNS_NAMES_MOVIES = [\"movie_name\", \"movie_release_date\", \"movie_release_year\", \"runtime\", \"imdb_rating\", \"imdb_votes\", \"languages\", \"countries\", \"genres\", \"budget\", \"budget_inflated\", \"box_office\", \"box_office_inflated\", \"imdb_plot\", \"imdb_synopsis\", \"wiki_plot\", \"main_characters\"]\n",
    "MOVIE_DATA = MOVIE_DATA[COLUMNS_NAMES_MOVIES]\n",
    "MOVIE_DATA.head()"
   ]
  },
  {
   "cell_type": "markdown",
   "id": "ba6bd9bd",
   "metadata": {},
   "source": [
    "## Dump to csv"
   ]
  },
  {
   "cell_type": "code",
   "execution_count": 24,
   "id": "f8d0f430",
   "metadata": {},
   "outputs": [],
   "source": [
    "MOVIE_DATA.to_csv(\"data/movie_processed.csv\")"
   ]
  },
  {
   "cell_type": "markdown",
   "id": "5c27b2cc",
   "metadata": {},
   "source": [
    "# About the dataset"
   ]
  },
  {
   "cell_type": "code",
   "execution_count": 25,
   "id": "a786f656",
   "metadata": {},
   "outputs": [
    {
     "data": {
      "image/png": "[encoded data removed]",
      "text/plain": [
       "<Figure size 432x288 with 1 Axes>"
      ]
     },
     "metadata": {
      "needs_background": "light"
     },
     "output_type": "display_data"
    }
   ],
   "source": [
    "fig, ax = plt.subplots()\n",
    "ax.hist(MOVIE_DATA[\"movie_release_year\"],bins=int(max(MOVIE_DATA[\"movie_release_year\"])-min(MOVIE_DATA[\"movie_release_year\"])+1), color=\"blue\")\n",
    "ax.set_xlabel(\"Year\")\n",
    "ax.set_ylabel(\"Number of movies\")\n",
    "ax.set_title(\"Movie production evolution\")\n",
    "plt.show()"
   ]
  },
  {
   "cell_type": "code",
   "execution_count": 26,
   "id": "ee009b23",
   "metadata": {},
   "outputs": [
    {
     "data": {
      "image/png": "[encoded data removed]",
      "text/plain": [
       "<Figure size 360x720 with 1 Axes>"
      ]
     },
     "metadata": {
      "needs_background": "light"
     },
     "output_type": "display_data"
    }
   ],
   "source": [
    "country_data = MOVIE_DATA[\"countries\"].explode().value_counts()[:20].sort_values(ascending=True)\n",
    "fig, ax = plt.subplots(figsize=(5,10))\n",
    "ax.barh(country_data.index, country_data.values, color=\"blue\")\n",
    "ax.set_ylabel(\"Country\")\n",
    "ax.set_xlabel(\"Number of movies\")\n",
    "ax.set_title(\"Movie countries\")\n",
    "plt.show()"
   ]
  },
  {
   "cell_type": "code",
   "execution_count": 27,
   "id": "b5de87f3",
   "metadata": {},
   "outputs": [
    {
     "data": {
      "image/png": "[encoded data removed]",
      "text/plain": [
       "<Figure size 360x720 with 1 Axes>"
      ]
     },
     "metadata": {
      "needs_background": "light"
     },
     "output_type": "display_data"
    }
   ],
   "source": [
    "language_data = MOVIE_DATA[\"languages\"].explode().value_counts()[:20].sort_values(ascending=True)\n",
    "fig, ax = plt.subplots(figsize=(5,10))\n",
    "ax.barh(language_data.index, language_data.values, color=\"blue\")\n",
    "ax.set_ylabel(\"Language\")\n",
    "ax.set_xlabel(\"Number of movies\")\n",
    "ax.set_title(\"Movie languages\")\n",
    "plt.show()"
   ]
  },
  {
   "cell_type": "code",
   "execution_count": 28,
   "id": "4ecf2afc",
   "metadata": {
    "scrolled": true
   },
   "outputs": [
    {
     "data": {
      "image/png": "[encoded data removed]",
      "text/plain": [
       "<Figure size 360x720 with 1 Axes>"
      ]
     },
     "metadata": {
      "needs_background": "light"
     },
     "output_type": "display_data"
    }
   ],
   "source": [
    "genre_data = MOVIE_DATA[\"genres\"].explode().value_counts()[:20].sort_values(ascending=True)\n",
    "fig, ax = plt.subplots(figsize=(5,10))\n",
    "ax.barh(genre_data.index, genre_data.values, color=\"blue\")\n",
    "ax.set_ylabel(\"Genre\")\n",
    "ax.set_xlabel(\"Number of movies\")\n",
    "ax.set_title(\"Movie genres\")\n",
    "plt.show()"
   ]
  },
  {
   "cell_type": "markdown",
   "id": "0f764b0d",
   "metadata": {},
   "source": [
    "# Analysis of movie production evolution"
   ]
  },
  {
   "cell_type": "markdown",
   "id": "8804e6e7",
   "metadata": {},
   "source": [
    "## Runtime analysis"
   ]
  },
  {
   "cell_type": "code",
   "execution_count": 29,
   "id": "cfca5be2",
   "metadata": {},
   "outputs": [
    {
     "data": {
      "image/png": "[encoded data removed]",
      "text/plain": [
       "<Figure size 432x288 with 1 Axes>"
      ]
     },
     "metadata": {
      "needs_background": "light"
     },
     "output_type": "display_data"
    }
   ],
   "source": [
    "df_runtime = MOVIE_DATA[[\"movie_release_year\", \"runtime\"]]\n",
    "des_runtime = df_runtime.groupby(\"movie_release_year\").describe()[\"runtime\"]\n",
    "des_runtime = des_runtime[des_runtime[\"count\"] >= 5]\n",
    "plt.fill_between(des_runtime.index, des_runtime[\"25%\"], des_runtime[\"75%\"], alpha = 0.5, color = 'gray')\n",
    "plt.plot(des_runtime.index, des_runtime[\"50%\"], color = 'black')\n",
    "plt.xlabel('Year')\n",
    "plt.ylabel('Runtime (min)')\n",
    "plt.title('Runtime evolution')\n",
    "plt.show()"
   ]
  },
  {
   "cell_type": "code",
   "execution_count": 30,
   "id": "1cf6cc17",
   "metadata": {
    "scrolled": true
   },
   "outputs": [
    {
     "data": {
      "image/png": "[encoded data removed]",
      "text/plain": [
       "<Figure size 432x288 with 1 Axes>"
      ]
     },
     "metadata": {
      "needs_background": "light"
     },
     "output_type": "display_data"
    }
   ],
   "source": [
    "plt.fill_between(des_runtime.index, des_runtime[\"mean\"]-des_runtime[\"std\"], des_runtime[\"mean\"]+des_runtime[\"std\"], alpha = 0.5, color = 'gray')\n",
    "plt.plot(des_runtime[\"mean\"], color = 'black')\n",
    "plt.xlabel('Year')\n",
    "plt.ylabel('Runtime (min)')\n",
    "plt.title('Runtime evolution')\n",
    "plt.show()"
   ]
  },
  {
   "cell_type": "markdown",
   "id": "ecbc1071",
   "metadata": {},
   "source": [
    "## Genres analysis"
   ]
  },
  {
   "cell_type": "code",
   "execution_count": 31,
   "id": "b7459189",
   "metadata": {},
   "outputs": [],
   "source": [
    "df_genre = []\n",
    "movie_norm_factor = MOVIE_DATA[\"movie_release_year\"].value_counts()\n",
    "for year in movie_norm_factor.index:\n",
    "    row = []\n",
    "    for genre in genre_data.index:\n",
    "        matched = MOVIE_DATA[MOVIE_DATA[\"movie_release_year\"] == year]\n",
    "        matched = matched[matched[\"genres\"].apply(lambda x: genre in x)]\n",
    "        if len(matched):\n",
    "            row.append(matched.count()[\"genres\"])\n",
    "        else:\n",
    "            row.append(0)\n",
    "    row = np.asarray(row) / movie_norm_factor[year]\n",
    "    df_genre.append(row)\n",
    "df_genre = pd.DataFrame(df_genre, index = movie_norm_factor.index, columns=genre_data.index).sort_index()"
   ]
  },
  {
   "cell_type": "code",
   "execution_count": 32,
   "id": "3051c708",
   "metadata": {},
   "outputs": [
    {
     "data": {
      "text/plain": [
       "<AxesSubplot:>"
      ]
     },
     "execution_count": 32,
     "metadata": {},
     "output_type": "execute_result"
    },
    {
     "data": {
      "image/png": "[encoded data removed]",
      "text/plain": [
       "<Figure size 432x288 with 2 Axes>"
      ]
     },
     "metadata": {
      "needs_background": "light"
     },
     "output_type": "display_data"
    }
   ],
   "source": [
    "df_genre_newer = df_genre[df_genre.index > 1919]\n",
    "sns.heatmap(df_genre_newer)"
   ]
  },
  {
   "cell_type": "markdown",
   "id": "0df652ef",
   "metadata": {},
   "source": [
    "## Main character analysis"
   ]
  },
  {
   "cell_type": "code",
   "execution_count": 33,
   "id": "02eb14e1",
   "metadata": {},
   "outputs": [
    {
     "data": {
      "text/html": [
       "<div>\n",
       "<style scoped>\n",
       "    .dataframe tbody tr th:only-of-type {\n",
       "        vertical-align: middle;\n",
       "    }\n",
       "\n",
       "    .dataframe tbody tr th {\n",
       "        vertical-align: top;\n",
       "    }\n",
       "\n",
       "    .dataframe thead th {\n",
       "        text-align: right;\n",
       "    }\n",
       "</style>\n",
       "<table border=\"1\" class=\"dataframe\">\n",
       "  <thead>\n",
       "    <tr style=\"text-align: right;\">\n",
       "      <th></th>\n",
       "      <th>movie_release_year</th>\n",
       "      <th>genres</th>\n",
       "      <th>main_characters</th>\n",
       "      <th>actor_gender</th>\n",
       "      <th>actor_height</th>\n",
       "      <th>actor_age_at_movie_release</th>\n",
       "    </tr>\n",
       "  </thead>\n",
       "  <tbody>\n",
       "    <tr>\n",
       "      <th>975900</th>\n",
       "      <td>2001.0</td>\n",
       "      <td>{Thriller, Supernatural, Space western, Advent...</td>\n",
       "      <td>/m/0jys3m</td>\n",
       "      <td>F</td>\n",
       "      <td>1.780</td>\n",
       "      <td>27.0</td>\n",
       "    </tr>\n",
       "    <tr>\n",
       "      <th>18998739</th>\n",
       "      <td>2002.0</td>\n",
       "      <td>{Family Film, World cinema, Fantasy, Adventure}</td>\n",
       "      <td>/m/04lrj09</td>\n",
       "      <td>F</td>\n",
       "      <td>1.727</td>\n",
       "      <td>41.0</td>\n",
       "    </tr>\n",
       "    <tr>\n",
       "      <th>10408933</th>\n",
       "      <td>1938.0</td>\n",
       "      <td>{Musical, Drama, Black-and-white, Music, Roman...</td>\n",
       "      <td>/m/02vbvj2</td>\n",
       "      <td>M</td>\n",
       "      <td>1.820</td>\n",
       "      <td>24.0</td>\n",
       "    </tr>\n",
       "    <tr>\n",
       "      <th>6631279</th>\n",
       "      <td>1997.0</td>\n",
       "      <td>{Romantic comedy, Ensemble Film, Drama, Comedy...</td>\n",
       "      <td>/m/04hvbft</td>\n",
       "      <td>F</td>\n",
       "      <td>1.570</td>\n",
       "      <td>37.0</td>\n",
       "    </tr>\n",
       "    <tr>\n",
       "      <th>171005</th>\n",
       "      <td>1989.0</td>\n",
       "      <td>{Period piece, Drama, Film adaptation, Biograp...</td>\n",
       "      <td>/m/02vdfck</td>\n",
       "      <td>M</td>\n",
       "      <td>1.830</td>\n",
       "      <td>15.0</td>\n",
       "    </tr>\n",
       "  </tbody>\n",
       "</table>\n",
       "</div>"
      ],
      "text/plain": [
       "          movie_release_year  \\\n",
       "975900                2001.0   \n",
       "18998739              2002.0   \n",
       "10408933              1938.0   \n",
       "6631279               1997.0   \n",
       "171005                1989.0   \n",
       "\n",
       "                                                     genres main_characters  \\\n",
       "975900    {Thriller, Supernatural, Space western, Advent...       /m/0jys3m   \n",
       "18998739    {Family Film, World cinema, Fantasy, Adventure}      /m/04lrj09   \n",
       "10408933  {Musical, Drama, Black-and-white, Music, Roman...      /m/02vbvj2   \n",
       "6631279   {Romantic comedy, Ensemble Film, Drama, Comedy...      /m/04hvbft   \n",
       "171005    {Period piece, Drama, Film adaptation, Biograp...      /m/02vdfck   \n",
       "\n",
       "         actor_gender  actor_height  actor_age_at_movie_release  \n",
       "975900              F         1.780                        27.0  \n",
       "18998739            F         1.727                        41.0  \n",
       "10408933            M         1.820                        24.0  \n",
       "6631279             F         1.570                        37.0  \n",
       "171005              M         1.830                        15.0  "
      ]
     },
     "execution_count": 33,
     "metadata": {},
     "output_type": "execute_result"
    }
   ],
   "source": [
    "df_character = MOVIE_DATA[[\"movie_release_year\", \"genres\", \"main_characters\"]].explode(\"main_characters\").dropna()\n",
    "\n",
    "df_character = df_character.join(CHARACTER_DATA.set_index(\"freebase_character_actor_map_id\")[[\"actor_gender\", \"actor_height\", \"actor_age_at_movie_release\"]], on=\"main_characters\")\n",
    "df_character.head()"
   ]
  },
  {
   "cell_type": "markdown",
   "id": "fa2cb79c",
   "metadata": {},
   "source": [
    "### Gender fraction"
   ]
  },
  {
   "cell_type": "code",
   "execution_count": 34,
   "id": "c46b98ff",
   "metadata": {},
   "outputs": [
    {
     "data": {
      "image/png": "[encoded data removed]",
      "text/plain": [
       "<Figure size 432x288 with 1 Axes>"
      ]
     },
     "metadata": {
      "needs_background": "light"
     },
     "output_type": "display_data"
    }
   ],
   "source": [
    "df_character_F = df_character[df_character[\"actor_gender\"] == \"F\"][\"movie_release_year\"].value_counts().sort_index()\n",
    "df_character_M = df_character[df_character[\"actor_gender\"] == \"M\"][\"movie_release_year\"].value_counts().sort_index()\n",
    "df_sum = df_character_F + df_character_M\n",
    "df_character_F[df_sum > 0] / df_sum\n",
    "df_character_F = df_character_F[df_sum > 0] / df_sum\n",
    "df_character_M = df_character_M[df_sum > 0] / df_sum\n",
    "\n",
    "plt.plot(df_character_F)\n",
    "plt.plot(df_character_M)\n",
    "plt.show()"
   ]
  },
  {
   "cell_type": "markdown",
   "id": "ff02204a",
   "metadata": {},
   "source": [
    "### Age by gender"
   ]
  },
  {
   "cell_type": "code",
   "execution_count": 35,
   "id": "60889377",
   "metadata": {},
   "outputs": [
    {
     "data": {
      "image/png": "[encoded data removed]",
      "text/plain": [
       "<Figure size 432x288 with 1 Axes>"
      ]
     },
     "metadata": {
      "needs_background": "light"
     },
     "output_type": "display_data"
    },
    {
     "data": {
      "image/png": "[encoded data removed]",
      "text/plain": [
       "<Figure size 432x288 with 1 Axes>"
      ]
     },
     "metadata": {
      "needs_background": "light"
     },
     "output_type": "display_data"
    }
   ],
   "source": [
    "df_character_F_age = df_character[df_character[\"actor_gender\"] == \"F\"][[\"movie_release_year\", \"actor_age_at_movie_release\"]].groupby(\"movie_release_year\").describe()[\"actor_age_at_movie_release\"]\n",
    "df_character_M_age = df_character[df_character[\"actor_gender\"] == \"M\"][[\"movie_release_year\", \"actor_age_at_movie_release\"]].groupby(\"movie_release_year\").describe()[\"actor_age_at_movie_release\"]\n",
    "df_character_F_age = df_character_F_age[df_character_F_age[\"count\"] >= 5]\n",
    "df_character_M_age = df_character_M_age[df_character_M_age[\"count\"] >= 5]\n",
    "\n",
    "plt.fill_between(df_character_F_age.index, df_character_F_age[\"25%\"], df_character_F_age[\"75%\"], alpha = 0.5, color = 'gray')\n",
    "plt.plot(df_character_F_age.index, df_character_F_age[\"50%\"], color = 'black')\n",
    "plt.xlabel('Year')\n",
    "plt.ylabel('Age')\n",
    "plt.title('Female main character age')\n",
    "plt.show()\n",
    "\n",
    "plt.fill_between(df_character_M_age.index, df_character_M_age[\"25%\"], df_character_M_age[\"75%\"], alpha = 0.5, color = 'gray')\n",
    "plt.plot(df_character_M_age.index, df_character_M_age[\"50%\"], color = 'black')\n",
    "plt.xlabel('Year')\n",
    "plt.ylabel('Age')\n",
    "plt.title('Male main character age')\n",
    "plt.show()"
   ]
  },
  {
   "cell_type": "markdown",
   "id": "87b53078",
   "metadata": {},
   "source": [
    "### Height by gender"
   ]
  },
  {
   "cell_type": "code",
   "execution_count": 36,
   "id": "64e90732",
   "metadata": {},
   "outputs": [
    {
     "data": {
      "image/png": "[encoded data removed]",
      "text/plain": [
       "<Figure size 432x288 with 1 Axes>"
      ]
     },
     "metadata": {
      "needs_background": "light"
     },
     "output_type": "display_data"
    },
    {
     "data": {
      "image/png": "[encoded data removed]",
      "text/plain": [
       "<Figure size 432x288 with 1 Axes>"
      ]
     },
     "metadata": {
      "needs_background": "light"
     },
     "output_type": "display_data"
    }
   ],
   "source": [
    "df_character_F_height = df_character[df_character[\"actor_gender\"] == \"F\"][[\"movie_release_year\", \"actor_height\"]].groupby(\"movie_release_year\").describe()[\"actor_height\"]\n",
    "df_character_M_height = df_character[df_character[\"actor_gender\"] == \"M\"][[\"movie_release_year\", \"actor_height\"]].groupby(\"movie_release_year\").describe()[\"actor_height\"]\n",
    "df_character_F_height = df_character_F_height[df_character_F_height[\"count\"] >= 5]\n",
    "df_character_M_height = df_character_M_height[df_character_M_height[\"count\"] >= 5]\n",
    "\n",
    "plt.fill_between(df_character_F_height.index, df_character_F_height[\"25%\"], df_character_F_height[\"75%\"], alpha = 0.5, color = 'gray')\n",
    "plt.plot(df_character_F_height.index, df_character_F_height[\"50%\"], color = 'black')\n",
    "plt.xlabel('Year')\n",
    "plt.ylabel('Height')\n",
    "plt.title('Female main character height')\n",
    "plt.show()\n",
    "\n",
    "plt.fill_between(df_character_M_height.index, df_character_M_height[\"25%\"], df_character_M_height[\"75%\"], alpha = 0.5, color = 'gray')\n",
    "plt.plot(df_character_M_height.index, df_character_M_height[\"50%\"], color = 'black')\n",
    "plt.xlabel('Year')\n",
    "plt.ylabel('Height')\n",
    "plt.title('Male main character height')\n",
    "plt.show()"
   ]
  },
  {
   "cell_type": "markdown",
   "id": "0d2ae8e8",
   "metadata": {},
   "source": [
    "### Gender fraction by genre"
   ]
  },
  {
   "cell_type": "code",
   "execution_count": 37,
   "id": "67606477",
   "metadata": {},
   "outputs": [],
   "source": [
    "#todo"
   ]
  },
  {
   "cell_type": "markdown",
   "id": "badf57ba",
   "metadata": {},
   "source": [
    "# What about the box office"
   ]
  },
  {
   "cell_type": "code",
   "execution_count": 38,
   "id": "e1038e03",
   "metadata": {},
   "outputs": [],
   "source": [
    "df_box_office = MOVIE_DATA[[\"movie_release_year\", \"budget\", \"budget_inflated\", \"box_office\", \"box_office_inflated\"]]\n",
    "des_box_office = df_box_office.groupby(\"movie_release_year\").describe()"
   ]
  },
  {
   "cell_type": "code",
   "execution_count": 39,
   "id": "4e687572",
   "metadata": {},
   "outputs": [],
   "source": [
    "# Helper function to format the axes tick labels\n",
    "def currency(x, pos):\n",
    "    if x >= 1e9:\n",
    "        s = '${:1.0f}B'.format(x*1e-9)\n",
    "    elif x >= 1e6:\n",
    "        s = '${:1.0f}M'.format(x*1e-6)\n",
    "    elif x > 0:\n",
    "        s = '${:1.0f}K'.format(x*1e-3)\n",
    "    else:\n",
    "        s = '${:1.0f}'.format(x)\n",
    "    return s"
   ]
  },
  {
   "cell_type": "code",
   "execution_count": 40,
   "id": "6d0c1555",
   "metadata": {},
   "outputs": [
    {
     "data": {
      "image/png": "[encoded data removed]",
      "text/plain": [
       "<Figure size 720x360 with 1 Axes>"
      ]
     },
     "metadata": {
      "needs_background": "light"
     },
     "output_type": "display_data"
    }
   ],
   "source": [
    "fig, ax = plt.subplots(figsize=(10, 5))\n",
    "ax.stackplot(des_box_office.index, des_box_office[\"budget\"][\"25%\"], des_box_office[\"budget\"][\"50%\"], des_box_office[\"budget\"][\"75%\"], labels=[\"25%\", \"50%\", \"75%\"], colors=[\"#E88DA4\", \"#EEAABB\", \"#F3C6D1\"])\n",
    "ax.set_title(\"Budget distribution per year\")\n",
    "ax.set_xlabel(\"Year\")\n",
    "ax.set_ylabel(\"Budget\")\n",
    "ax.legend(loc='upper left')\n",
    "ax.yaxis.set_major_formatter(currency)\n",
    "plt.show()"
   ]
  },
  {
   "cell_type": "code",
   "execution_count": 41,
   "id": "4a0b3826",
   "metadata": {},
   "outputs": [
    {
     "data": {
      "image/png": "[encoded data removed]",
      "text/plain": [
       "<Figure size 720x360 with 1 Axes>"
      ]
     },
     "metadata": {
      "needs_background": "light"
     },
     "output_type": "display_data"
    }
   ],
   "source": [
    "fig, ax = plt.subplots(figsize=(10, 5))\n",
    "ax.stackplot(des_box_office.index, des_box_office[\"budget_inflated\"][\"25%\"], des_box_office[\"budget_inflated\"][\"50%\"], des_box_office[\"budget_inflated\"][\"75%\"], labels=[\"25%\", \"50%\", \"75%\"], colors=[\"#E88DA4\", \"#EEAABB\", \"#F3C6D1\"])\n",
    "ax.set_title(\"Budget distribution per year (adjusted to inflation)\")\n",
    "ax.set_xlabel(\"Year\")\n",
    "ax.set_ylabel(\"Budget (adjusted to inflation)\")\n",
    "ax.legend(loc='upper left')\n",
    "ax.yaxis.set_major_formatter(currency)\n",
    "plt.show()"
   ]
  },
  {
   "cell_type": "code",
   "execution_count": 42,
   "id": "88d51abb",
   "metadata": {},
   "outputs": [
    {
     "data": {
      "image/png": "[encoded data removed]",
      "text/plain": [
       "<Figure size 720x360 with 1 Axes>"
      ]
     },
     "metadata": {
      "needs_background": "light"
     },
     "output_type": "display_data"
    }
   ],
   "source": [
    "fig, ax = plt.subplots(figsize=(10, 5))\n",
    "ax.stackplot(des_box_office.index, des_box_office[\"box_office\"][\"25%\"], des_box_office[\"box_office\"][\"50%\"], des_box_office[\"box_office\"][\"75%\"], labels=[\"25%\", \"50%\", \"75%\"], colors=[\"#E88DA4\", \"#EEAABB\", \"#F3C6D1\"])\n",
    "ax.set_title(\"Box office revenue distribution per year\")\n",
    "ax.set_xlabel(\"Year\")\n",
    "ax.set_ylabel(\"Box office revenue\")\n",
    "ax.legend(loc='upper left')\n",
    "ax.yaxis.set_major_formatter(currency)\n",
    "plt.show()"
   ]
  },
  {
   "cell_type": "code",
   "execution_count": 43,
   "id": "11d1127c",
   "metadata": {
    "scrolled": true
   },
   "outputs": [
    {
     "data": {
      "image/png": "[encoded data removed]",
      "text/plain": [
       "<Figure size 720x360 with 1 Axes>"
      ]
     },
     "metadata": {
      "needs_background": "light"
     },
     "output_type": "display_data"
    }
   ],
   "source": [
    "fig, ax = plt.subplots(figsize=(10, 5))\n",
    "ax.stackplot(des_box_office.index, des_box_office[\"box_office_inflated\"][\"25%\"], des_box_office[\"box_office_inflated\"][\"50%\"], des_box_office[\"box_office_inflated\"][\"75%\"], labels=[\"25%\", \"50%\", \"75%\"], colors=[\"#E88DA4\", \"#EEAABB\", \"#F3C6D1\"])\n",
    "ax.set_title(\"Box office revenue distribution per year (adjusted to inflation)\")\n",
    "ax.set_xlabel(\"Year\")\n",
    "ax.set_ylabel(\"Box office revenue (adjusted to inflation)\")\n",
    "ax.legend(loc='upper left')\n",
    "ax.yaxis.set_major_formatter(currency)\n",
    "plt.show()"
   ]
  },
  {
   "cell_type": "code",
   "execution_count": 44,
   "id": "da50fb96",
   "metadata": {},
   "outputs": [
    {
     "data": {
      "image/png": "[encoded data removed]",
      "text/plain": [
       "<Figure size 720x360 with 1 Axes>"
      ]
     },
     "metadata": {
      "needs_background": "light"
     },
     "output_type": "display_data"
    }
   ],
   "source": [
    "des_box_office = des_box_office[des_box_office.index > 1919]\n",
    "fig, ax = plt.subplots(figsize=(10, 5))\n",
    "ax.stackplot(des_box_office.index, des_box_office[\"box_office_inflated\"][\"25%\"], des_box_office[\"box_office_inflated\"][\"50%\"], des_box_office[\"box_office_inflated\"][\"75%\"], labels=[\"25%\", \"50%\", \"75%\"], colors=[\"#E88DA4\", \"#EEAABB\", \"#F3C6D1\"])\n",
    "ax.set_title(\"Box office revenue distribution per year (adjusted to inflation)\")\n",
    "ax.set_xlabel(\"Year\")\n",
    "ax.set_ylabel(\"Box office revenue (adjusted to inflation)\")\n",
    "ax.legend(loc='upper left')\n",
    "ax.yaxis.set_major_formatter(currency)\n",
    "plt.show()"
   ]
  },
  {
   "cell_type": "markdown",
   "id": "ccce873e",
   "metadata": {},
   "source": [
    "# Testing the correlations to box office"
   ]
  },
  {
   "cell_type": "markdown",
   "id": "d575415a",
   "metadata": {},
   "source": [
    "## Granger causality for the forecastability of the median"
   ]
  },
  {
   "cell_type": "code",
   "execution_count": 45,
   "id": "fe243901",
   "metadata": {},
   "outputs": [],
   "source": [
    "def get_best_causality(results):\n",
    "    best = (0, 0, 1)\n",
    "    for lag in results:\n",
    "        if results[lag][0]['ssr_chi2test'][1] < best[2]:\n",
    "            best = (lag, *results[lag][0]['ssr_chi2test'][:2])\n",
    "    return best"
   ]
  },
  {
   "cell_type": "markdown",
   "id": "950cbaad",
   "metadata": {},
   "source": [
    "### Runtime"
   ]
  },
  {
   "cell_type": "code",
   "execution_count": 46,
   "id": "3747bceb",
   "metadata": {},
   "outputs": [
    {
     "data": {
      "text/plain": [
       "(3, 7.416925931808296, 0.05973184288007179)"
      ]
     },
     "execution_count": 46,
     "metadata": {},
     "output_type": "execute_result"
    }
   ],
   "source": [
    "df = pd.concat([des_box_office[\"box_office_inflated\"][\"50%\"], des_runtime[\"50%\"]], axis=1, join=\"inner\").dropna()\n",
    "df = df[df.index > 1919]\n",
    "get_best_causality(tsa.grangercausalitytests(df, maxlag=10, verbose = False))"
   ]
  },
  {
   "cell_type": "markdown",
   "id": "eea0eb0d",
   "metadata": {},
   "source": [
    "### Genre proportion"
   ]
  },
  {
   "cell_type": "code",
   "execution_count": 47,
   "id": "465b0f70",
   "metadata": {},
   "outputs": [
    {
     "name": "stdout",
     "output_type": "stream",
     "text": [
      "Family Film (6, 8.040712807696716, 0.23513573472336455)\n",
      "Romantic drama (8, 16.361208180011236, 0.037492422959087474)\n",
      "Fantasy (4, 18.1091589944751, 0.0011749246099933943)\n",
      "Mystery (3, 3.509341938903081, 0.3195525223603675)\n",
      "Documentary (10, 20.230828724537677, 0.02714349790965292)\n",
      "Musical (3, 6.476802157415, 0.09058187274442754)\n",
      "Action/Adventure (3, 9.149224137292043, 0.02737127428824754)\n",
      "Crime (6, 9.916774140947052, 0.1282008783032071)\n",
      "Indie (3, 20.48353032290399, 0.00013475076397202293)\n",
      "Horror (9, 11.212907467574949, 0.26139712640020407)\n",
      "Adventure (7, 27.207104702237686, 0.0003058491633863163)\n",
      "Black-and-white (3, 12.198542841492422, 0.00673307853153273)\n",
      "Crime Fiction (1, 1.5311651877665027, 0.21593765504277868)\n",
      "World cinema (9, 15.087640014560012, 0.08855661505528688)\n",
      "Romance (1, 8.459524083922885, 0.0036313686120668987)\n",
      "Romance Film (1, 11.815219504935332, 0.0005874850580415938)\n",
      "Action (10, 19.15011124427009, 0.03839694957908634)\n",
      "Thriller (10, 20.553980336551103, 0.024427554352770366)\n",
      "Comedy (3, 11.446545748791157, 0.009540797686558904)\n",
      "Drama (6, 5.901076881369183, 0.4343623684614467)\n"
     ]
    }
   ],
   "source": [
    "for genre in df_genre:\n",
    "    df = pd.concat([des_box_office[\"box_office_inflated\"][\"50%\"], df_genre[genre]], axis=1, join=\"inner\").dropna()\n",
    "    df = df[df.index > 1919]\n",
    "    print(genre, get_best_causality(tsa.grangercausalitytests(df, maxlag=10, verbose = False)))"
   ]
  },
  {
   "cell_type": "markdown",
   "id": "80d0fae9",
   "metadata": {},
   "source": [
    "### Main character gender"
   ]
  },
  {
   "cell_type": "code",
   "execution_count": 48,
   "id": "6dc8a919",
   "metadata": {},
   "outputs": [
    {
     "data": {
      "text/plain": [
       "(2, 14.377123586109432, 0.000755174436971763)"
      ]
     },
     "execution_count": 48,
     "metadata": {},
     "output_type": "execute_result"
    }
   ],
   "source": [
    "df = pd.concat([des_box_office[\"box_office_inflated\"][\"50%\"], df_character_F], axis=1, join=\"inner\").dropna()\n",
    "df = df[df.index > 1919]\n",
    "get_best_causality(tsa.grangercausalitytests(df, maxlag=10, verbose = False))"
   ]
  },
  {
   "cell_type": "markdown",
   "id": "2330d40b",
   "metadata": {},
   "source": [
    "### Main character age"
   ]
  },
  {
   "cell_type": "code",
   "execution_count": 49,
   "id": "2d61ee24",
   "metadata": {},
   "outputs": [
    {
     "data": {
      "text/plain": [
       "(9, 18.230064075555678, 0.03259628591274201)"
      ]
     },
     "execution_count": 49,
     "metadata": {},
     "output_type": "execute_result"
    }
   ],
   "source": [
    "df = pd.concat([des_box_office[\"box_office_inflated\"][\"50%\"], df_character_F_age[\"50%\"]], axis=1, join=\"inner\").dropna()\n",
    "df = df[df.index > 1919]\n",
    "get_best_causality(tsa.grangercausalitytests(df, maxlag=10, verbose = False))"
   ]
  },
  {
   "cell_type": "code",
   "execution_count": 50,
   "id": "ac490808",
   "metadata": {},
   "outputs": [
    {
     "data": {
      "text/plain": [
       "(10, 21.627525845853498, 0.017118739418188953)"
      ]
     },
     "execution_count": 50,
     "metadata": {},
     "output_type": "execute_result"
    }
   ],
   "source": [
    "df = pd.concat([des_box_office[\"box_office_inflated\"][\"50%\"], df_character_M_age[\"50%\"]], axis=1, join=\"inner\").dropna()\n",
    "df = df[df.index > 1919]\n",
    "get_best_causality(tsa.grangercausalitytests(df, maxlag=10, verbose = False))"
   ]
  },
  {
   "cell_type": "markdown",
   "id": "d1adc582",
   "metadata": {},
   "source": [
    "### Main character height"
   ]
  },
  {
   "cell_type": "code",
   "execution_count": 51,
   "id": "3cf4dc6d",
   "metadata": {},
   "outputs": [
    {
     "data": {
      "text/plain": [
       "(9, 24.188692061726236, 0.0040127523759964185)"
      ]
     },
     "execution_count": 51,
     "metadata": {},
     "output_type": "execute_result"
    }
   ],
   "source": [
    "df = pd.concat([des_box_office[\"box_office_inflated\"][\"50%\"], df_character_F_height[\"50%\"]], axis=1, join=\"inner\").dropna()\n",
    "df = df[df.index > 1919]\n",
    "get_best_causality(tsa.grangercausalitytests(df, maxlag=10, verbose = False))"
   ]
  },
  {
   "cell_type": "code",
   "execution_count": 52,
   "id": "dfb28106",
   "metadata": {},
   "outputs": [
    {
     "data": {
      "text/plain": [
       "(8, 19.70692757601798, 0.011503572599483928)"
      ]
     },
     "execution_count": 52,
     "metadata": {},
     "output_type": "execute_result"
    }
   ],
   "source": [
    "df = pd.concat([des_box_office[\"box_office_inflated\"][\"50%\"], df_character_M_height[\"50%\"]], axis=1, join=\"inner\").dropna()\n",
    "df = df[df.index > 1919]\n",
    "get_best_causality(tsa.grangercausalitytests(df, maxlag=10, verbose = False))"
   ]
  },
  {
   "cell_type": "markdown",
   "id": "3794cea1",
   "metadata": {},
   "source": [
    "## Pearson correlation on the last 30 years"
   ]
  },
  {
   "cell_type": "code",
   "execution_count": 53,
   "id": "e97c6c58",
   "metadata": {},
   "outputs": [],
   "source": [
    "MOVIE_DATA = MOVIE_DATA[MOVIE_DATA[\"movie_release_year\"] > 1979]\n",
    "MOVIE_DATA = MOVIE_DATA[MOVIE_DATA[\"movie_release_year\"] < 2010]"
   ]
  },
  {
   "cell_type": "markdown",
   "id": "a7f58823",
   "metadata": {},
   "source": [
    "### Runtime"
   ]
  },
  {
   "cell_type": "code",
   "execution_count": 54,
   "id": "277f4379",
   "metadata": {},
   "outputs": [
    {
     "name": "stdout",
     "output_type": "stream",
     "text": [
      "(0.2579294008050872, 7.773188647284567e-68)\n",
      "(0.3912166185644111, 5.940559334710695e-161)\n"
     ]
    }
   ],
   "source": [
    "df = MOVIE_DATA[[\"box_office_inflated\",\"runtime\",\"imdb_rating\"]].dropna()\n",
    "for column in df:\n",
    "    df[column] = (df[column] - df[column].mean()) / df[column].std()\n",
    "res = stats.pearsonr(df[\"box_office_inflated\"], df[\"runtime\"])\n",
    "print(res)\n",
    "res = stats.pearsonr(df[\"imdb_rating\"], df[\"runtime\"])\n",
    "print(res)"
   ]
  },
  {
   "cell_type": "markdown",
   "id": "4832cbfd",
   "metadata": {},
   "source": [
    "### Genre proportion"
   ]
  },
  {
   "cell_type": "code",
   "execution_count": 55,
   "id": "3c9aa1a8",
   "metadata": {},
   "outputs": [
    {
     "name": "stdout",
     "output_type": "stream",
     "text": [
      "Family Film (0.14614935221998684, 1.9136388350654134e-22) (-0.0705376284731052, 2.806349871229632e-06)\n",
      "Romantic drama (-0.027060944019498344, 0.07261440172759873) (0.09261715523566164, 7.441065756484836e-10)\n",
      "Fantasy (0.15592672999247442, 2.3248465816016845e-25) (-0.07307113864775841, 1.2148252599849122e-06)\n",
      "Mystery (0.012708963378924345, 0.39922653949952347) (0.032534839737925404, 0.03088385988517553)\n",
      "Documentary (-0.04048267908776303, 0.007225560208766185) (0.1309398648192925, 2.7176057369770535e-18)\n",
      "Musical (0.006836044319874736, 0.6502381193558586) (0.0001574001599367602, 0.9916701149908091)\n",
      "Action/Adventure (0.17537934070155053, 9.64131416778094e-32) (-0.0773337663080658, 2.789443969691182e-07)\n",
      "Crime (-0.047235790701123284, 0.0017194806126821127) (0.0228689376328825, 0.12925004474905677)\n",
      "Indie (-0.16143168525399076, 4.357616516623342e-27) (0.0935547913119957, 5.002907373465066e-10)\n",
      "Horror (-0.033997474893122236, 0.024091853928243687) (-0.134856234621046, 2.5658577531881544e-19)\n",
      "Adventure (0.26381790389304044, 5.383146764904222e-71) (-0.05363453309954254, 0.0003707520151656511)\n",
      "Black-and-white (-0.007757845143063817, 0.6068495246034414) (0.05684420676232505, 0.000161002228043071)\n",
      "Crime Fiction (0.0018448241281433994, 0.9026100035518626) (0.08520963484946718, 1.4949118380303617e-08)\n",
      "World cinema (-0.0894670281281771, 2.7450416671682225e-09) (0.177416395229344, 1.864201162994245e-32)\n",
      "Romance (-0.053700495415421656, 0.00036460957681975717) (0.00020840252011300247, 0.9889711338939241)\n",
      "Romance Film (-0.02127179689000927, 0.15821782492589062) (0.027535100860603824, 0.06774270438466828)\n",
      "Action (0.18459761620917242, 4.846614698952637e-35) (-0.103616467988785, 5.528328054865881e-12)\n",
      "Thriller (0.07765876981721542, 2.4853862225270657e-07) (-0.02422942763340884, 0.10797913768385078)\n",
      "Comedy (-0.023058054933369713, 0.12611210863814445) (-0.19603253305410578, 2.2113431129652414e-39)\n",
      "Drama (-0.10343364241442506, 6.024078498215601e-12) (0.3278021351756929, 8.929816047689684e-111)\n"
     ]
    }
   ],
   "source": [
    "df = MOVIE_DATA[[\"box_office_inflated\",\"genres\",\"imdb_rating\"]].dropna()\n",
    "df[\"box_office_inflated\"] = (df[\"box_office_inflated\"] - df[\"box_office_inflated\"].mean()) / df[\"box_office_inflated\"].std()\n",
    "df[\"imdb_rating\"] = (df[\"imdb_rating\"] - df[\"imdb_rating\"].mean()) / df[\"imdb_rating\"].std()\n",
    "for genre in df_genre:\n",
    "    df[\"genre_bool\"] = df.apply(lambda x: int(genre in x[\"genres\"]), axis=1)\n",
    "    df[\"genre_bool\"] = (df[\"genre_bool\"] - df[\"genre_bool\"].mean()) / df[\"genre_bool\"].std()\n",
    "    res1 = stats.pearsonr(df[\"box_office_inflated\"], df[\"genre_bool\"])\n",
    "    res2 = stats.pearsonr(df[\"imdb_rating\"], df[\"genre_bool\"])\n",
    "    print(genre, res1, res2)"
   ]
  },
  {
   "cell_type": "markdown",
   "id": "43c472c5",
   "metadata": {},
   "source": [
    "### Main character gender"
   ]
  },
  {
   "cell_type": "code",
   "execution_count": 56,
   "id": "487a3f9a",
   "metadata": {},
   "outputs": [],
   "source": [
    "df = MOVIE_DATA[[\"box_office_inflated\",\"main_characters\",\"imdb_rating\"]].dropna()\n",
    "df = df[df.apply(lambda x: len(x[\"main_characters\"])>0, axis=1)]\n",
    "df[\"M\"] = 0\n",
    "df[\"F\"] = 0\n",
    "df[\"Mage\"] = 0\n",
    "df[\"Fage\"] = 0\n",
    "df[\"Mheight\"] = 0\n",
    "df[\"Fheight\"] = 0\n",
    "for i, row in df.iterrows():\n",
    "    toadd = [0,0,0,0,0,0]\n",
    "    for c in row[\"main_characters\"]:\n",
    "        data = CHARACTER_DATA[CHARACTER_DATA[\"freebase_character_actor_map_id\"] == c]\n",
    "        if data[\"actor_gender\"].values[0] == \"F\":\n",
    "            toadd[1] += 1\n",
    "            toadd[3] += data[\"actor_age_at_movie_release\"].values[0]\n",
    "            toadd[5] += data[\"actor_height\"].values[0]\n",
    "        if data[\"actor_gender\"].values[0] == \"M\":\n",
    "            toadd[0] += 1\n",
    "            toadd[2] += data[\"actor_age_at_movie_release\"].values[0]\n",
    "            toadd[4] += data[\"actor_height\"].values[0]\n",
    "    for j in range(2):\n",
    "        if toadd[j] > 1:\n",
    "            toadd[j+2] /= toadd[j]\n",
    "            toadd[j+4] /= toadd[j]\n",
    "            toadd[j] /= toadd[j]\n",
    "    row[\"M\"],row[\"F\"],row[\"Mage\"],row[\"Fage\"],row[\"Mheight\"],row[\"Fheight\"]  = tuple(toadd)\n",
    "    df.loc[i] = row\n",
    "df.drop(columns=[\"main_characters\"], inplace = True)\n",
    "for column in df:\n",
    "    df[column] = (df[column] - df[column].mean()) / df[column].std()"
   ]
  },
  {
   "cell_type": "code",
   "execution_count": 57,
   "id": "f2b10bef",
   "metadata": {},
   "outputs": [
    {
     "name": "stdout",
     "output_type": "stream",
     "text": [
      "(0.05301102769084496, 0.000881664461669344) (0.07635698047417949, 1.63405472697211e-06)\n",
      "(-0.06258403368171198, 8.584238771859736e-05) (-0.08722207312982914, 4.2841845208085046e-08)\n"
     ]
    }
   ],
   "source": [
    "res1 = stats.pearsonr(df[\"box_office_inflated\"], df[\"M\"])\n",
    "res2 = stats.pearsonr(df[\"imdb_rating\"], df[\"M\"])\n",
    "print(res1, res2)\n",
    "res1 = stats.pearsonr(df[\"box_office_inflated\"], df[\"F\"])\n",
    "res2 = stats.pearsonr(df[\"imdb_rating\"], df[\"F\"])\n",
    "print(res1, res2)"
   ]
  },
  {
   "cell_type": "code",
   "execution_count": 58,
   "id": "7b951f59",
   "metadata": {},
   "outputs": [
    {
     "name": "stdout",
     "output_type": "stream",
     "text": [
      "(0.06761629263280783, 3.069409458341789e-05) (0.06961142907919352, 1.7743732605696677e-05)\n",
      "(-0.03571266947872658, 0.02619054846697897) (-0.07915006738321098, 8.062853940097806e-07)\n"
     ]
    }
   ],
   "source": [
    "df2 = df[[\"box_office_inflated\", \"Mage\", \"imdb_rating\"]].dropna()\n",
    "res1 = stats.pearsonr(df2[\"box_office_inflated\"], df2[\"Mage\"])\n",
    "res2 = stats.pearsonr(df2[\"imdb_rating\"], df2[\"Mage\"])\n",
    "print(res1, res2)\n",
    "df2 = df[[\"box_office_inflated\", \"Fage\", \"imdb_rating\"]].dropna()\n",
    "res1 = stats.pearsonr(df2[\"box_office_inflated\"], df2[\"Fage\"])\n",
    "res2 = stats.pearsonr(df2[\"imdb_rating\"], df2[\"Fage\"])\n",
    "print(res1, res2)"
   ]
  },
  {
   "cell_type": "code",
   "execution_count": 59,
   "id": "bfe661f4",
   "metadata": {},
   "outputs": [
    {
     "name": "stdout",
     "output_type": "stream",
     "text": [
      "(0.04956496129500108, 0.003078667858001944) (0.06704091431079481, 6.191401914706364e-05)\n",
      "(-0.0691098801613572, 1.9295636160358716e-05) (-0.10682052503362693, 3.7034517416563746e-11)\n"
     ]
    }
   ],
   "source": [
    "df2 = df[[\"box_office_inflated\", \"Mheight\", \"imdb_rating\"]].dropna()\n",
    "res1 = stats.pearsonr(df2[\"box_office_inflated\"], df2[\"Mheight\"])\n",
    "res2 = stats.pearsonr(df2[\"imdb_rating\"], df2[\"Mheight\"])\n",
    "print(res1, res2)\n",
    "df2 = df[[\"box_office_inflated\", \"Fheight\", \"imdb_rating\"]].dropna()\n",
    "res1 = stats.pearsonr(df2[\"box_office_inflated\"], df2[\"Fheight\"])\n",
    "res2 = stats.pearsonr(df2[\"imdb_rating\"], df2[\"Fheight\"])\n",
    "print(res1, res2)"
   ]
  },
  {
   "cell_type": "markdown",
   "id": "ef3383c0",
   "metadata": {},
   "source": [
    "# Trying to predict box office"
   ]
  },
  {
   "cell_type": "code",
   "execution_count": 71,
   "id": "74f80d13",
   "metadata": {},
   "outputs": [
    {
     "data": {
      "text/html": [
       "<div>\n",
       "<style scoped>\n",
       "    .dataframe tbody tr th:only-of-type {\n",
       "        vertical-align: middle;\n",
       "    }\n",
       "\n",
       "    .dataframe tbody tr th {\n",
       "        vertical-align: top;\n",
       "    }\n",
       "\n",
       "    .dataframe thead th {\n",
       "        text-align: right;\n",
       "    }\n",
       "</style>\n",
       "<table border=\"1\" class=\"dataframe\">\n",
       "  <thead>\n",
       "    <tr style=\"text-align: right;\">\n",
       "      <th></th>\n",
       "      <th>movie_release_year</th>\n",
       "      <th>box_office_inflated</th>\n",
       "      <th>imdb_rating</th>\n",
       "      <th>budget_inflated</th>\n",
       "      <th>runtime</th>\n",
       "      <th>M</th>\n",
       "      <th>F</th>\n",
       "      <th>Mage</th>\n",
       "      <th>Fage</th>\n",
       "      <th>Mheight</th>\n",
       "      <th>...</th>\n",
       "      <th>Adventure</th>\n",
       "      <th>Black-and-white</th>\n",
       "      <th>Crime Fiction</th>\n",
       "      <th>World cinema</th>\n",
       "      <th>Romance</th>\n",
       "      <th>Romance Film</th>\n",
       "      <th>Action</th>\n",
       "      <th>Thriller</th>\n",
       "      <th>Comedy</th>\n",
       "      <th>Drama</th>\n",
       "    </tr>\n",
       "  </thead>\n",
       "  <tbody>\n",
       "    <tr>\n",
       "      <th>975900</th>\n",
       "      <td>2001.0</td>\n",
       "      <td>-0.363897</td>\n",
       "      <td>-1.008041</td>\n",
       "      <td>0.212748</td>\n",
       "      <td>-0.206215</td>\n",
       "      <td>-1.570868</td>\n",
       "      <td>1.552575</td>\n",
       "      <td>-1.283175</td>\n",
       "      <td>1.151643</td>\n",
       "      <td>-1.458687</td>\n",
       "      <td>...</td>\n",
       "      <td>3.367797</td>\n",
       "      <td>-0.063776</td>\n",
       "      <td>-0.326903</td>\n",
       "      <td>-0.419026</td>\n",
       "      <td>-0.347583</td>\n",
       "      <td>-0.429958</td>\n",
       "      <td>2.194986</td>\n",
       "      <td>2.090743</td>\n",
       "      <td>-0.613974</td>\n",
       "      <td>-1.044386</td>\n",
       "    </tr>\n",
       "    <tr>\n",
       "      <th>3196793</th>\n",
       "      <td>2000.0</td>\n",
       "      <td>NaN</td>\n",
       "      <td>NaN</td>\n",
       "      <td>NaN</td>\n",
       "      <td>-0.313034</td>\n",
       "      <td>NaN</td>\n",
       "      <td>NaN</td>\n",
       "      <td>NaN</td>\n",
       "      <td>NaN</td>\n",
       "      <td>NaN</td>\n",
       "      <td>...</td>\n",
       "      <td>-0.296921</td>\n",
       "      <td>-0.063776</td>\n",
       "      <td>-0.326903</td>\n",
       "      <td>-0.419026</td>\n",
       "      <td>-0.347583</td>\n",
       "      <td>-0.429958</td>\n",
       "      <td>-0.455570</td>\n",
       "      <td>-0.478285</td>\n",
       "      <td>-0.613974</td>\n",
       "      <td>0.957472</td>\n",
       "    </tr>\n",
       "    <tr>\n",
       "      <th>28463795</th>\n",
       "      <td>1988.0</td>\n",
       "      <td>NaN</td>\n",
       "      <td>-0.356430</td>\n",
       "      <td>NaN</td>\n",
       "      <td>-0.740307</td>\n",
       "      <td>NaN</td>\n",
       "      <td>NaN</td>\n",
       "      <td>NaN</td>\n",
       "      <td>NaN</td>\n",
       "      <td>NaN</td>\n",
       "      <td>...</td>\n",
       "      <td>-0.296921</td>\n",
       "      <td>-0.063776</td>\n",
       "      <td>3.058918</td>\n",
       "      <td>-0.419026</td>\n",
       "      <td>-0.347583</td>\n",
       "      <td>-0.429958</td>\n",
       "      <td>-0.455570</td>\n",
       "      <td>-0.478285</td>\n",
       "      <td>-0.613974</td>\n",
       "      <td>0.957472</td>\n",
       "    </tr>\n",
       "    <tr>\n",
       "      <th>9363483</th>\n",
       "      <td>1987.0</td>\n",
       "      <td>NaN</td>\n",
       "      <td>NaN</td>\n",
       "      <td>NaN</td>\n",
       "      <td>0.221058</td>\n",
       "      <td>NaN</td>\n",
       "      <td>NaN</td>\n",
       "      <td>NaN</td>\n",
       "      <td>NaN</td>\n",
       "      <td>NaN</td>\n",
       "      <td>...</td>\n",
       "      <td>-0.296921</td>\n",
       "      <td>-0.063776</td>\n",
       "      <td>-0.326903</td>\n",
       "      <td>-0.419026</td>\n",
       "      <td>-0.347583</td>\n",
       "      <td>-0.429958</td>\n",
       "      <td>-0.455570</td>\n",
       "      <td>2.090743</td>\n",
       "      <td>-0.613974</td>\n",
       "      <td>-1.044386</td>\n",
       "    </tr>\n",
       "    <tr>\n",
       "      <th>261236</th>\n",
       "      <td>1983.0</td>\n",
       "      <td>NaN</td>\n",
       "      <td>-0.112076</td>\n",
       "      <td>NaN</td>\n",
       "      <td>0.078634</td>\n",
       "      <td>NaN</td>\n",
       "      <td>NaN</td>\n",
       "      <td>NaN</td>\n",
       "      <td>NaN</td>\n",
       "      <td>NaN</td>\n",
       "      <td>...</td>\n",
       "      <td>-0.296921</td>\n",
       "      <td>-0.063776</td>\n",
       "      <td>-0.326903</td>\n",
       "      <td>-0.419026</td>\n",
       "      <td>-0.347583</td>\n",
       "      <td>-0.429958</td>\n",
       "      <td>-0.455570</td>\n",
       "      <td>-0.478285</td>\n",
       "      <td>-0.613974</td>\n",
       "      <td>0.957472</td>\n",
       "    </tr>\n",
       "  </tbody>\n",
       "</table>\n",
       "<p>5 rows × 31 columns</p>\n",
       "</div>"
      ],
      "text/plain": [
       "          movie_release_year  box_office_inflated  imdb_rating  \\\n",
       "975900                2001.0            -0.363897    -1.008041   \n",
       "3196793               2000.0                  NaN          NaN   \n",
       "28463795              1988.0                  NaN    -0.356430   \n",
       "9363483               1987.0                  NaN          NaN   \n",
       "261236                1983.0                  NaN    -0.112076   \n",
       "\n",
       "          budget_inflated   runtime         M         F      Mage      Fage  \\\n",
       "975900           0.212748 -0.206215 -1.570868  1.552575 -1.283175  1.151643   \n",
       "3196793               NaN -0.313034       NaN       NaN       NaN       NaN   \n",
       "28463795              NaN -0.740307       NaN       NaN       NaN       NaN   \n",
       "9363483               NaN  0.221058       NaN       NaN       NaN       NaN   \n",
       "261236                NaN  0.078634       NaN       NaN       NaN       NaN   \n",
       "\n",
       "           Mheight  ...  Adventure  Black-and-white  Crime Fiction  \\\n",
       "975900   -1.458687  ...   3.367797        -0.063776      -0.326903   \n",
       "3196793        NaN  ...  -0.296921        -0.063776      -0.326903   \n",
       "28463795       NaN  ...  -0.296921        -0.063776       3.058918   \n",
       "9363483        NaN  ...  -0.296921        -0.063776      -0.326903   \n",
       "261236         NaN  ...  -0.296921        -0.063776      -0.326903   \n",
       "\n",
       "          World cinema   Romance  Romance Film    Action  Thriller    Comedy  \\\n",
       "975900       -0.419026 -0.347583     -0.429958  2.194986  2.090743 -0.613974   \n",
       "3196793      -0.419026 -0.347583     -0.429958 -0.455570 -0.478285 -0.613974   \n",
       "28463795     -0.419026 -0.347583     -0.429958 -0.455570 -0.478285 -0.613974   \n",
       "9363483      -0.419026 -0.347583     -0.429958 -0.455570  2.090743 -0.613974   \n",
       "261236       -0.419026 -0.347583     -0.429958 -0.455570 -0.478285 -0.613974   \n",
       "\n",
       "             Drama  \n",
       "975900   -1.044386  \n",
       "3196793   0.957472  \n",
       "28463795  0.957472  \n",
       "9363483  -1.044386  \n",
       "261236    0.957472  \n",
       "\n",
       "[5 rows x 31 columns]"
      ]
     },
     "execution_count": 71,
     "metadata": {},
     "output_type": "execute_result"
    }
   ],
   "source": [
    "predict_data = MOVIE_DATA[[\"movie_release_year\",\"box_office_inflated\",\"imdb_rating\",\"budget_inflated\",\"runtime\",\"genres\"]]\n",
    "predict_data = predict_data.join(df[[\"M\",\"F\",\"Mage\",\"Fage\",\"Mheight\",\"Fheight\"]])\n",
    "for genre in df_genre:\n",
    "    predict_data[genre] = predict_data.apply(lambda x: int(genre in x[\"genres\"]), axis=1)\n",
    "predict_data.drop(columns=[\"genres\"], inplace=True)\n",
    "for column in predict_data:\n",
    "    if column == \"movie_release_year\":\n",
    "        continue\n",
    "    predict_data[column] = (predict_data[column] - predict_data[column].mean()) / predict_data[column].std()\n",
    "predict_data.head()"
   ]
  },
  {
   "cell_type": "code",
   "execution_count": null,
   "id": "b1a80db0",
   "metadata": {
    "scrolled": true
   },
   "outputs": [],
   "source": [
    "\n",
    "\n"
   ]
  },
  {
   "cell_type": "code",
   "execution_count": null,
   "id": "4127fdfc",
   "metadata": {},
   "outputs": [],
   "source": []
  },
  {
   "cell_type": "code",
   "execution_count": null,
   "id": "9684aaf6",
   "metadata": {},
   "outputs": [],
   "source": []
  }
 ],
 "metadata": {
  "kernelspec": {
   "display_name": "Python 3 (ipykernel)",
   "language": "python",
   "name": "python3"
  },
  "language_info": {
   "codemirror_mode": {
    "name": "ipython",
    "version": 3
   },
   "file_extension": ".py",
   "mimetype": "text/x-python",
   "name": "python",
   "nbconvert_exporter": "python",
   "pygments_lexer": "ipython3",
   "version": "3.10.2"
  }
 },
 "nbformat": 4,
 "nbformat_minor": 5
}
