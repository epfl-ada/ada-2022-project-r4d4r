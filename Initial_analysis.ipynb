{
 "cells": [
  {
   "cell_type": "markdown",
   "metadata": {},
   "source": [
    "# Initial analysis for project milestone 2\n",
    "\n",
    "## Imports"
   ]
  },
  {
   "cell_type": "code",
   "execution_count": 1,
   "metadata": {},
   "outputs": [],
   "source": [
    "import numpy as np\n",
    "import pandas as pd\n",
    "import itertools\n",
    "from collections import Counter\n",
    "import json\n",
    "import matplotlib.pyplot as plt\n",
    "from imdb import Cinemagoer\n",
    "%matplotlib inline"
   ]
  },
  {
   "cell_type": "markdown",
   "metadata": {},
   "source": [
    "## Constants"
   ]
  },
  {
   "cell_type": "code",
   "execution_count": 2,
   "metadata": {},
   "outputs": [],
   "source": [
    "DATA_PATH = 'Data/'\n",
    "PLOT_SUMMARIES_FILENAME = 'plot_summaries.txt'\n",
    "MOVIE_METADATA_FILENAME = 'movie.metadata.tsv'\n",
    "CHARACTER_METADATA_FILENAME = 'character.metadata.tsv'\n",
    "CHARACTER_TYPES_FILENAME = 'tvtropes.clusters.txt' #character types \n",
    "CHARACTER_NAMES_FILENAME ='name.clusters.txt' #unique character names used in at least 2 movies\n",
    "\n",
    "COLUMN_NAMES_MOVIE_METADATA = ['Wikipedia movie ID', 'Freebase movie ID', 'Movie name', 'Movie release date', \n",
    "                            'Movie box office revenue', 'Movie runtime', 'Movie languages (Freebase ID:name tuples)', \n",
    "                            'Movie countries (Freebase ID:name tuples)', 'Movie genres (Freebase ID:name tuples)']\n",
    "\n",
    "COLUMN_NAMES_CHARACTER_METADATA = ['Wikipedia movie ID', 'Freebase movie ID', 'Movie release date', 'Character name', 'Actor date of birth', 'Actor gender', 'Actor height (in meters)', 'Actor ethnicity (Freebase ID)', 'Actor name', 'Actor age at movie release', 'Freebase character/actor map ID', 'Freebase character ID', 'Freebase actor ID']\n",
    "COLUMN_NAMES_PLOT_SUMMARIES = ['Wikipedia movie ID', 'Plot summary']\n",
    "\n",
    "\n"
   ]
  },
  {
   "cell_type": "markdown",
   "metadata": {},
   "source": [
    "# About the movie metadata"
   ]
  },
  {
   "cell_type": "markdown",
   "metadata": {},
   "source": [
    "### Import and general analysis"
   ]
  },
  {
   "cell_type": "code",
   "execution_count": 3,
   "metadata": {},
   "outputs": [
    {
     "data": {
      "text/html": [
       "<div>\n",
       "<style scoped>\n",
       "    .dataframe tbody tr th:only-of-type {\n",
       "        vertical-align: middle;\n",
       "    }\n",
       "\n",
       "    .dataframe tbody tr th {\n",
       "        vertical-align: top;\n",
       "    }\n",
       "\n",
       "    .dataframe thead th {\n",
       "        text-align: right;\n",
       "    }\n",
       "</style>\n",
       "<table border=\"1\" class=\"dataframe\">\n",
       "  <thead>\n",
       "    <tr style=\"text-align: right;\">\n",
       "      <th></th>\n",
       "      <th>Freebase movie ID</th>\n",
       "      <th>Movie name</th>\n",
       "      <th>Movie release date</th>\n",
       "      <th>Movie box office revenue</th>\n",
       "      <th>Movie runtime</th>\n",
       "      <th>Movie languages (Freebase ID:name tuples)</th>\n",
       "      <th>Movie countries (Freebase ID:name tuples)</th>\n",
       "      <th>Movie genres (Freebase ID:name tuples)</th>\n",
       "    </tr>\n",
       "    <tr>\n",
       "      <th>Wikipedia movie ID</th>\n",
       "      <th></th>\n",
       "      <th></th>\n",
       "      <th></th>\n",
       "      <th></th>\n",
       "      <th></th>\n",
       "      <th></th>\n",
       "      <th></th>\n",
       "      <th></th>\n",
       "    </tr>\n",
       "  </thead>\n",
       "  <tbody>\n",
       "    <tr>\n",
       "      <th>975900</th>\n",
       "      <td>/m/03vyhn</td>\n",
       "      <td>Ghosts of Mars</td>\n",
       "      <td>2001-08-24</td>\n",
       "      <td>14010832.0</td>\n",
       "      <td>98.0</td>\n",
       "      <td>{\"/m/02h40lc\": \"English Language\"}</td>\n",
       "      <td>{\"/m/09c7w0\": \"United States of America\"}</td>\n",
       "      <td>{\"/m/01jfsb\": \"Thriller\", \"/m/06n90\": \"Science...</td>\n",
       "    </tr>\n",
       "    <tr>\n",
       "      <th>3196793</th>\n",
       "      <td>/m/08yl5d</td>\n",
       "      <td>Getting Away with Murder: The JonBenét Ramsey ...</td>\n",
       "      <td>2000-02-16</td>\n",
       "      <td>NaN</td>\n",
       "      <td>95.0</td>\n",
       "      <td>{\"/m/02h40lc\": \"English Language\"}</td>\n",
       "      <td>{\"/m/09c7w0\": \"United States of America\"}</td>\n",
       "      <td>{\"/m/02n4kr\": \"Mystery\", \"/m/03bxz7\": \"Biograp...</td>\n",
       "    </tr>\n",
       "    <tr>\n",
       "      <th>28463795</th>\n",
       "      <td>/m/0crgdbh</td>\n",
       "      <td>Brun bitter</td>\n",
       "      <td>1988</td>\n",
       "      <td>NaN</td>\n",
       "      <td>83.0</td>\n",
       "      <td>{\"/m/05f_3\": \"Norwegian Language\"}</td>\n",
       "      <td>{\"/m/05b4w\": \"Norway\"}</td>\n",
       "      <td>{\"/m/0lsxr\": \"Crime Fiction\", \"/m/07s9rl0\": \"D...</td>\n",
       "    </tr>\n",
       "    <tr>\n",
       "      <th>9363483</th>\n",
       "      <td>/m/0285_cd</td>\n",
       "      <td>White Of The Eye</td>\n",
       "      <td>1987</td>\n",
       "      <td>NaN</td>\n",
       "      <td>110.0</td>\n",
       "      <td>{\"/m/02h40lc\": \"English Language\"}</td>\n",
       "      <td>{\"/m/07ssc\": \"United Kingdom\"}</td>\n",
       "      <td>{\"/m/01jfsb\": \"Thriller\", \"/m/0glj9q\": \"Erotic...</td>\n",
       "    </tr>\n",
       "    <tr>\n",
       "      <th>261236</th>\n",
       "      <td>/m/01mrr1</td>\n",
       "      <td>A Woman in Flames</td>\n",
       "      <td>1983</td>\n",
       "      <td>NaN</td>\n",
       "      <td>106.0</td>\n",
       "      <td>{\"/m/04306rv\": \"German Language\"}</td>\n",
       "      <td>{\"/m/0345h\": \"Germany\"}</td>\n",
       "      <td>{\"/m/07s9rl0\": \"Drama\"}</td>\n",
       "    </tr>\n",
       "  </tbody>\n",
       "</table>\n",
       "</div>"
      ],
      "text/plain": [
       "                   Freebase movie ID  \\\n",
       "Wikipedia movie ID                     \n",
       "975900                     /m/03vyhn   \n",
       "3196793                    /m/08yl5d   \n",
       "28463795                  /m/0crgdbh   \n",
       "9363483                   /m/0285_cd   \n",
       "261236                     /m/01mrr1   \n",
       "\n",
       "                                                           Movie name  \\\n",
       "Wikipedia movie ID                                                      \n",
       "975900                                                 Ghosts of Mars   \n",
       "3196793             Getting Away with Murder: The JonBenét Ramsey ...   \n",
       "28463795                                                  Brun bitter   \n",
       "9363483                                              White Of The Eye   \n",
       "261236                                              A Woman in Flames   \n",
       "\n",
       "                   Movie release date  Movie box office revenue  \\\n",
       "Wikipedia movie ID                                                \n",
       "975900                     2001-08-24                14010832.0   \n",
       "3196793                    2000-02-16                       NaN   \n",
       "28463795                         1988                       NaN   \n",
       "9363483                          1987                       NaN   \n",
       "261236                           1983                       NaN   \n",
       "\n",
       "                    Movie runtime Movie languages (Freebase ID:name tuples)  \\\n",
       "Wikipedia movie ID                                                            \n",
       "975900                       98.0        {\"/m/02h40lc\": \"English Language\"}   \n",
       "3196793                      95.0        {\"/m/02h40lc\": \"English Language\"}   \n",
       "28463795                     83.0        {\"/m/05f_3\": \"Norwegian Language\"}   \n",
       "9363483                     110.0        {\"/m/02h40lc\": \"English Language\"}   \n",
       "261236                      106.0         {\"/m/04306rv\": \"German Language\"}   \n",
       "\n",
       "                    Movie countries (Freebase ID:name tuples)  \\\n",
       "Wikipedia movie ID                                              \n",
       "975900              {\"/m/09c7w0\": \"United States of America\"}   \n",
       "3196793             {\"/m/09c7w0\": \"United States of America\"}   \n",
       "28463795                               {\"/m/05b4w\": \"Norway\"}   \n",
       "9363483                        {\"/m/07ssc\": \"United Kingdom\"}   \n",
       "261236                                {\"/m/0345h\": \"Germany\"}   \n",
       "\n",
       "                               Movie genres (Freebase ID:name tuples)  \n",
       "Wikipedia movie ID                                                     \n",
       "975900              {\"/m/01jfsb\": \"Thriller\", \"/m/06n90\": \"Science...  \n",
       "3196793             {\"/m/02n4kr\": \"Mystery\", \"/m/03bxz7\": \"Biograp...  \n",
       "28463795            {\"/m/0lsxr\": \"Crime Fiction\", \"/m/07s9rl0\": \"D...  \n",
       "9363483             {\"/m/01jfsb\": \"Thriller\", \"/m/0glj9q\": \"Erotic...  \n",
       "261236                                        {\"/m/07s9rl0\": \"Drama\"}  "
      ]
     },
     "execution_count": 3,
     "metadata": {},
     "output_type": "execute_result"
    }
   ],
   "source": [
    "# Reading the movie metadata and displaying the first elements of the dataframe\n",
    "df_movie_metadata = pd.read_csv(DATA_PATH + MOVIE_METADATA_FILENAME, sep='\\t', header=None, names=COLUMN_NAMES_MOVIE_METADATA, index_col=0)\n",
    "df_movie_metadata.head()"
   ]
  },
  {
   "cell_type": "code",
   "execution_count": 4,
   "metadata": {},
   "outputs": [
    {
     "data": {
      "text/html": [
       "<div>\n",
       "<style scoped>\n",
       "    .dataframe tbody tr th:only-of-type {\n",
       "        vertical-align: middle;\n",
       "    }\n",
       "\n",
       "    .dataframe tbody tr th {\n",
       "        vertical-align: top;\n",
       "    }\n",
       "\n",
       "    .dataframe thead th {\n",
       "        text-align: right;\n",
       "    }\n",
       "</style>\n",
       "<table border=\"1\" class=\"dataframe\">\n",
       "  <thead>\n",
       "    <tr style=\"text-align: right;\">\n",
       "      <th></th>\n",
       "      <th>Freebase movie ID</th>\n",
       "      <th>Movie name</th>\n",
       "      <th>Movie release date</th>\n",
       "      <th>Movie languages (Freebase ID:name tuples)</th>\n",
       "      <th>Movie countries (Freebase ID:name tuples)</th>\n",
       "      <th>Movie genres (Freebase ID:name tuples)</th>\n",
       "    </tr>\n",
       "  </thead>\n",
       "  <tbody>\n",
       "    <tr>\n",
       "      <th>count</th>\n",
       "      <td>81741</td>\n",
       "      <td>81741</td>\n",
       "      <td>74839</td>\n",
       "      <td>81741</td>\n",
       "      <td>81741</td>\n",
       "      <td>81741</td>\n",
       "    </tr>\n",
       "    <tr>\n",
       "      <th>unique</th>\n",
       "      <td>81741</td>\n",
       "      <td>75478</td>\n",
       "      <td>20389</td>\n",
       "      <td>1817</td>\n",
       "      <td>2124</td>\n",
       "      <td>23817</td>\n",
       "    </tr>\n",
       "    <tr>\n",
       "      <th>top</th>\n",
       "      <td>/m/03vyhn</td>\n",
       "      <td>Alice in Wonderland</td>\n",
       "      <td>2006</td>\n",
       "      <td>{\"/m/02h40lc\": \"English Language\"}</td>\n",
       "      <td>{\"/m/09c7w0\": \"United States of America\"}</td>\n",
       "      <td>{\"/m/07s9rl0\": \"Drama\"}</td>\n",
       "    </tr>\n",
       "    <tr>\n",
       "      <th>freq</th>\n",
       "      <td>1</td>\n",
       "      <td>17</td>\n",
       "      <td>1011</td>\n",
       "      <td>33748</td>\n",
       "      <td>30300</td>\n",
       "      <td>6851</td>\n",
       "    </tr>\n",
       "  </tbody>\n",
       "</table>\n",
       "</div>"
      ],
      "text/plain": [
       "       Freebase movie ID           Movie name Movie release date  \\\n",
       "count              81741                81741              74839   \n",
       "unique             81741                75478              20389   \n",
       "top            /m/03vyhn  Alice in Wonderland               2006   \n",
       "freq                   1                   17               1011   \n",
       "\n",
       "       Movie languages (Freebase ID:name tuples)  \\\n",
       "count                                      81741   \n",
       "unique                                      1817   \n",
       "top           {\"/m/02h40lc\": \"English Language\"}   \n",
       "freq                                       33748   \n",
       "\n",
       "        Movie countries (Freebase ID:name tuples)  \\\n",
       "count                                       81741   \n",
       "unique                                       2124   \n",
       "top     {\"/m/09c7w0\": \"United States of America\"}   \n",
       "freq                                        30300   \n",
       "\n",
       "       Movie genres (Freebase ID:name tuples)  \n",
       "count                                   81741  \n",
       "unique                                  23817  \n",
       "top                   {\"/m/07s9rl0\": \"Drama\"}  \n",
       "freq                                     6851  "
      ]
     },
     "execution_count": 4,
     "metadata": {},
     "output_type": "execute_result"
    }
   ],
   "source": [
    "# Simple statistics regarding the dataframe\n",
    "df_movie_metadata.describe(include=\"object\")"
   ]
  },
  {
   "cell_type": "markdown",
   "metadata": {},
   "source": [
    "### Extreme and null values"
   ]
  },
  {
   "cell_type": "code",
   "execution_count": 5,
   "metadata": {},
   "outputs": [
    {
     "name": "stdout",
     "output_type": "stream",
     "text": [
      "                        Movie name  Movie runtime\n",
      "Wikipedia movie ID                               \n",
      "10815585            Zero Tolerance      1079281.0\n"
     ]
    }
   ],
   "source": [
    "# Looking for movies with extreme runtime values\n",
    "print(df_movie_metadata[df_movie_metadata[\"Movie runtime\"] == df_movie_metadata[\"Movie runtime\"].max()][[\"Movie name\", \"Movie runtime\"]])"
   ]
  },
  {
   "cell_type": "code",
   "execution_count": 6,
   "metadata": {},
   "outputs": [
    {
     "name": "stdout",
     "output_type": "stream",
     "text": [
      "<class 'pandas.core.frame.DataFrame'>\n",
      "Int64Index: 81741 entries, 975900 to 12476867\n",
      "Data columns (total 8 columns):\n",
      " #   Column                                     Non-Null Count  Dtype  \n",
      "---  ------                                     --------------  -----  \n",
      " 0   Freebase movie ID                          81741 non-null  object \n",
      " 1   Movie name                                 81741 non-null  object \n",
      " 2   Movie release date                         74839 non-null  object \n",
      " 3   Movie box office revenue                   8401 non-null   float64\n",
      " 4   Movie runtime                              61291 non-null  float64\n",
      " 5   Movie languages (Freebase ID:name tuples)  81741 non-null  object \n",
      " 6   Movie countries (Freebase ID:name tuples)  81741 non-null  object \n",
      " 7   Movie genres (Freebase ID:name tuples)     81741 non-null  object \n",
      "dtypes: float64(2), object(6)\n",
      "memory usage: 5.6+ MB\n"
     ]
    }
   ],
   "source": [
    "# Looking for the amount of null values in the data set\n",
    "df_movie_metadata.info()"
   ]
  },
  {
   "cell_type": "markdown",
   "metadata": {},
   "source": [
    "We can see that a significant part of the dataset has missing runtime data and we will not consider the data to be perfectly correct as it contains some errors. For instance the movie \"Zero Tolerance\" is in fact only 94 min long. Also, we can see that most of the dataset has missing box office data. The missing release dates are on a very small subset of the dataset so we will simply ignore those lines when using release dates.<br> \n",
    "For the relevant analysis, we will hence be completing the dataset with imdb-data using the Cinemagoer python library."
   ]
  },
  {
   "cell_type": "markdown",
   "metadata": {},
   "source": [
    "### Country analysis"
   ]
  },
  {
   "cell_type": "code",
   "execution_count": 7,
   "metadata": {},
   "outputs": [
    {
     "name": "stdout",
     "output_type": "stream",
     "text": [
      "Movies without country: 8154\n"
     ]
    }
   ],
   "source": [
    "print(f\"Movies without country: {(df_movie_metadata['Movie countries (Freebase ID:name tuples)']=='{}').sum()}\")\n",
    "country_counts = dict(Counter(itertools.chain.from_iterable(map(lambda x: json.loads(x).values(), df_movie_metadata[\"Movie countries (Freebase ID:name tuples)\"].values.tolist()))))\n",
    "country_counts = dict(sorted(country_counts.items(), key = lambda x: x[1], reverse = True))"
   ]
  },
  {
   "cell_type": "markdown",
   "metadata": {},
   "source": [
    "From the country occurence count, we can consider that the dataset is oriented towards films that have a minimum popularity in the american culture."
   ]
  },
  {
   "cell_type": "markdown",
   "metadata": {},
   "source": [
    "### Language analysis"
   ]
  },
  {
   "cell_type": "code",
   "execution_count": 8,
   "metadata": {},
   "outputs": [
    {
     "name": "stdout",
     "output_type": "stream",
     "text": [
      "Movies without language: 13866\n"
     ]
    }
   ],
   "source": [
    "print(f\"Movies without language: {(df_movie_metadata['Movie languages (Freebase ID:name tuples)']=='{}').sum()}\")\n",
    "language_counts = dict(Counter(itertools.chain.from_iterable(map(lambda x: json.loads(x).values(), df_movie_metadata[\"Movie languages (Freebase ID:name tuples)\"].values.tolist()))))\n",
    "language_counts = dict(sorted(language_counts.items(), key = lambda x: x[1], reverse = True))"
   ]
  },
  {
   "cell_type": "markdown",
   "metadata": {},
   "source": [
    "The language occurence count confirms our previous consideration from the country counts."
   ]
  },
  {
   "cell_type": "markdown",
   "metadata": {},
   "source": [
    "### Movie genre analysis"
   ]
  },
  {
   "cell_type": "code",
   "execution_count": 9,
   "metadata": {},
   "outputs": [
    {
     "name": "stdout",
     "output_type": "stream",
     "text": [
      "Movies without genre: 2294\n"
     ]
    }
   ],
   "source": [
    "print(f\"Movies without genre: {(df_movie_metadata['Movie genres (Freebase ID:name tuples)']=='{}').sum()}\")\n",
    "genre_counts = dict(Counter(itertools.chain.from_iterable(map(lambda x: json.loads(x).values(), df_movie_metadata[\"Movie genres (Freebase ID:name tuples)\"].values.tolist()))))\n",
    "genre_counts = dict(sorted(genre_counts.items(), key = lambda x: x[1], reverse = True))"
   ]
  },
  {
   "cell_type": "code",
   "execution_count": 10,
   "metadata": {},
   "outputs": [],
   "source": [
    "# preparation of the dataframes\n",
    "country_df = pd.DataFrame.from_dict(country_counts, orient=\"index\").reset_index(level=0)\n",
    "country_df.columns = [\"country\", \"occurency\"]\n",
    "\n",
    "language_df = pd.DataFrame.from_dict(language_counts, orient=\"index\").reset_index(level=0)\n",
    "language_df.columns = [\"language\", \"occurency\"]\n",
    "\n",
    "genre_df = pd.DataFrame.from_dict(genre_counts, orient=\"index\").reset_index(level=0)\n",
    "genre_df.columns = [\"genre\", \"occurency\"]"
   ]
  },
  {
   "cell_type": "code",
   "execution_count": 11,
   "metadata": {},
   "outputs": [
    {
     "data": {
      "text/html": [
       "<div>\n",
       "<style scoped>\n",
       "    .dataframe tbody tr th:only-of-type {\n",
       "        vertical-align: middle;\n",
       "    }\n",
       "\n",
       "    .dataframe tbody tr th {\n",
       "        vertical-align: top;\n",
       "    }\n",
       "\n",
       "    .dataframe thead th {\n",
       "        text-align: right;\n",
       "    }\n",
       "</style>\n",
       "<table border=\"1\" class=\"dataframe\">\n",
       "  <thead>\n",
       "    <tr style=\"text-align: right;\">\n",
       "      <th></th>\n",
       "      <th>country</th>\n",
       "      <th>occurency</th>\n",
       "    </tr>\n",
       "  </thead>\n",
       "  <tbody>\n",
       "    <tr>\n",
       "      <th>0</th>\n",
       "      <td>United States of America</td>\n",
       "      <td>34408</td>\n",
       "    </tr>\n",
       "    <tr>\n",
       "      <th>1</th>\n",
       "      <td>India</td>\n",
       "      <td>8411</td>\n",
       "    </tr>\n",
       "    <tr>\n",
       "      <th>2</th>\n",
       "      <td>United Kingdom</td>\n",
       "      <td>7868</td>\n",
       "    </tr>\n",
       "    <tr>\n",
       "      <th>3</th>\n",
       "      <td>France</td>\n",
       "      <td>4395</td>\n",
       "    </tr>\n",
       "    <tr>\n",
       "      <th>4</th>\n",
       "      <td>Italy</td>\n",
       "      <td>3163</td>\n",
       "    </tr>\n",
       "  </tbody>\n",
       "</table>\n",
       "</div>"
      ],
      "text/plain": [
       "                    country  occurency\n",
       "0  United States of America      34408\n",
       "1                     India       8411\n",
       "2            United Kingdom       7868\n",
       "3                    France       4395\n",
       "4                     Italy       3163"
      ]
     },
     "execution_count": 11,
     "metadata": {},
     "output_type": "execute_result"
    }
   ],
   "source": [
    "country_df.head()"
   ]
  },
  {
   "cell_type": "code",
   "execution_count": 12,
   "metadata": {},
   "outputs": [],
   "source": [
    "top_countries = country_df.head(4)\n",
    "top_languages = language_df.head(4)\n",
    "top_genres = genre_df.head(10)\n",
    "\n",
    "other_countries = pd.DataFrame(data = {\n",
    "    'country' : ['Other countries'],\n",
    "    'occurency' : [country_df['occurency'][4:].sum()]\n",
    "})\n",
    "other_languages = pd.DataFrame(data = {\n",
    "    'language' : ['Other languages'],\n",
    "    'occurency' : [language_df['occurency'][4:].sum()]\n",
    "})\n",
    "other_genres = pd.DataFrame(data = {\n",
    "    'genre' : ['Other genre'],\n",
    "    'occurency' : [genre_df['occurency'][10:].sum()]\n",
    "})\n",
    "\n",
    "df1 = pd.concat([top_countries, other_countries])\n",
    "df2 = pd.concat([top_languages, other_languages])\n",
    "df3 = pd.concat([top_genres, other_genres])"
   ]
  },
  {
   "cell_type": "code",
   "execution_count": 13,
   "metadata": {},
   "outputs": [
    {
     "data": {
      "image/png": "[encoded data removed]",
      "text/plain": [
       "<Figure size 1600x800 with 1 Axes>"
      ]
     },
     "metadata": {},
     "output_type": "display_data"
    }
   ],
   "source": [
    "# plot of country occurencies\n",
    "fig, ax = plt.subplots(figsize=(16, 8), subplot_kw=dict(aspect=\"equal\"))\n",
    "\n",
    "def func(pct, allvals):\n",
    "    absolute = int(np.round(pct/100.*np.sum(allvals)))\n",
    "    return \"{:.1f}%\\n({:d})\".format(pct, absolute)\n",
    "\n",
    "data = df1[\"occurency\"]\n",
    "labels = df1[\"country\"]\n",
    "wedges, texts, autotexts = ax.pie(data, autopct=lambda pct: func(pct, data),\n",
    "                                  textprops=dict(color=\"w\"))\n",
    "\n",
    "ax.legend(wedges, labels,\n",
    "          title=\"Countries\",\n",
    "          loc=\"center left\",\n",
    "          bbox_to_anchor=(1, 0, 0.5, 1))\n",
    "\n",
    "plt.setp(autotexts, size=12, weight=\"bold\")\n",
    "\n",
    "ax.set_title(\"Country Occurency\")\n",
    "\n",
    "plt.show()"
   ]
  },
  {
   "cell_type": "code",
   "execution_count": 14,
   "metadata": {},
   "outputs": [
    {
     "data": {
      "image/png": "[encoded data removed]",
      "text/plain": [
       "<Figure size 1600x800 with 1 Axes>"
      ]
     },
     "metadata": {},
     "output_type": "display_data"
    }
   ],
   "source": [
    "# plot of language occurency\n",
    "fig, ax = plt.subplots(figsize=(16, 8), subplot_kw=dict(aspect=\"equal\"))\n",
    "\n",
    "def func(pct, allvals):\n",
    "    absolute = int(np.round(pct/100.*np.sum(allvals)))\n",
    "    return \"{:.1f}%\\n({:d})\".format(pct, absolute)\n",
    "\n",
    "data = df2[\"occurency\"]\n",
    "labels = df2[\"language\"]\n",
    "wedges, texts, autotexts = ax.pie(data, autopct=lambda pct: func(pct, data),\n",
    "                                  textprops=dict(color=\"w\"))\n",
    "\n",
    "ax.legend(wedges, labels,\n",
    "          title=\"Languages\",\n",
    "          loc=\"center left\",\n",
    "          bbox_to_anchor=(1, 0, 0.5, 1))\n",
    "\n",
    "plt.setp(autotexts, size=12, weight=\"bold\")\n",
    "\n",
    "ax.set_title(\"Language Occurency\")\n",
    "\n",
    "plt.show()"
   ]
  },
  {
   "cell_type": "code",
   "execution_count": 15,
   "metadata": {},
   "outputs": [
    {
     "data": {
      "image/png": "[encoded data removed]",
      "text/plain": [
       "<Figure size 640x480 with 1 Axes>"
      ]
     },
     "metadata": {},
     "output_type": "display_data"
    }
   ],
   "source": [
    "# plot of genre occurency\n",
    "data = df3[\"occurency\"]\n",
    "labels = df3[\"genre\"]\n",
    "plt.barh(df3[\"genre\"], df3[\"occurency\"])\n",
    "\n",
    "plt.title(\"Genre Occurency\")\n",
    "\n",
    "plt.show()"
   ]
  },
  {
   "cell_type": "markdown",
   "metadata": {},
   "source": [
    "### Release date analysis"
   ]
  },
  {
   "cell_type": "code",
   "execution_count": 16,
   "metadata": {},
   "outputs": [
    {
     "name": "stdout",
     "output_type": "stream",
     "text": [
      "newest: 2016-06-08, oldest: 1010-12-02\n",
      "newest: 2015, oldest: 1894\n",
      "Movie released from 1913 to 2013\n"
     ]
    },
    {
     "data": {
      "image/png": "[encoded data removed]",
      "text/plain": [
       "<Figure size 640x480 with 1 Axes>"
      ]
     },
     "metadata": {},
     "output_type": "display_data"
    }
   ],
   "source": [
    "cleaned_dates = pd.to_datetime(df_movie_metadata['Movie release date'].dropna(), errors=\"ignore\")\n",
    "date_sample = cleaned_dates.sample(n = 1000)\n",
    "print(f\"newest: {cleaned_dates.max()}, oldest: {cleaned_dates.min()}\")\n",
    "print(f\"newest: {date_sample.max()}, oldest: {date_sample.min()}\")\n",
    "date_sample.hist(bins = 50, grid=False)\n",
    "print(\"Movie released from 1913 to 2013\")"
   ]
  },
  {
   "cell_type": "markdown",
   "metadata": {},
   "source": [
    "As a whole, we can see that the data set contains some errors (no movie could have been released in 1010), and that for each feature some data is more or less missing. The majority of the movies represented in the database are american/english dramas and comedies. The sparsity of the data is not an issue per say as we can complete it when needed with the Imdb dataset."
   ]
  },
  {
   "cell_type": "markdown",
   "metadata": {},
   "source": [
    "# About the character metadata"
   ]
  },
  {
   "cell_type": "markdown",
   "metadata": {},
   "source": [
    "### Import and general analysis"
   ]
  },
  {
   "cell_type": "code",
   "execution_count": 17,
   "metadata": {},
   "outputs": [
    {
     "data": {
      "text/html": [
       "<div>\n",
       "<style scoped>\n",
       "    .dataframe tbody tr th:only-of-type {\n",
       "        vertical-align: middle;\n",
       "    }\n",
       "\n",
       "    .dataframe tbody tr th {\n",
       "        vertical-align: top;\n",
       "    }\n",
       "\n",
       "    .dataframe thead th {\n",
       "        text-align: right;\n",
       "    }\n",
       "</style>\n",
       "<table border=\"1\" class=\"dataframe\">\n",
       "  <thead>\n",
       "    <tr style=\"text-align: right;\">\n",
       "      <th></th>\n",
       "      <th>Freebase movie ID</th>\n",
       "      <th>Movie release date</th>\n",
       "      <th>Character name</th>\n",
       "      <th>Actor date of birth</th>\n",
       "      <th>Actor gender</th>\n",
       "      <th>Actor height (in meters)</th>\n",
       "      <th>Actor ethnicity (Freebase ID)</th>\n",
       "      <th>Actor name</th>\n",
       "      <th>Actor age at movie release</th>\n",
       "      <th>Freebase character/actor map ID</th>\n",
       "      <th>Freebase character ID</th>\n",
       "      <th>Freebase actor ID</th>\n",
       "    </tr>\n",
       "    <tr>\n",
       "      <th>Wikipedia movie ID</th>\n",
       "      <th></th>\n",
       "      <th></th>\n",
       "      <th></th>\n",
       "      <th></th>\n",
       "      <th></th>\n",
       "      <th></th>\n",
       "      <th></th>\n",
       "      <th></th>\n",
       "      <th></th>\n",
       "      <th></th>\n",
       "      <th></th>\n",
       "      <th></th>\n",
       "    </tr>\n",
       "  </thead>\n",
       "  <tbody>\n",
       "    <tr>\n",
       "      <th>975900</th>\n",
       "      <td>/m/03vyhn</td>\n",
       "      <td>2001-08-24</td>\n",
       "      <td>Akooshay</td>\n",
       "      <td>1958-08-26</td>\n",
       "      <td>F</td>\n",
       "      <td>1.620</td>\n",
       "      <td>NaN</td>\n",
       "      <td>Wanda De Jesus</td>\n",
       "      <td>42.0</td>\n",
       "      <td>/m/0bgchxw</td>\n",
       "      <td>/m/0bgcj3x</td>\n",
       "      <td>/m/03wcfv7</td>\n",
       "    </tr>\n",
       "    <tr>\n",
       "      <th>975900</th>\n",
       "      <td>/m/03vyhn</td>\n",
       "      <td>2001-08-24</td>\n",
       "      <td>Lieutenant Melanie Ballard</td>\n",
       "      <td>1974-08-15</td>\n",
       "      <td>F</td>\n",
       "      <td>1.780</td>\n",
       "      <td>/m/044038p</td>\n",
       "      <td>Natasha Henstridge</td>\n",
       "      <td>27.0</td>\n",
       "      <td>/m/0jys3m</td>\n",
       "      <td>/m/0bgchn4</td>\n",
       "      <td>/m/0346l4</td>\n",
       "    </tr>\n",
       "    <tr>\n",
       "      <th>975900</th>\n",
       "      <td>/m/03vyhn</td>\n",
       "      <td>2001-08-24</td>\n",
       "      <td>Desolation Williams</td>\n",
       "      <td>1969-06-15</td>\n",
       "      <td>M</td>\n",
       "      <td>1.727</td>\n",
       "      <td>/m/0x67</td>\n",
       "      <td>Ice Cube</td>\n",
       "      <td>32.0</td>\n",
       "      <td>/m/0jys3g</td>\n",
       "      <td>/m/0bgchn_</td>\n",
       "      <td>/m/01vw26l</td>\n",
       "    </tr>\n",
       "    <tr>\n",
       "      <th>975900</th>\n",
       "      <td>/m/03vyhn</td>\n",
       "      <td>2001-08-24</td>\n",
       "      <td>Sgt Jericho Butler</td>\n",
       "      <td>1967-09-12</td>\n",
       "      <td>M</td>\n",
       "      <td>1.750</td>\n",
       "      <td>NaN</td>\n",
       "      <td>Jason Statham</td>\n",
       "      <td>33.0</td>\n",
       "      <td>/m/02vchl6</td>\n",
       "      <td>/m/0bgchnq</td>\n",
       "      <td>/m/034hyc</td>\n",
       "    </tr>\n",
       "    <tr>\n",
       "      <th>975900</th>\n",
       "      <td>/m/03vyhn</td>\n",
       "      <td>2001-08-24</td>\n",
       "      <td>Bashira Kincaid</td>\n",
       "      <td>1977-09-25</td>\n",
       "      <td>F</td>\n",
       "      <td>1.650</td>\n",
       "      <td>NaN</td>\n",
       "      <td>Clea DuVall</td>\n",
       "      <td>23.0</td>\n",
       "      <td>/m/02vbb3r</td>\n",
       "      <td>/m/0bgchp9</td>\n",
       "      <td>/m/01y9xg</td>\n",
       "    </tr>\n",
       "  </tbody>\n",
       "</table>\n",
       "</div>"
      ],
      "text/plain": [
       "                   Freebase movie ID Movie release date  \\\n",
       "Wikipedia movie ID                                        \n",
       "975900                     /m/03vyhn         2001-08-24   \n",
       "975900                     /m/03vyhn         2001-08-24   \n",
       "975900                     /m/03vyhn         2001-08-24   \n",
       "975900                     /m/03vyhn         2001-08-24   \n",
       "975900                     /m/03vyhn         2001-08-24   \n",
       "\n",
       "                                Character name Actor date of birth  \\\n",
       "Wikipedia movie ID                                                   \n",
       "975900                                Akooshay          1958-08-26   \n",
       "975900              Lieutenant Melanie Ballard          1974-08-15   \n",
       "975900                     Desolation Williams          1969-06-15   \n",
       "975900                      Sgt Jericho Butler          1967-09-12   \n",
       "975900                         Bashira Kincaid          1977-09-25   \n",
       "\n",
       "                   Actor gender  Actor height (in meters)  \\\n",
       "Wikipedia movie ID                                          \n",
       "975900                        F                     1.620   \n",
       "975900                        F                     1.780   \n",
       "975900                        M                     1.727   \n",
       "975900                        M                     1.750   \n",
       "975900                        F                     1.650   \n",
       "\n",
       "                   Actor ethnicity (Freebase ID)          Actor name  \\\n",
       "Wikipedia movie ID                                                     \n",
       "975900                                       NaN      Wanda De Jesus   \n",
       "975900                                /m/044038p  Natasha Henstridge   \n",
       "975900                                   /m/0x67            Ice Cube   \n",
       "975900                                       NaN       Jason Statham   \n",
       "975900                                       NaN         Clea DuVall   \n",
       "\n",
       "                    Actor age at movie release  \\\n",
       "Wikipedia movie ID                               \n",
       "975900                                    42.0   \n",
       "975900                                    27.0   \n",
       "975900                                    32.0   \n",
       "975900                                    33.0   \n",
       "975900                                    23.0   \n",
       "\n",
       "                   Freebase character/actor map ID Freebase character ID  \\\n",
       "Wikipedia movie ID                                                         \n",
       "975900                                  /m/0bgchxw            /m/0bgcj3x   \n",
       "975900                                   /m/0jys3m            /m/0bgchn4   \n",
       "975900                                   /m/0jys3g            /m/0bgchn_   \n",
       "975900                                  /m/02vchl6            /m/0bgchnq   \n",
       "975900                                  /m/02vbb3r            /m/0bgchp9   \n",
       "\n",
       "                   Freebase actor ID  \n",
       "Wikipedia movie ID                    \n",
       "975900                    /m/03wcfv7  \n",
       "975900                     /m/0346l4  \n",
       "975900                    /m/01vw26l  \n",
       "975900                     /m/034hyc  \n",
       "975900                     /m/01y9xg  "
      ]
     },
     "execution_count": 17,
     "metadata": {},
     "output_type": "execute_result"
    }
   ],
   "source": [
    "df_character_metadata = pd.read_csv(DATA_PATH + CHARACTER_METADATA_FILENAME, sep='\\t', header=None, names=COLUMN_NAMES_CHARACTER_METADATA, index_col=0)\n",
    "df_character_metadata.head()"
   ]
  },
  {
   "cell_type": "code",
   "execution_count": 18,
   "metadata": {},
   "outputs": [
    {
     "data": {
      "text/html": [
       "<div>\n",
       "<style scoped>\n",
       "    .dataframe tbody tr th:only-of-type {\n",
       "        vertical-align: middle;\n",
       "    }\n",
       "\n",
       "    .dataframe tbody tr th {\n",
       "        vertical-align: top;\n",
       "    }\n",
       "\n",
       "    .dataframe thead th {\n",
       "        text-align: right;\n",
       "    }\n",
       "</style>\n",
       "<table border=\"1\" class=\"dataframe\">\n",
       "  <thead>\n",
       "    <tr style=\"text-align: right;\">\n",
       "      <th></th>\n",
       "      <th>Freebase movie ID</th>\n",
       "      <th>Movie release date</th>\n",
       "      <th>Character name</th>\n",
       "      <th>Actor date of birth</th>\n",
       "      <th>Actor gender</th>\n",
       "      <th>Actor ethnicity (Freebase ID)</th>\n",
       "      <th>Actor name</th>\n",
       "      <th>Freebase character/actor map ID</th>\n",
       "      <th>Freebase character ID</th>\n",
       "      <th>Freebase actor ID</th>\n",
       "    </tr>\n",
       "  </thead>\n",
       "  <tbody>\n",
       "    <tr>\n",
       "      <th>count</th>\n",
       "      <td>450669</td>\n",
       "      <td>440674</td>\n",
       "      <td>192794</td>\n",
       "      <td>344524</td>\n",
       "      <td>405060</td>\n",
       "      <td>106058</td>\n",
       "      <td>449441</td>\n",
       "      <td>450669</td>\n",
       "      <td>192804</td>\n",
       "      <td>449854</td>\n",
       "    </tr>\n",
       "    <tr>\n",
       "      <th>unique</th>\n",
       "      <td>64330</td>\n",
       "      <td>18476</td>\n",
       "      <td>126629</td>\n",
       "      <td>29494</td>\n",
       "      <td>2</td>\n",
       "      <td>479</td>\n",
       "      <td>134078</td>\n",
       "      <td>450669</td>\n",
       "      <td>183435</td>\n",
       "      <td>135760</td>\n",
       "    </tr>\n",
       "    <tr>\n",
       "      <th>top</th>\n",
       "      <td>/m/0cc8620</td>\n",
       "      <td>2008</td>\n",
       "      <td>Doctor</td>\n",
       "      <td>1908-05-30</td>\n",
       "      <td>M</td>\n",
       "      <td>/m/0dryh9k</td>\n",
       "      <td>Mel Blanc</td>\n",
       "      <td>/m/0bgchxw</td>\n",
       "      <td>/m/0h577m2</td>\n",
       "      <td>/m/0c5vh</td>\n",
       "    </tr>\n",
       "    <tr>\n",
       "      <th>freq</th>\n",
       "      <td>115</td>\n",
       "      <td>5453</td>\n",
       "      <td>198</td>\n",
       "      <td>791</td>\n",
       "      <td>270257</td>\n",
       "      <td>16351</td>\n",
       "      <td>791</td>\n",
       "      <td>1</td>\n",
       "      <td>146</td>\n",
       "      <td>791</td>\n",
       "    </tr>\n",
       "  </tbody>\n",
       "</table>\n",
       "</div>"
      ],
      "text/plain": [
       "       Freebase movie ID Movie release date Character name  \\\n",
       "count             450669             440674         192794   \n",
       "unique             64330              18476         126629   \n",
       "top           /m/0cc8620               2008         Doctor   \n",
       "freq                 115               5453            198   \n",
       "\n",
       "       Actor date of birth Actor gender Actor ethnicity (Freebase ID)  \\\n",
       "count               344524       405060                        106058   \n",
       "unique               29494            2                           479   \n",
       "top             1908-05-30            M                    /m/0dryh9k   \n",
       "freq                   791       270257                         16351   \n",
       "\n",
       "       Actor name Freebase character/actor map ID Freebase character ID  \\\n",
       "count      449441                          450669                192804   \n",
       "unique     134078                          450669                183435   \n",
       "top     Mel Blanc                      /m/0bgchxw            /m/0h577m2   \n",
       "freq          791                               1                   146   \n",
       "\n",
       "       Freebase actor ID  \n",
       "count             449854  \n",
       "unique            135760  \n",
       "top             /m/0c5vh  \n",
       "freq                 791  "
      ]
     },
     "execution_count": 18,
     "metadata": {},
     "output_type": "execute_result"
    }
   ],
   "source": [
    "df_character_metadata.describe(include='object')"
   ]
  },
  {
   "cell_type": "markdown",
   "metadata": {},
   "source": [
    "### Null values"
   ]
  },
  {
   "cell_type": "code",
   "execution_count": 19,
   "metadata": {},
   "outputs": [
    {
     "name": "stdout",
     "output_type": "stream",
     "text": [
      "Total size of dataset: 450669\n",
      "Null data:\n",
      "Freebase movie ID                       0\n",
      "Movie release date                   9995\n",
      "Character name                     257875\n",
      "Actor date of birth                106145\n",
      "Actor gender                        45609\n",
      "Actor height (in meters)           295845\n",
      "Actor ethnicity (Freebase ID)      344611\n",
      "Actor name                           1228\n",
      "Actor age at movie release         158113\n",
      "Freebase character/actor map ID         0\n",
      "Freebase character ID              257865\n",
      "Freebase actor ID                     815\n",
      "dtype: int64\n"
     ]
    }
   ],
   "source": [
    "print(f\"Total size of dataset: {df_character_metadata.shape[0]}\")\n",
    "print(\"Null data:\")\n",
    "print(df_character_metadata.isnull().sum())"
   ]
  },
  {
   "cell_type": "code",
   "execution_count": 20,
   "metadata": {},
   "outputs": [
    {
     "name": "stdout",
     "output_type": "stream",
     "text": [
      "<class 'pandas.core.frame.DataFrame'>\n",
      "Int64Index: 450669 entries, 975900 to 28308153\n",
      "Data columns (total 12 columns):\n",
      " #   Column                           Non-Null Count   Dtype  \n",
      "---  ------                           --------------   -----  \n",
      " 0   Freebase movie ID                450669 non-null  object \n",
      " 1   Movie release date               440674 non-null  object \n",
      " 2   Character name                   192794 non-null  object \n",
      " 3   Actor date of birth              344524 non-null  object \n",
      " 4   Actor gender                     405060 non-null  object \n",
      " 5   Actor height (in meters)         154824 non-null  float64\n",
      " 6   Actor ethnicity (Freebase ID)    106058 non-null  object \n",
      " 7   Actor name                       449441 non-null  object \n",
      " 8   Actor age at movie release       292556 non-null  float64\n",
      " 9   Freebase character/actor map ID  450669 non-null  object \n",
      " 10  Freebase character ID            192804 non-null  object \n",
      " 11  Freebase actor ID                449854 non-null  object \n",
      "dtypes: float64(2), object(10)\n",
      "memory usage: 44.7+ MB\n"
     ]
    }
   ],
   "source": [
    "df_character_metadata.info()"
   ]
  },
  {
   "cell_type": "markdown",
   "metadata": {},
   "source": [
    "From the above statistics, we can see that for most of the actors the character name, the ethnicity and the height are missing."
   ]
  },
  {
   "cell_type": "markdown",
   "metadata": {},
   "source": [
    "### Gender analysis"
   ]
  },
  {
   "cell_type": "code",
   "execution_count": 21,
   "metadata": {},
   "outputs": [
    {
     "data": {
      "image/png": "[encoded data removed]",
      "text/plain": [
       "<Figure size 640x480 with 1 Axes>"
      ]
     },
     "metadata": {},
     "output_type": "display_data"
    }
   ],
   "source": [
    "actor_gender = df_character_metadata[[\"Actor gender\", \"Freebase actor ID\"]].drop_duplicates().dropna()[\"Actor gender\"].value_counts()\n",
    "plt.pie(actor_gender, labels=[\"Male\", \"Female\"], startangle = 90)\n",
    "plt.title(\"Gender repartition\")\n",
    "plt.show() "
   ]
  },
  {
   "cell_type": "markdown",
   "metadata": {},
   "source": [
    "### Actors ethnicity analysis"
   ]
  },
  {
   "cell_type": "code",
   "execution_count": 22,
   "metadata": {},
   "outputs": [
    {
     "name": "stdout",
     "output_type": "stream",
     "text": [
      "/m/0dryh9k    16351\n",
      "/m/0x67       10159\n",
      "/m/041rx      10121\n",
      "/m/02w7gg      6165\n",
      "/m/033tf_      3857\n",
      "              ...  \n",
      "/m/043_z22        1\n",
      "/m/03x_fq7        1\n",
      "/m/01hphz         1\n",
      "/m/033fjj         1\n",
      "/m/013y54         1\n",
      "Name: Actor ethnicity (Freebase ID), Length: 479, dtype: int64\n",
      "/m/0x67       1472\n",
      "/m/0dryh9k     721\n",
      "/m/041rx       717\n",
      "/m/02ctzb      494\n",
      "/m/02w7gg      385\n",
      "              ... \n",
      "/m/0960kn        1\n",
      "/m/0h6mqq9       1\n",
      "/m/0dqrh8        1\n",
      "/m/07n8wy        1\n",
      "/m/013y54        1\n",
      "Name: Actor ethnicity (Freebase ID), Length: 479, dtype: int64\n"
     ]
    }
   ],
   "source": [
    "print(df_character_metadata[\"Actor ethnicity (Freebase ID)\"].dropna().value_counts())\n",
    "print(df_character_metadata[[\"Actor ethnicity (Freebase ID)\", \"Freebase actor ID\"]].drop_duplicates().dropna()[\"Actor ethnicity (Freebase ID)\"].value_counts())"
   ]
  },
  {
   "cell_type": "markdown",
   "metadata": {},
   "source": [
    "# About the plot summaries\n",
    "\n",
    "### Import and general analysis"
   ]
  },
  {
   "cell_type": "code",
   "execution_count": 23,
   "metadata": {},
   "outputs": [
    {
     "data": {
      "text/html": [
       "<div>\n",
       "<style scoped>\n",
       "    .dataframe tbody tr th:only-of-type {\n",
       "        vertical-align: middle;\n",
       "    }\n",
       "\n",
       "    .dataframe tbody tr th {\n",
       "        vertical-align: top;\n",
       "    }\n",
       "\n",
       "    .dataframe thead th {\n",
       "        text-align: right;\n",
       "    }\n",
       "</style>\n",
       "<table border=\"1\" class=\"dataframe\">\n",
       "  <thead>\n",
       "    <tr style=\"text-align: right;\">\n",
       "      <th></th>\n",
       "      <th>Plot summary</th>\n",
       "    </tr>\n",
       "    <tr>\n",
       "      <th>Wikipedia movie ID</th>\n",
       "      <th></th>\n",
       "    </tr>\n",
       "  </thead>\n",
       "  <tbody>\n",
       "    <tr>\n",
       "      <th>23890098</th>\n",
       "      <td>Shlykov, a hard-working taxi driver and Lyosha...</td>\n",
       "    </tr>\n",
       "    <tr>\n",
       "      <th>31186339</th>\n",
       "      <td>The nation of Panem consists of a wealthy Capi...</td>\n",
       "    </tr>\n",
       "    <tr>\n",
       "      <th>20663735</th>\n",
       "      <td>Poovalli Induchoodan  is sentenced for six yea...</td>\n",
       "    </tr>\n",
       "    <tr>\n",
       "      <th>2231378</th>\n",
       "      <td>The Lemon Drop Kid , a New York City swindler,...</td>\n",
       "    </tr>\n",
       "    <tr>\n",
       "      <th>595909</th>\n",
       "      <td>Seventh-day Adventist Church pastor Michael Ch...</td>\n",
       "    </tr>\n",
       "  </tbody>\n",
       "</table>\n",
       "</div>"
      ],
      "text/plain": [
       "                                                         Plot summary\n",
       "Wikipedia movie ID                                                   \n",
       "23890098            Shlykov, a hard-working taxi driver and Lyosha...\n",
       "31186339            The nation of Panem consists of a wealthy Capi...\n",
       "20663735            Poovalli Induchoodan  is sentenced for six yea...\n",
       "2231378             The Lemon Drop Kid , a New York City swindler,...\n",
       "595909              Seventh-day Adventist Church pastor Michael Ch..."
      ]
     },
     "execution_count": 23,
     "metadata": {},
     "output_type": "execute_result"
    }
   ],
   "source": [
    "df_plot_summaries = pd.read_csv(DATA_PATH + PLOT_SUMMARIES_FILENAME, sep='\\t', header=None, names=COLUMN_NAMES_PLOT_SUMMARIES, index_col=0)\n",
    "df_plot_summaries.head()"
   ]
  },
  {
   "cell_type": "code",
   "execution_count": 24,
   "metadata": {},
   "outputs": [
    {
     "name": "stdout",
     "output_type": "stream",
     "text": [
      "Total size of dataset: 42303\n",
      "Null data:\n",
      "Plot summary    0\n",
      "dtype: int64\n"
     ]
    }
   ],
   "source": [
    "print(f\"Total size of dataset: {df_plot_summaries.shape[0]}\")\n",
    "print(\"Null data:\")\n",
    "print(df_plot_summaries.isnull().sum())"
   ]
  },
  {
   "cell_type": "code",
   "execution_count": 25,
   "metadata": {},
   "outputs": [
    {
     "name": "stdout",
     "output_type": "stream",
     "text": [
      "movies metadata count: 81741\n",
      "plot summaries count: 42303\n",
      "intersection count: 42204\n"
     ]
    }
   ],
   "source": [
    "print(f\"movies metadata count: {df_movie_metadata.shape[0]}\")\n",
    "print(f\"plot summaries count: {df_plot_summaries.shape[0]}\")\n",
    "print(f\"intersection count: {df_movie_metadata.join(df_plot_summaries, how = 'inner').shape[0]}\")\n"
   ]
  },
  {
   "cell_type": "markdown",
   "metadata": {},
   "source": [
    "# Completing and processing the dataset"
   ]
  },
  {
   "cell_type": "markdown",
   "metadata": {},
   "source": [
    "For this project we will consider movies with a summary and at least one character and discard the rest for character based analysis."
   ]
  },
  {
   "cell_type": "code",
   "execution_count": 26,
   "metadata": {
    "scrolled": true
   },
   "outputs": [
    {
     "name": "stdout",
     "output_type": "stream",
     "text": [
      "(37779, 9)\n"
     ]
    },
    {
     "data": {
      "text/html": [
       "<div>\n",
       "<style scoped>\n",
       "    .dataframe tbody tr th:only-of-type {\n",
       "        vertical-align: middle;\n",
       "    }\n",
       "\n",
       "    .dataframe tbody tr th {\n",
       "        vertical-align: top;\n",
       "    }\n",
       "\n",
       "    .dataframe thead th {\n",
       "        text-align: right;\n",
       "    }\n",
       "</style>\n",
       "<table border=\"1\" class=\"dataframe\">\n",
       "  <thead>\n",
       "    <tr style=\"text-align: right;\">\n",
       "      <th></th>\n",
       "      <th>Freebase movie ID</th>\n",
       "      <th>Movie name</th>\n",
       "      <th>Movie release date</th>\n",
       "      <th>Movie box office revenue</th>\n",
       "      <th>Movie runtime</th>\n",
       "      <th>Movie languages (Freebase ID:name tuples)</th>\n",
       "      <th>Movie countries (Freebase ID:name tuples)</th>\n",
       "      <th>Movie genres (Freebase ID:name tuples)</th>\n",
       "      <th>Plot summary</th>\n",
       "    </tr>\n",
       "    <tr>\n",
       "      <th>Wikipedia movie ID</th>\n",
       "      <th></th>\n",
       "      <th></th>\n",
       "      <th></th>\n",
       "      <th></th>\n",
       "      <th></th>\n",
       "      <th></th>\n",
       "      <th></th>\n",
       "      <th></th>\n",
       "      <th></th>\n",
       "    </tr>\n",
       "  </thead>\n",
       "  <tbody>\n",
       "    <tr>\n",
       "      <th>975900</th>\n",
       "      <td>/m/03vyhn</td>\n",
       "      <td>Ghosts of Mars</td>\n",
       "      <td>2001-08-24</td>\n",
       "      <td>14010832.0</td>\n",
       "      <td>98.0</td>\n",
       "      <td>{\"/m/02h40lc\": \"English Language\"}</td>\n",
       "      <td>{\"/m/09c7w0\": \"United States of America\"}</td>\n",
       "      <td>{\"/m/01jfsb\": \"Thriller\", \"/m/06n90\": \"Science...</td>\n",
       "      <td>Set in the second half of the 22nd century, th...</td>\n",
       "    </tr>\n",
       "    <tr>\n",
       "      <th>9363483</th>\n",
       "      <td>/m/0285_cd</td>\n",
       "      <td>White Of The Eye</td>\n",
       "      <td>1987</td>\n",
       "      <td>NaN</td>\n",
       "      <td>110.0</td>\n",
       "      <td>{\"/m/02h40lc\": \"English Language\"}</td>\n",
       "      <td>{\"/m/07ssc\": \"United Kingdom\"}</td>\n",
       "      <td>{\"/m/01jfsb\": \"Thriller\", \"/m/0glj9q\": \"Erotic...</td>\n",
       "      <td>A series of murders of rich young women throug...</td>\n",
       "    </tr>\n",
       "    <tr>\n",
       "      <th>261236</th>\n",
       "      <td>/m/01mrr1</td>\n",
       "      <td>A Woman in Flames</td>\n",
       "      <td>1983</td>\n",
       "      <td>NaN</td>\n",
       "      <td>106.0</td>\n",
       "      <td>{\"/m/04306rv\": \"German Language\"}</td>\n",
       "      <td>{\"/m/0345h\": \"Germany\"}</td>\n",
       "      <td>{\"/m/07s9rl0\": \"Drama\"}</td>\n",
       "      <td>Eva, an upper class housewife, becomes frustra...</td>\n",
       "    </tr>\n",
       "    <tr>\n",
       "      <th>18998739</th>\n",
       "      <td>/m/04jcqvw</td>\n",
       "      <td>The Sorcerer's Apprentice</td>\n",
       "      <td>2002</td>\n",
       "      <td>NaN</td>\n",
       "      <td>86.0</td>\n",
       "      <td>{\"/m/02h40lc\": \"English Language\"}</td>\n",
       "      <td>{\"/m/0hzlz\": \"South Africa\"}</td>\n",
       "      <td>{\"/m/0hqxf\": \"Family Film\", \"/m/01hmnh\": \"Fant...</td>\n",
       "      <td>Every hundred years, the evil Morgana  returns...</td>\n",
       "    </tr>\n",
       "    <tr>\n",
       "      <th>6631279</th>\n",
       "      <td>/m/0gffwj</td>\n",
       "      <td>Little city</td>\n",
       "      <td>1997-04-04</td>\n",
       "      <td>NaN</td>\n",
       "      <td>93.0</td>\n",
       "      <td>{\"/m/02h40lc\": \"English Language\"}</td>\n",
       "      <td>{\"/m/09c7w0\": \"United States of America\"}</td>\n",
       "      <td>{\"/m/06cvj\": \"Romantic comedy\", \"/m/0hj3n0w\": ...</td>\n",
       "      <td>Adam, a San Francisco-based artist who works a...</td>\n",
       "    </tr>\n",
       "  </tbody>\n",
       "</table>\n",
       "</div>"
      ],
      "text/plain": [
       "                   Freebase movie ID                 Movie name  \\\n",
       "Wikipedia movie ID                                                \n",
       "975900                     /m/03vyhn             Ghosts of Mars   \n",
       "9363483                   /m/0285_cd           White Of The Eye   \n",
       "261236                     /m/01mrr1          A Woman in Flames   \n",
       "18998739                  /m/04jcqvw  The Sorcerer's Apprentice   \n",
       "6631279                    /m/0gffwj                Little city   \n",
       "\n",
       "                   Movie release date  Movie box office revenue  \\\n",
       "Wikipedia movie ID                                                \n",
       "975900                     2001-08-24                14010832.0   \n",
       "9363483                          1987                       NaN   \n",
       "261236                           1983                       NaN   \n",
       "18998739                         2002                       NaN   \n",
       "6631279                    1997-04-04                       NaN   \n",
       "\n",
       "                    Movie runtime Movie languages (Freebase ID:name tuples)  \\\n",
       "Wikipedia movie ID                                                            \n",
       "975900                       98.0        {\"/m/02h40lc\": \"English Language\"}   \n",
       "9363483                     110.0        {\"/m/02h40lc\": \"English Language\"}   \n",
       "261236                      106.0         {\"/m/04306rv\": \"German Language\"}   \n",
       "18998739                     86.0        {\"/m/02h40lc\": \"English Language\"}   \n",
       "6631279                      93.0        {\"/m/02h40lc\": \"English Language\"}   \n",
       "\n",
       "                    Movie countries (Freebase ID:name tuples)  \\\n",
       "Wikipedia movie ID                                              \n",
       "975900              {\"/m/09c7w0\": \"United States of America\"}   \n",
       "9363483                        {\"/m/07ssc\": \"United Kingdom\"}   \n",
       "261236                                {\"/m/0345h\": \"Germany\"}   \n",
       "18998739                         {\"/m/0hzlz\": \"South Africa\"}   \n",
       "6631279             {\"/m/09c7w0\": \"United States of America\"}   \n",
       "\n",
       "                               Movie genres (Freebase ID:name tuples)  \\\n",
       "Wikipedia movie ID                                                      \n",
       "975900              {\"/m/01jfsb\": \"Thriller\", \"/m/06n90\": \"Science...   \n",
       "9363483             {\"/m/01jfsb\": \"Thriller\", \"/m/0glj9q\": \"Erotic...   \n",
       "261236                                        {\"/m/07s9rl0\": \"Drama\"}   \n",
       "18998739            {\"/m/0hqxf\": \"Family Film\", \"/m/01hmnh\": \"Fant...   \n",
       "6631279             {\"/m/06cvj\": \"Romantic comedy\", \"/m/0hj3n0w\": ...   \n",
       "\n",
       "                                                         Plot summary  \n",
       "Wikipedia movie ID                                                     \n",
       "975900              Set in the second half of the 22nd century, th...  \n",
       "9363483             A series of murders of rich young women throug...  \n",
       "261236              Eva, an upper class housewife, becomes frustra...  \n",
       "18998739            Every hundred years, the evil Morgana  returns...  \n",
       "6631279             Adam, a San Francisco-based artist who works a...  "
      ]
     },
     "execution_count": 26,
     "metadata": {},
     "output_type": "execute_result"
    }
   ],
   "source": [
    "df_movie_metadata = df_movie_metadata.join(df_plot_summaries, how= 'inner')\n",
    "df_movie_metadata = df_movie_metadata[df_movie_metadata[\"Freebase movie ID\"].isin(df_character_metadata[\"Freebase movie ID\"])]\n",
    "print(df_movie_metadata.shape)\n",
    "df_movie_metadata.head()"
   ]
  },
  {
   "cell_type": "markdown",
   "metadata": {},
   "source": [
    "Using the code below we can retrieve data from imdb to complete our dataset when necessary, especially to obtain the box office values."
   ]
  },
  {
   "cell_type": "code",
   "execution_count": 28,
   "metadata": {},
   "outputs": [
    {
     "name": "stdout",
     "output_type": "stream",
     "text": [
      "['0228333', 'Ghosts of Mars', '2001-08-24']\n",
      "White Of The Eye not found\n",
      "Legend of the White Dragon (Jason David Frank, Aaron Schoenke) missing data 'year'\n",
      "A Woman in Flames missing data 'box office'\n",
      "['0963966', \"The Sorcerer's Apprentice\", 2010] mismatch [\"The Sorcerer's Apprentice\", 2002]\n",
      "['0111543', 'Little Indian, Big City', 1994] mismatch ['Little city', 1997]\n",
      "['0097499', 'Henry V', '1989-11-08']\n",
      "['0278891', 'Aaahh Belinda', 1986] mismatch ['Aaah Belinda', 1986]\n"
     ]
    },
    {
     "data": {
      "text/plain": [
       "',imdbid,Movie name,Movie release year,Movie box office revenue,Movie runtime,Movie languages,Movie countries,Movie genres,Plot summary\\n0,0228333,Ghosts of Mars,2001-08-24,14010832.0,98.0,\"{\"\"/m/02h40lc\"\": \"\"English Language\"\"}\",\"{\"\"/m/09c7w0\"\": \"\"United States of America\"\"}\",\"{\"\"/m/01jfsb\"\": \"\"Thriller\"\", \"\"/m/06n90\"\": \"\"Science Fiction\"\", \"\"/m/03npn\"\": \"\"Horror\"\", \"\"/m/03k9fj\"\": \"\"Adventure\"\", \"\"/m/0fdjb\"\": \"\"Supernatural\"\", \"\"/m/02kdv5l\"\": \"\"Action\"\", \"\"/m/09zvmj\"\": \"\"Space western\"\"}\",\"Set in the second half of the 22nd century, the film depicts Mars as a planet that has been 84% terraformed, allowing humans to walk on the surface without wearing pressure suits. The Martian society has become largely matriarchal, with women in most positions of authority. The story concerns a police officer, Melanie Ballard , second in command of a small team alongside Sergeant Jericho  sent to pick up and transport a prisoner named Desolation Williams . Arriving at the remote mining town where Williams is being held, Ballard finds virtually all of the people missing. She learns that the miners had discovered an underground doorway created by an ancient Martian civilization. When the door was opened it released \"\"ghosts,\"\" disembodied spirits which possessed the miners. Violence ensues, as the possessed miners commit horrific acts of death and destruction, as well as self-mutilation. With their team leader Helena Bradock  murdered, Ballard must fight off the attacking miners, escape the town, and destroy the ghosts, if possible. Unfortunately, her intentions are complicated by the fact that killing a possessed human merely releases the Martian spirit to possess another human. The team eventually decides to blow up a nuclear reactor to try and vaporize all of the ghosts. At several points in the film Sergeant Jericho shows a romantic interest in Ballard, mostly unreciprocated. Ballard\\'s crew along with survivors who manage to gather in the jail are eventually wiped out by the miners after many fierce battles and events , leaving only her and Williams after Sergeant Jericho and the other remaining officers and the two operators of the train are killed upon returning from a brief retreat to finish the fight. Not wanting the authorities to blame the massacre on him, he handcuffs Ballard to her cot and escapes from the train, leaving her to return home and deliver her report, which is received with skepticism by her superiors. While Ballard recuperates at a hospital, the released spirits, who weren\\'t destroyed after all, attack the city. The end scene sets the movie up for a sequel as Williams returns to team up with Ballard to fight the possessed.\"\\n1,0097499,Henry V,1989-11-08,10161099.0,137.0,\"{\"\"/m/02h40lc\"\": \"\"English Language\"\"}\",\"{\"\"/m/07ssc\"\": \"\"United Kingdom\"\"}\",\"{\"\"/m/04xvh5\"\": \"\"Costume drama\"\", \"\"/m/082gq\"\": \"\"War film\"\", \"\"/m/06l3bl\"\": \"\"Epic\"\", \"\"/m/04xvlr\"\": \"\"Period piece\"\", \"\"/m/07s9rl0\"\": \"\"Drama\"\", \"\"/m/060__y\"\": \"\"Film adaptation\"\"}\",{{Plot|dateAct 1Act 2Act 3Act 4Act 5 Finally negotiations are made for Henry to be named king of both England and France. He has a brief romantic interlude with Catherine while the French and English royal delegations negotiate the Treaty of Troyes. The Greek chorus informs the audience that an English-French union lasted as long as Henry V lived and was only lost under his successor Henry VI.\\n'"
      ]
     },
     "execution_count": 28,
     "metadata": {},
     "output_type": "execute_result"
    }
   ],
   "source": [
    "clean_movie_metadata = []\n",
    "ia = Cinemagoer()\n",
    "import random\n",
    "\n",
    "for index, row in df_movie_metadata.iterrows():\n",
    "    while True:\n",
    "        try:\n",
    "            film = ia.search_movie(row['Movie name'])[0]\n",
    "            break\n",
    "        except IndexError:\n",
    "            pass\n",
    "        except:\n",
    "            print(row['Movie name'], \"not found\")\n",
    "    if row.isnull().sum() == 0:\n",
    "        clean_movie_metadata.append([film.movieID, *row.tolist()[1:]])\n",
    "        print([film.movieID, *row.tolist()[1:3]])\n",
    "    else:\n",
    "        try:\n",
    "            if film[\"title\"].casefold() == row['Movie name'].casefold() and film[\"year\"] == pd.to_datetime(row['Movie release date']).year:\n",
    "                film = ia.get_movie(film.movieID)\n",
    "                clean_movie_metadata.append([film.movieID, film[\"title\"], film[\"year\"], int(film[\"box office\"]['Opening Weekend United States'].split()[0][1:].replace(',','')), int(film[\"runtimes\"][0]), row[\"Movie languages (Freebase ID:name tuples)\"], row[\"Movie countries (Freebase ID:name tuples)\"], row[\"Movie genres (Freebase ID:name tuples)\"], row[\"Plot summary\"]])\n",
    "                print([film.movieID, film[\"title\"], film[\"year\"]])\n",
    "            else:\n",
    "                print([film.movieID, film[\"title\"], film[\"year\"]], \"mismatch\", [row['Movie name'], pd.to_datetime(row['Movie release date']).year])\n",
    "        except KeyError as e:\n",
    "            print(film[\"title\"], \"missing data\", e)\n",
    "    if random.random() < 0.1:\n",
    "        break\n",
    "        \n",
    "clean_movie_metadata = pd.DataFrame(clean_movie_metadata, columns = [\"imdbid\", \"Movie name\", \"Movie release year\", \"Movie box office revenue\", \"Movie runtime\", \"Movie languages\", \"Movie countries\", \"Movie genres\", \"Plot summary\"])\n",
    "clean_movie_metadata.set_index(\"imdbid\")\n",
    "clean_movie_metadata.to_csv()"
   ]
  },
  {
   "cell_type": "code",
   "execution_count": 29,
   "metadata": {},
   "outputs": [
    {
     "data": {
      "text/html": [
       "<div>\n",
       "<style scoped>\n",
       "    .dataframe tbody tr th:only-of-type {\n",
       "        vertical-align: middle;\n",
       "    }\n",
       "\n",
       "    .dataframe tbody tr th {\n",
       "        vertical-align: top;\n",
       "    }\n",
       "\n",
       "    .dataframe thead th {\n",
       "        text-align: right;\n",
       "    }\n",
       "</style>\n",
       "<table border=\"1\" class=\"dataframe\">\n",
       "  <thead>\n",
       "    <tr style=\"text-align: right;\">\n",
       "      <th></th>\n",
       "      <th>imdbid</th>\n",
       "      <th>Movie name</th>\n",
       "      <th>Movie release year</th>\n",
       "      <th>Movie box office revenue</th>\n",
       "      <th>Movie runtime</th>\n",
       "      <th>Movie languages</th>\n",
       "      <th>Movie countries</th>\n",
       "      <th>Movie genres</th>\n",
       "      <th>Plot summary</th>\n",
       "    </tr>\n",
       "  </thead>\n",
       "  <tbody>\n",
       "    <tr>\n",
       "      <th>0</th>\n",
       "      <td>0228333</td>\n",
       "      <td>Ghosts of Mars</td>\n",
       "      <td>2001-08-24</td>\n",
       "      <td>14010832.0</td>\n",
       "      <td>98.0</td>\n",
       "      <td>{\"/m/02h40lc\": \"English Language\"}</td>\n",
       "      <td>{\"/m/09c7w0\": \"United States of America\"}</td>\n",
       "      <td>{\"/m/01jfsb\": \"Thriller\", \"/m/06n90\": \"Science...</td>\n",
       "      <td>Set in the second half of the 22nd century, th...</td>\n",
       "    </tr>\n",
       "    <tr>\n",
       "      <th>1</th>\n",
       "      <td>0097499</td>\n",
       "      <td>Henry V</td>\n",
       "      <td>1989-11-08</td>\n",
       "      <td>10161099.0</td>\n",
       "      <td>137.0</td>\n",
       "      <td>{\"/m/02h40lc\": \"English Language\"}</td>\n",
       "      <td>{\"/m/07ssc\": \"United Kingdom\"}</td>\n",
       "      <td>{\"/m/04xvh5\": \"Costume drama\", \"/m/082gq\": \"Wa...</td>\n",
       "      <td>{{Plot|dateAct 1Act 2Act 3Act 4Act 5 Finally n...</td>\n",
       "    </tr>\n",
       "  </tbody>\n",
       "</table>\n",
       "</div>"
      ],
      "text/plain": [
       "    imdbid      Movie name Movie release year  Movie box office revenue  \\\n",
       "0  0228333  Ghosts of Mars         2001-08-24                14010832.0   \n",
       "1  0097499         Henry V         1989-11-08                10161099.0   \n",
       "\n",
       "   Movie runtime                     Movie languages  \\\n",
       "0           98.0  {\"/m/02h40lc\": \"English Language\"}   \n",
       "1          137.0  {\"/m/02h40lc\": \"English Language\"}   \n",
       "\n",
       "                             Movie countries  \\\n",
       "0  {\"/m/09c7w0\": \"United States of America\"}   \n",
       "1             {\"/m/07ssc\": \"United Kingdom\"}   \n",
       "\n",
       "                                        Movie genres  \\\n",
       "0  {\"/m/01jfsb\": \"Thriller\", \"/m/06n90\": \"Science...   \n",
       "1  {\"/m/04xvh5\": \"Costume drama\", \"/m/082gq\": \"Wa...   \n",
       "\n",
       "                                        Plot summary  \n",
       "0  Set in the second half of the 22nd century, th...  \n",
       "1  {{Plot|dateAct 1Act 2Act 3Act 4Act 5 Finally n...  "
      ]
     },
     "execution_count": 29,
     "metadata": {},
     "output_type": "execute_result"
    }
   ],
   "source": [
    "clean_movie_metadata"
   ]
  },
  {
   "cell_type": "code",
   "execution_count": null,
   "metadata": {},
   "outputs": [],
   "source": []
  }
 ],
 "metadata": {
  "kernelspec": {
   "display_name": "Python 3",
   "language": "python",
   "name": "python3"
  },
  "language_info": {
   "codemirror_mode": {
    "name": "ipython",
    "version": 3
   },
   "file_extension": ".py",
   "mimetype": "text/x-python",
   "name": "python",
   "nbconvert_exporter": "python",
   "pygments_lexer": "ipython3",
   "version": "3.9.6 (default, Aug  5 2022, 15:21:02) \n[Clang 14.0.0 (clang-1400.0.29.102)]"
  },
  "vscode": {
   "interpreter": {
    "hash": "31f2aee4e71d21fbe5cf8b01ff0e069b9275f58929596ceb00d14d90e3e16cd6"
   }
  }
 },
 "nbformat": 4,
 "nbformat_minor": 4
}
