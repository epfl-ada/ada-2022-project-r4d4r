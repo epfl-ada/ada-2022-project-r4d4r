{
 "cells": [
  {
   "cell_type": "markdown",
   "metadata": {},
   "source": [
    "# Initial analysis for project milestone 2\n",
    "\n",
    "## Imports"
   ]
  },
  {
   "cell_type": "code",
   "execution_count": 81,
   "metadata": {},
   "outputs": [],
   "source": [
    "import numpy as np\n",
    "import pandas as pd\n",
    "import itertools\n",
    "from collections import Counter\n",
    "import json\n",
    "import matplotlib.pyplot as plt\n",
    "from imdb import Cinemagoer\n",
    "%matplotlib inline"
   ]
  },
  {
   "cell_type": "markdown",
   "metadata": {},
   "source": [
    "## Constants"
   ]
  },
  {
   "cell_type": "code",
   "execution_count": 82,
   "metadata": {},
   "outputs": [],
   "source": [
    "DATA_PATH = 'Data/'\n",
    "PLOT_SUMMARIES_FILENAME = 'plot_summaries.txt'\n",
    "MOVIE_METADATA_FILENAME = 'movie.metadata.tsv'\n",
    "CHARACTER_METADATA_FILENAME = 'character.metadata.tsv'\n",
    "CHARACTER_TYPES_FILENAME = 'tvtropes.clusters.txt' #character types \n",
    "CHARACTER_NAMES_FILENAME ='name.clusters.txt' #unique character names used in at least 2 movies\n",
    "\n",
    "COLUMN_NAMES_MOVIE_METADATA = ['Wikipedia movie ID', 'Freebase movie ID', 'Movie name', 'Movie release date', \n",
    "                            'Movie box office revenue', 'Movie runtime', 'Movie languages (Freebase ID:name tuples)', \n",
    "                            'Movie countries (Freebase ID:name tuples)', 'Movie genres (Freebase ID:name tuples)']\n",
    "\n",
    "COLUMN_NAMES_CHARACTER_METADATA = ['Wikipedia movie ID', 'Freebase movie ID', 'Movie release date', 'Character name', 'Actor date of birth', 'Actor gender', 'Actor height (in meters)', 'Actor ethnicity (Freebase ID)', 'Actor name', 'Actor age at movie release', 'Freebase character/actor map ID', 'Freebase character ID', 'Freebase actor ID']\n",
    "COLUMN_NAMES_PLOT_SUMMARIES = ['Wikipedia movie ID', 'Plot summary']\n",
    "\n",
    "\n"
   ]
  },
  {
   "cell_type": "markdown",
   "metadata": {},
   "source": [
    "# About the movie metadata"
   ]
  },
  {
   "cell_type": "markdown",
   "metadata": {},
   "source": [
    "### Import and general analysis"
   ]
  },
  {
   "cell_type": "code",
   "execution_count": 83,
   "metadata": {},
   "outputs": [
    {
     "data": {
      "text/html": [
       "<div>\n",
       "<style scoped>\n",
       "    .dataframe tbody tr th:only-of-type {\n",
       "        vertical-align: middle;\n",
       "    }\n",
       "\n",
       "    .dataframe tbody tr th {\n",
       "        vertical-align: top;\n",
       "    }\n",
       "\n",
       "    .dataframe thead th {\n",
       "        text-align: right;\n",
       "    }\n",
       "</style>\n",
       "<table border=\"1\" class=\"dataframe\">\n",
       "  <thead>\n",
       "    <tr style=\"text-align: right;\">\n",
       "      <th></th>\n",
       "      <th>Freebase movie ID</th>\n",
       "      <th>Movie name</th>\n",
       "      <th>Movie release date</th>\n",
       "      <th>Movie box office revenue</th>\n",
       "      <th>Movie runtime</th>\n",
       "      <th>Movie languages (Freebase ID:name tuples)</th>\n",
       "      <th>Movie countries (Freebase ID:name tuples)</th>\n",
       "      <th>Movie genres (Freebase ID:name tuples)</th>\n",
       "    </tr>\n",
       "    <tr>\n",
       "      <th>Wikipedia movie ID</th>\n",
       "      <th></th>\n",
       "      <th></th>\n",
       "      <th></th>\n",
       "      <th></th>\n",
       "      <th></th>\n",
       "      <th></th>\n",
       "      <th></th>\n",
       "      <th></th>\n",
       "    </tr>\n",
       "  </thead>\n",
       "  <tbody>\n",
       "    <tr>\n",
       "      <th>975900</th>\n",
       "      <td>/m/03vyhn</td>\n",
       "      <td>Ghosts of Mars</td>\n",
       "      <td>2001-08-24</td>\n",
       "      <td>14010832.0</td>\n",
       "      <td>98.0</td>\n",
       "      <td>{\"/m/02h40lc\": \"English Language\"}</td>\n",
       "      <td>{\"/m/09c7w0\": \"United States of America\"}</td>\n",
       "      <td>{\"/m/01jfsb\": \"Thriller\", \"/m/06n90\": \"Science...</td>\n",
       "    </tr>\n",
       "    <tr>\n",
       "      <th>3196793</th>\n",
       "      <td>/m/08yl5d</td>\n",
       "      <td>Getting Away with Murder: The JonBenét Ramsey ...</td>\n",
       "      <td>2000-02-16</td>\n",
       "      <td>NaN</td>\n",
       "      <td>95.0</td>\n",
       "      <td>{\"/m/02h40lc\": \"English Language\"}</td>\n",
       "      <td>{\"/m/09c7w0\": \"United States of America\"}</td>\n",
       "      <td>{\"/m/02n4kr\": \"Mystery\", \"/m/03bxz7\": \"Biograp...</td>\n",
       "    </tr>\n",
       "    <tr>\n",
       "      <th>28463795</th>\n",
       "      <td>/m/0crgdbh</td>\n",
       "      <td>Brun bitter</td>\n",
       "      <td>1988</td>\n",
       "      <td>NaN</td>\n",
       "      <td>83.0</td>\n",
       "      <td>{\"/m/05f_3\": \"Norwegian Language\"}</td>\n",
       "      <td>{\"/m/05b4w\": \"Norway\"}</td>\n",
       "      <td>{\"/m/0lsxr\": \"Crime Fiction\", \"/m/07s9rl0\": \"D...</td>\n",
       "    </tr>\n",
       "    <tr>\n",
       "      <th>9363483</th>\n",
       "      <td>/m/0285_cd</td>\n",
       "      <td>White Of The Eye</td>\n",
       "      <td>1987</td>\n",
       "      <td>NaN</td>\n",
       "      <td>110.0</td>\n",
       "      <td>{\"/m/02h40lc\": \"English Language\"}</td>\n",
       "      <td>{\"/m/07ssc\": \"United Kingdom\"}</td>\n",
       "      <td>{\"/m/01jfsb\": \"Thriller\", \"/m/0glj9q\": \"Erotic...</td>\n",
       "    </tr>\n",
       "    <tr>\n",
       "      <th>261236</th>\n",
       "      <td>/m/01mrr1</td>\n",
       "      <td>A Woman in Flames</td>\n",
       "      <td>1983</td>\n",
       "      <td>NaN</td>\n",
       "      <td>106.0</td>\n",
       "      <td>{\"/m/04306rv\": \"German Language\"}</td>\n",
       "      <td>{\"/m/0345h\": \"Germany\"}</td>\n",
       "      <td>{\"/m/07s9rl0\": \"Drama\"}</td>\n",
       "    </tr>\n",
       "  </tbody>\n",
       "</table>\n",
       "</div>"
      ],
      "text/plain": [
       "                   Freebase movie ID  \\\n",
       "Wikipedia movie ID                     \n",
       "975900                     /m/03vyhn   \n",
       "3196793                    /m/08yl5d   \n",
       "28463795                  /m/0crgdbh   \n",
       "9363483                   /m/0285_cd   \n",
       "261236                     /m/01mrr1   \n",
       "\n",
       "                                                           Movie name  \\\n",
       "Wikipedia movie ID                                                      \n",
       "975900                                                 Ghosts of Mars   \n",
       "3196793             Getting Away with Murder: The JonBenét Ramsey ...   \n",
       "28463795                                                  Brun bitter   \n",
       "9363483                                              White Of The Eye   \n",
       "261236                                              A Woman in Flames   \n",
       "\n",
       "                   Movie release date  Movie box office revenue  \\\n",
       "Wikipedia movie ID                                                \n",
       "975900                     2001-08-24                14010832.0   \n",
       "3196793                    2000-02-16                       NaN   \n",
       "28463795                         1988                       NaN   \n",
       "9363483                          1987                       NaN   \n",
       "261236                           1983                       NaN   \n",
       "\n",
       "                    Movie runtime Movie languages (Freebase ID:name tuples)  \\\n",
       "Wikipedia movie ID                                                            \n",
       "975900                       98.0        {\"/m/02h40lc\": \"English Language\"}   \n",
       "3196793                      95.0        {\"/m/02h40lc\": \"English Language\"}   \n",
       "28463795                     83.0        {\"/m/05f_3\": \"Norwegian Language\"}   \n",
       "9363483                     110.0        {\"/m/02h40lc\": \"English Language\"}   \n",
       "261236                      106.0         {\"/m/04306rv\": \"German Language\"}   \n",
       "\n",
       "                    Movie countries (Freebase ID:name tuples)  \\\n",
       "Wikipedia movie ID                                              \n",
       "975900              {\"/m/09c7w0\": \"United States of America\"}   \n",
       "3196793             {\"/m/09c7w0\": \"United States of America\"}   \n",
       "28463795                               {\"/m/05b4w\": \"Norway\"}   \n",
       "9363483                        {\"/m/07ssc\": \"United Kingdom\"}   \n",
       "261236                                {\"/m/0345h\": \"Germany\"}   \n",
       "\n",
       "                               Movie genres (Freebase ID:name tuples)  \n",
       "Wikipedia movie ID                                                     \n",
       "975900              {\"/m/01jfsb\": \"Thriller\", \"/m/06n90\": \"Science...  \n",
       "3196793             {\"/m/02n4kr\": \"Mystery\", \"/m/03bxz7\": \"Biograp...  \n",
       "28463795            {\"/m/0lsxr\": \"Crime Fiction\", \"/m/07s9rl0\": \"D...  \n",
       "9363483             {\"/m/01jfsb\": \"Thriller\", \"/m/0glj9q\": \"Erotic...  \n",
       "261236                                        {\"/m/07s9rl0\": \"Drama\"}  "
      ]
     },
     "execution_count": 83,
     "metadata": {},
     "output_type": "execute_result"
    }
   ],
   "source": [
    "# Reading the movie metadata and displaying the first elements of the dataframe\n",
    "df_movie_metadata = pd.read_csv(DATA_PATH + MOVIE_METADATA_FILENAME, sep='\\t', header=None, names=COLUMN_NAMES_MOVIE_METADATA, index_col=0)\n",
    "df_movie_metadata.head()"
   ]
  },
  {
   "cell_type": "code",
   "execution_count": 84,
   "metadata": {},
   "outputs": [
    {
     "data": {
      "text/html": [
       "<div>\n",
       "<style scoped>\n",
       "    .dataframe tbody tr th:only-of-type {\n",
       "        vertical-align: middle;\n",
       "    }\n",
       "\n",
       "    .dataframe tbody tr th {\n",
       "        vertical-align: top;\n",
       "    }\n",
       "\n",
       "    .dataframe thead th {\n",
       "        text-align: right;\n",
       "    }\n",
       "</style>\n",
       "<table border=\"1\" class=\"dataframe\">\n",
       "  <thead>\n",
       "    <tr style=\"text-align: right;\">\n",
       "      <th></th>\n",
       "      <th>Freebase movie ID</th>\n",
       "      <th>Movie name</th>\n",
       "      <th>Movie release date</th>\n",
       "      <th>Movie languages (Freebase ID:name tuples)</th>\n",
       "      <th>Movie countries (Freebase ID:name tuples)</th>\n",
       "      <th>Movie genres (Freebase ID:name tuples)</th>\n",
       "    </tr>\n",
       "  </thead>\n",
       "  <tbody>\n",
       "    <tr>\n",
       "      <th>count</th>\n",
       "      <td>81741</td>\n",
       "      <td>81741</td>\n",
       "      <td>74839</td>\n",
       "      <td>81741</td>\n",
       "      <td>81741</td>\n",
       "      <td>81741</td>\n",
       "    </tr>\n",
       "    <tr>\n",
       "      <th>unique</th>\n",
       "      <td>81741</td>\n",
       "      <td>75478</td>\n",
       "      <td>20389</td>\n",
       "      <td>1817</td>\n",
       "      <td>2124</td>\n",
       "      <td>23817</td>\n",
       "    </tr>\n",
       "    <tr>\n",
       "      <th>top</th>\n",
       "      <td>/m/03vyhn</td>\n",
       "      <td>Alice in Wonderland</td>\n",
       "      <td>2006</td>\n",
       "      <td>{\"/m/02h40lc\": \"English Language\"}</td>\n",
       "      <td>{\"/m/09c7w0\": \"United States of America\"}</td>\n",
       "      <td>{\"/m/07s9rl0\": \"Drama\"}</td>\n",
       "    </tr>\n",
       "    <tr>\n",
       "      <th>freq</th>\n",
       "      <td>1</td>\n",
       "      <td>17</td>\n",
       "      <td>1011</td>\n",
       "      <td>33748</td>\n",
       "      <td>30300</td>\n",
       "      <td>6851</td>\n",
       "    </tr>\n",
       "  </tbody>\n",
       "</table>\n",
       "</div>"
      ],
      "text/plain": [
       "       Freebase movie ID           Movie name Movie release date  \\\n",
       "count              81741                81741              74839   \n",
       "unique             81741                75478              20389   \n",
       "top            /m/03vyhn  Alice in Wonderland               2006   \n",
       "freq                   1                   17               1011   \n",
       "\n",
       "       Movie languages (Freebase ID:name tuples)  \\\n",
       "count                                      81741   \n",
       "unique                                      1817   \n",
       "top           {\"/m/02h40lc\": \"English Language\"}   \n",
       "freq                                       33748   \n",
       "\n",
       "        Movie countries (Freebase ID:name tuples)  \\\n",
       "count                                       81741   \n",
       "unique                                       2124   \n",
       "top     {\"/m/09c7w0\": \"United States of America\"}   \n",
       "freq                                        30300   \n",
       "\n",
       "       Movie genres (Freebase ID:name tuples)  \n",
       "count                                   81741  \n",
       "unique                                  23817  \n",
       "top                   {\"/m/07s9rl0\": \"Drama\"}  \n",
       "freq                                     6851  "
      ]
     },
     "execution_count": 84,
     "metadata": {},
     "output_type": "execute_result"
    }
   ],
   "source": [
    "# Simple statistics regarding the dataframe\n",
    "df_movie_metadata.describe(include=\"object\")"
   ]
  },
  {
   "cell_type": "markdown",
   "metadata": {},
   "source": [
    "### Extreme and null values"
   ]
  },
  {
   "cell_type": "code",
   "execution_count": 85,
   "metadata": {},
   "outputs": [
    {
     "name": "stdout",
     "output_type": "stream",
     "text": [
      "                        Movie name  Movie runtime\n",
      "Wikipedia movie ID                               \n",
      "10815585            Zero Tolerance      1079281.0\n"
     ]
    }
   ],
   "source": [
    "# Looking for movies with extreme runtime values\n",
    "print(df_movie_metadata[df_movie_metadata[\"Movie runtime\"] == df_movie_metadata[\"Movie runtime\"].max()][[\"Movie name\", \"Movie runtime\"]])"
   ]
  },
  {
   "cell_type": "code",
   "execution_count": 86,
   "metadata": {},
   "outputs": [
    {
     "name": "stdout",
     "output_type": "stream",
     "text": [
      "<class 'pandas.core.frame.DataFrame'>\n",
      "Int64Index: 81741 entries, 975900 to 12476867\n",
      "Data columns (total 8 columns):\n",
      " #   Column                                     Non-Null Count  Dtype  \n",
      "---  ------                                     --------------  -----  \n",
      " 0   Freebase movie ID                          81741 non-null  object \n",
      " 1   Movie name                                 81741 non-null  object \n",
      " 2   Movie release date                         74839 non-null  object \n",
      " 3   Movie box office revenue                   8401 non-null   float64\n",
      " 4   Movie runtime                              61291 non-null  float64\n",
      " 5   Movie languages (Freebase ID:name tuples)  81741 non-null  object \n",
      " 6   Movie countries (Freebase ID:name tuples)  81741 non-null  object \n",
      " 7   Movie genres (Freebase ID:name tuples)     81741 non-null  object \n",
      "dtypes: float64(2), object(6)\n",
      "memory usage: 5.6+ MB\n"
     ]
    }
   ],
   "source": [
    "# Looking for the amount of null values in the data set\n",
    "df_movie_metadata.info()"
   ]
  },
  {
   "cell_type": "markdown",
   "metadata": {},
   "source": [
    "We can see that a significant part of the dataset has missing runtime data and we will not consider the data to be perfectly correct as it contains some errors. For instance the movie \"Zero Tolerance\" is in fact only 94 min long. Also, we can see that most of the dataset has missing box office data. The missing release dates are on a very small subset of the dataset so we will simply ignore those lines when using release dates.<br> \n",
    "For the relevant analysis, we will hence be completing the dataset with imdb-data using the Cinemagoer python library."
   ]
  },
  {
   "cell_type": "markdown",
   "metadata": {},
   "source": [
    "### Country analysis"
   ]
  },
  {
   "cell_type": "code",
   "execution_count": 296,
   "metadata": {},
   "outputs": [
    {
     "name": "stdout",
     "output_type": "stream",
     "text": [
      "Movies without country: 2278\n"
     ]
    }
   ],
   "source": [
    "print(f\"Movies without country: {(df_movie_metadata['Movie countries (Freebase ID:name tuples)']=='{}').sum()}\")\n",
    "country_counts = dict(Counter(itertools.chain.from_iterable(map(lambda x: json.loads(x).values(), df_movie_metadata[\"Movie countries (Freebase ID:name tuples)\"].values.tolist()))))\n",
    "country_counts = dict(sorted(country_counts.items(), key = lambda x: x[1], reverse = True))"
   ]
  },
  {
   "cell_type": "markdown",
   "metadata": {},
   "source": [
    "From the country occurence count, we can consider that the dataset is oriented towards films that have a minimum popularity in the american culture."
   ]
  },
  {
   "cell_type": "markdown",
   "metadata": {},
   "source": [
    "### Language analysis"
   ]
  },
  {
   "cell_type": "code",
   "execution_count": 297,
   "metadata": {},
   "outputs": [
    {
     "name": "stdout",
     "output_type": "stream",
     "text": [
      "Movies without language: 3793\n"
     ]
    }
   ],
   "source": [
    "print(f\"Movies without language: {(df_movie_metadata['Movie languages (Freebase ID:name tuples)']=='{}').sum()}\")\n",
    "language_counts = dict(Counter(itertools.chain.from_iterable(map(lambda x: json.loads(x).values(), df_movie_metadata[\"Movie languages (Freebase ID:name tuples)\"].values.tolist()))))\n",
    "language_counts = dict(sorted(language_counts.items(), key = lambda x: x[1], reverse = True))"
   ]
  },
  {
   "cell_type": "markdown",
   "metadata": {},
   "source": [
    "The language occurence count confirms our previous consideration from the country counts."
   ]
  },
  {
   "cell_type": "markdown",
   "metadata": {},
   "source": [
    "### Movie genre analysis"
   ]
  },
  {
   "cell_type": "code",
   "execution_count": 308,
   "metadata": {},
   "outputs": [
    {
     "name": "stdout",
     "output_type": "stream",
     "text": [
      "Movies without genre: 296\n"
     ]
    }
   ],
   "source": [
    "print(f\"Movies without genre: {(df_movie_metadata['Movie genres (Freebase ID:name tuples)']=='{}').sum()}\")\n",
    "genre_counts = dict(Counter(itertools.chain.from_iterable(map(lambda x: json.loads(x).values(), df_movie_metadata[\"Movie genres (Freebase ID:name tuples)\"].values.tolist()))))\n",
    "genre_counts = dict(sorted(genre_counts.items(), key = lambda x: x[1], reverse = True))"
   ]
  },
  {
   "cell_type": "code",
   "execution_count": 309,
   "metadata": {},
   "outputs": [],
   "source": [
    "# preparation of the dataframes\n",
    "country_df = pd.DataFrame.from_dict(country_counts, orient=\"index\").reset_index(level=0)\n",
    "country_df.columns = [\"country\", \"occurency\"]\n",
    "\n",
    "language_df = pd.DataFrame.from_dict(language_counts, orient=\"index\").reset_index(level=0)\n",
    "language_df.columns = [\"language\", \"occurency\"]\n",
    "\n",
    "genre_df = pd.DataFrame.from_dict(genre_counts, orient=\"index\").reset_index(level=0)\n",
    "genre_df.columns = [\"genre\", \"occurency\"]"
   ]
  },
  {
   "cell_type": "code",
   "execution_count": 311,
   "metadata": {},
   "outputs": [
    {
     "data": {
      "text/html": [
       "<div>\n",
       "<style scoped>\n",
       "    .dataframe tbody tr th:only-of-type {\n",
       "        vertical-align: middle;\n",
       "    }\n",
       "\n",
       "    .dataframe tbody tr th {\n",
       "        vertical-align: top;\n",
       "    }\n",
       "\n",
       "    .dataframe thead th {\n",
       "        text-align: right;\n",
       "    }\n",
       "</style>\n",
       "<table border=\"1\" class=\"dataframe\">\n",
       "  <thead>\n",
       "    <tr style=\"text-align: right;\">\n",
       "      <th></th>\n",
       "      <th>country</th>\n",
       "      <th>occurency</th>\n",
       "    </tr>\n",
       "  </thead>\n",
       "  <tbody>\n",
       "    <tr>\n",
       "      <th>0</th>\n",
       "      <td>United States of America</td>\n",
       "      <td>19545</td>\n",
       "    </tr>\n",
       "    <tr>\n",
       "      <th>1</th>\n",
       "      <td>India</td>\n",
       "      <td>4597</td>\n",
       "    </tr>\n",
       "    <tr>\n",
       "      <th>2</th>\n",
       "      <td>United Kingdom</td>\n",
       "      <td>3739</td>\n",
       "    </tr>\n",
       "    <tr>\n",
       "      <th>3</th>\n",
       "      <td>France</td>\n",
       "      <td>2021</td>\n",
       "    </tr>\n",
       "    <tr>\n",
       "      <th>4</th>\n",
       "      <td>Canada</td>\n",
       "      <td>1365</td>\n",
       "    </tr>\n",
       "    <tr>\n",
       "      <th>...</th>\n",
       "      <td>...</td>\n",
       "      <td>...</td>\n",
       "    </tr>\n",
       "    <tr>\n",
       "      <th>133</th>\n",
       "      <td>Ethiopia</td>\n",
       "      <td>1</td>\n",
       "    </tr>\n",
       "    <tr>\n",
       "      <th>134</th>\n",
       "      <td>German Language</td>\n",
       "      <td>1</td>\n",
       "    </tr>\n",
       "    <tr>\n",
       "      <th>135</th>\n",
       "      <td>Ukranian SSR</td>\n",
       "      <td>1</td>\n",
       "    </tr>\n",
       "    <tr>\n",
       "      <th>136</th>\n",
       "      <td>Haiti</td>\n",
       "      <td>1</td>\n",
       "    </tr>\n",
       "    <tr>\n",
       "      <th>137</th>\n",
       "      <td>Guinea</td>\n",
       "      <td>1</td>\n",
       "    </tr>\n",
       "  </tbody>\n",
       "</table>\n",
       "<p>138 rows × 2 columns</p>\n",
       "</div>"
      ],
      "text/plain": [
       "                      country  occurency\n",
       "0    United States of America      19545\n",
       "1                       India       4597\n",
       "2              United Kingdom       3739\n",
       "3                      France       2021\n",
       "4                      Canada       1365\n",
       "..                        ...        ...\n",
       "133                  Ethiopia          1\n",
       "134           German Language          1\n",
       "135              Ukranian SSR          1\n",
       "136                     Haiti          1\n",
       "137                    Guinea          1\n",
       "\n",
       "[138 rows x 2 columns]"
      ]
     },
     "execution_count": 311,
     "metadata": {},
     "output_type": "execute_result"
    }
   ],
   "source": [
    "country_df"
   ]
  },
  {
   "cell_type": "code",
   "execution_count": 372,
   "metadata": {},
   "outputs": [],
   "source": [
    "top_countries = country_df.head(4)\n",
    "top_languages = language_df.head(4)\n",
    "top_genres = genre_df.head(10)\n",
    "\n",
    "other_countries = pd.DataFrame(data = {\n",
    "    'country' : ['Other countries'],\n",
    "    'occurency' : [country_df['occurency'][4:].sum()]\n",
    "})\n",
    "other_languages = pd.DataFrame(data = {\n",
    "    'language' : ['Other languages'],\n",
    "    'occurency' : [language_df['occurency'][4:].sum()]\n",
    "})\n",
    "other_genres = pd.DataFrame(data = {\n",
    "    'genre' : ['Other genre'],\n",
    "    'occurency' : [genre_df['occurency'][10:].sum()]\n",
    "})\n",
    "\n",
    "df1 = pd.concat([top_countries, other_countries])\n",
    "df2 = pd.concat([top_languages, other_languages])\n",
    "df3 = pd.concat([top_genres, other_genres])"
   ]
  },
  {
   "cell_type": "code",
   "execution_count": 373,
   "metadata": {},
   "outputs": [
    {
     "data": {
      "image/png": "[encoded data removed]",
      "text/plain": [
       "<Figure size 1152x576 with 1 Axes>"
      ]
     },
     "metadata": {},
     "output_type": "display_data"
    }
   ],
   "source": [
    "# plot of country occurencies\n",
    "fig, ax = plt.subplots(figsize=(16, 8), subplot_kw=dict(aspect=\"equal\"))\n",
    "\n",
    "def func(pct, allvals):\n",
    "    absolute = int(np.round(pct/100.*np.sum(allvals)))\n",
    "    return \"{:.1f}%\\n({:d})\".format(pct, absolute)\n",
    "\n",
    "data = df1[\"occurency\"]\n",
    "labels = df1[\"country\"]\n",
    "wedges, texts, autotexts = ax.pie(data, autopct=lambda pct: func(pct, data),\n",
    "                                  textprops=dict(color=\"w\"))\n",
    "\n",
    "ax.legend(wedges, labels,\n",
    "          title=\"Countries\",\n",
    "          loc=\"center left\",\n",
    "          bbox_to_anchor=(1, 0, 0.5, 1))\n",
    "\n",
    "plt.setp(autotexts, size=12, weight=\"bold\")\n",
    "\n",
    "ax.set_title(\"Country Occurency\")\n",
    "\n",
    "plt.show()"
   ]
  },
  {
   "cell_type": "code",
   "execution_count": 374,
   "metadata": {},
   "outputs": [
    {
     "data": {
      "image/png": "[encoded data removed]",
      "text/plain": [
       "<Figure size 1152x576 with 1 Axes>"
      ]
     },
     "metadata": {},
     "output_type": "display_data"
    }
   ],
   "source": [
    "# plot of language occurency\n",
    "fig, ax = plt.subplots(figsize=(16, 8), subplot_kw=dict(aspect=\"equal\"))\n",
    "\n",
    "def func(pct, allvals):\n",
    "    absolute = int(np.round(pct/100.*np.sum(allvals)))\n",
    "    return \"{:.1f}%\\n({:d})\".format(pct, absolute)\n",
    "\n",
    "data = df2[\"occurency\"]\n",
    "labels = df2[\"language\"]\n",
    "wedges, texts, autotexts = ax.pie(data, autopct=lambda pct: func(pct, data),\n",
    "                                  textprops=dict(color=\"w\"))\n",
    "\n",
    "ax.legend(wedges, labels,\n",
    "          title=\"Languages\",\n",
    "          loc=\"center left\",\n",
    "          bbox_to_anchor=(1, 0, 0.5, 1))\n",
    "\n",
    "plt.setp(autotexts, size=12, weight=\"bold\")\n",
    "\n",
    "ax.set_title(\"Language Occurency\")\n",
    "\n",
    "plt.show()"
   ]
  },
  {
   "cell_type": "code",
   "execution_count": 380,
   "metadata": {},
   "outputs": [
    {
     "data": {
      "image/png": "[encoded data removed]",
      "text/plain": [
       "<Figure size 432x288 with 1 Axes>"
      ]
     },
     "metadata": {
      "needs_background": "light"
     },
     "output_type": "display_data"
    }
   ],
   "source": [
    "# plot of genre occurency\n",
    "data = df3[\"occurency\"]\n",
    "labels = df3[\"genre\"]\n",
    "plt.barh(df3[\"genre\"], df3[\"occurency\"])\n",
    "\n",
    "plt.title(\"Genre Occurency\")\n",
    "\n",
    "plt.show()"
   ]
  },
  {
   "cell_type": "markdown",
   "metadata": {},
   "source": [
    "### Release date analysis"
   ]
  },
  {
   "cell_type": "code",
   "execution_count": 90,
   "metadata": {},
   "outputs": [
    {
     "name": "stdout",
     "output_type": "stream",
     "text": [
      "newest: 2016-06-08, oldest: 1010-12-02\n",
      "newest: 2014, oldest: 1900\n"
     ]
    },
    {
     "data": {
      "text/plain": [
       "<AxesSubplot: >"
      ]
     },
     "execution_count": 90,
     "metadata": {},
     "output_type": "execute_result"
    },
    {
     "data": {
      "image/png": "[encoded data removed]",
      "text/plain": [
       "<Figure size 640x480 with 1 Axes>"
      ]
     },
     "metadata": {},
     "output_type": "display_data"
    }
   ],
   "source": [
    "cleaned_dates = pd.to_datetime(df_movie_metadata['Movie release date'].dropna(), errors=\"ignore\")\n",
    "date_sample = cleaned_dates.sample(n = 1000)\n",
    "print(f\"newest: {cleaned_dates.max()}, oldest: {cleaned_dates.min()}\")\n",
    "print(f\"newest: {date_sample.max()}, oldest: {date_sample.min()}\")\n",
    "date_sample.hist(bins = 50)"
   ]
  },
  {
   "cell_type": "markdown",
   "metadata": {},
   "source": [
    "As a whole, we can see that the data set contains some errors (no movie could have been released in 1010), and that for each feature some data is more or less missing. The majority of the movies represented in the database are american/english dramas and comedies. The sparsity of the data is not an issue per say as we can complete it when needed with the Imdb dataset."
   ]
  },
  {
   "cell_type": "markdown",
   "metadata": {},
   "source": [
    "# About the character metadata"
   ]
  },
  {
   "cell_type": "markdown",
   "metadata": {},
   "source": [
    "### Import and general analysis"
   ]
  },
  {
   "cell_type": "code",
   "execution_count": 91,
   "metadata": {},
   "outputs": [
    {
     "data": {
      "text/html": [
       "<div>\n",
       "<style scoped>\n",
       "    .dataframe tbody tr th:only-of-type {\n",
       "        vertical-align: middle;\n",
       "    }\n",
       "\n",
       "    .dataframe tbody tr th {\n",
       "        vertical-align: top;\n",
       "    }\n",
       "\n",
       "    .dataframe thead th {\n",
       "        text-align: right;\n",
       "    }\n",
       "</style>\n",
       "<table border=\"1\" class=\"dataframe\">\n",
       "  <thead>\n",
       "    <tr style=\"text-align: right;\">\n",
       "      <th></th>\n",
       "      <th>Freebase movie ID</th>\n",
       "      <th>Movie release date</th>\n",
       "      <th>Character name</th>\n",
       "      <th>Actor date of birth</th>\n",
       "      <th>Actor gender</th>\n",
       "      <th>Actor height (in meters)</th>\n",
       "      <th>Actor ethnicity (Freebase ID)</th>\n",
       "      <th>Actor name</th>\n",
       "      <th>Actor age at movie release</th>\n",
       "      <th>Freebase character/actor map ID</th>\n",
       "      <th>Freebase character ID</th>\n",
       "      <th>Freebase actor ID</th>\n",
       "    </tr>\n",
       "    <tr>\n",
       "      <th>Wikipedia movie ID</th>\n",
       "      <th></th>\n",
       "      <th></th>\n",
       "      <th></th>\n",
       "      <th></th>\n",
       "      <th></th>\n",
       "      <th></th>\n",
       "      <th></th>\n",
       "      <th></th>\n",
       "      <th></th>\n",
       "      <th></th>\n",
       "      <th></th>\n",
       "      <th></th>\n",
       "    </tr>\n",
       "  </thead>\n",
       "  <tbody>\n",
       "    <tr>\n",
       "      <th>975900</th>\n",
       "      <td>/m/03vyhn</td>\n",
       "      <td>2001-08-24</td>\n",
       "      <td>Akooshay</td>\n",
       "      <td>1958-08-26</td>\n",
       "      <td>F</td>\n",
       "      <td>1.620</td>\n",
       "      <td>NaN</td>\n",
       "      <td>Wanda De Jesus</td>\n",
       "      <td>42.0</td>\n",
       "      <td>/m/0bgchxw</td>\n",
       "      <td>/m/0bgcj3x</td>\n",
       "      <td>/m/03wcfv7</td>\n",
       "    </tr>\n",
       "    <tr>\n",
       "      <th>975900</th>\n",
       "      <td>/m/03vyhn</td>\n",
       "      <td>2001-08-24</td>\n",
       "      <td>Lieutenant Melanie Ballard</td>\n",
       "      <td>1974-08-15</td>\n",
       "      <td>F</td>\n",
       "      <td>1.780</td>\n",
       "      <td>/m/044038p</td>\n",
       "      <td>Natasha Henstridge</td>\n",
       "      <td>27.0</td>\n",
       "      <td>/m/0jys3m</td>\n",
       "      <td>/m/0bgchn4</td>\n",
       "      <td>/m/0346l4</td>\n",
       "    </tr>\n",
       "    <tr>\n",
       "      <th>975900</th>\n",
       "      <td>/m/03vyhn</td>\n",
       "      <td>2001-08-24</td>\n",
       "      <td>Desolation Williams</td>\n",
       "      <td>1969-06-15</td>\n",
       "      <td>M</td>\n",
       "      <td>1.727</td>\n",
       "      <td>/m/0x67</td>\n",
       "      <td>Ice Cube</td>\n",
       "      <td>32.0</td>\n",
       "      <td>/m/0jys3g</td>\n",
       "      <td>/m/0bgchn_</td>\n",
       "      <td>/m/01vw26l</td>\n",
       "    </tr>\n",
       "    <tr>\n",
       "      <th>975900</th>\n",
       "      <td>/m/03vyhn</td>\n",
       "      <td>2001-08-24</td>\n",
       "      <td>Sgt Jericho Butler</td>\n",
       "      <td>1967-09-12</td>\n",
       "      <td>M</td>\n",
       "      <td>1.750</td>\n",
       "      <td>NaN</td>\n",
       "      <td>Jason Statham</td>\n",
       "      <td>33.0</td>\n",
       "      <td>/m/02vchl6</td>\n",
       "      <td>/m/0bgchnq</td>\n",
       "      <td>/m/034hyc</td>\n",
       "    </tr>\n",
       "    <tr>\n",
       "      <th>975900</th>\n",
       "      <td>/m/03vyhn</td>\n",
       "      <td>2001-08-24</td>\n",
       "      <td>Bashira Kincaid</td>\n",
       "      <td>1977-09-25</td>\n",
       "      <td>F</td>\n",
       "      <td>1.650</td>\n",
       "      <td>NaN</td>\n",
       "      <td>Clea DuVall</td>\n",
       "      <td>23.0</td>\n",
       "      <td>/m/02vbb3r</td>\n",
       "      <td>/m/0bgchp9</td>\n",
       "      <td>/m/01y9xg</td>\n",
       "    </tr>\n",
       "  </tbody>\n",
       "</table>\n",
       "</div>"
      ],
      "text/plain": [
       "                   Freebase movie ID Movie release date  \\\n",
       "Wikipedia movie ID                                        \n",
       "975900                     /m/03vyhn         2001-08-24   \n",
       "975900                     /m/03vyhn         2001-08-24   \n",
       "975900                     /m/03vyhn         2001-08-24   \n",
       "975900                     /m/03vyhn         2001-08-24   \n",
       "975900                     /m/03vyhn         2001-08-24   \n",
       "\n",
       "                                Character name Actor date of birth  \\\n",
       "Wikipedia movie ID                                                   \n",
       "975900                                Akooshay          1958-08-26   \n",
       "975900              Lieutenant Melanie Ballard          1974-08-15   \n",
       "975900                     Desolation Williams          1969-06-15   \n",
       "975900                      Sgt Jericho Butler          1967-09-12   \n",
       "975900                         Bashira Kincaid          1977-09-25   \n",
       "\n",
       "                   Actor gender  Actor height (in meters)  \\\n",
       "Wikipedia movie ID                                          \n",
       "975900                        F                     1.620   \n",
       "975900                        F                     1.780   \n",
       "975900                        M                     1.727   \n",
       "975900                        M                     1.750   \n",
       "975900                        F                     1.650   \n",
       "\n",
       "                   Actor ethnicity (Freebase ID)          Actor name  \\\n",
       "Wikipedia movie ID                                                     \n",
       "975900                                       NaN      Wanda De Jesus   \n",
       "975900                                /m/044038p  Natasha Henstridge   \n",
       "975900                                   /m/0x67            Ice Cube   \n",
       "975900                                       NaN       Jason Statham   \n",
       "975900                                       NaN         Clea DuVall   \n",
       "\n",
       "                    Actor age at movie release  \\\n",
       "Wikipedia movie ID                               \n",
       "975900                                    42.0   \n",
       "975900                                    27.0   \n",
       "975900                                    32.0   \n",
       "975900                                    33.0   \n",
       "975900                                    23.0   \n",
       "\n",
       "                   Freebase character/actor map ID Freebase character ID  \\\n",
       "Wikipedia movie ID                                                         \n",
       "975900                                  /m/0bgchxw            /m/0bgcj3x   \n",
       "975900                                   /m/0jys3m            /m/0bgchn4   \n",
       "975900                                   /m/0jys3g            /m/0bgchn_   \n",
       "975900                                  /m/02vchl6            /m/0bgchnq   \n",
       "975900                                  /m/02vbb3r            /m/0bgchp9   \n",
       "\n",
       "                   Freebase actor ID  \n",
       "Wikipedia movie ID                    \n",
       "975900                    /m/03wcfv7  \n",
       "975900                     /m/0346l4  \n",
       "975900                    /m/01vw26l  \n",
       "975900                     /m/034hyc  \n",
       "975900                     /m/01y9xg  "
      ]
     },
     "execution_count": 91,
     "metadata": {},
     "output_type": "execute_result"
    }
   ],
   "source": [
    "df_character_metadata = pd.read_csv(DATA_PATH + CHARACTER_METADATA_FILENAME, sep='\\t', header=None, names=COLUMN_NAMES_CHARACTER_METADATA, index_col=0)\n",
    "df_character_metadata.head()"
   ]
  },
  {
   "cell_type": "code",
   "execution_count": 92,
   "metadata": {},
   "outputs": [
    {
     "data": {
      "text/html": [
       "<div>\n",
       "<style scoped>\n",
       "    .dataframe tbody tr th:only-of-type {\n",
       "        vertical-align: middle;\n",
       "    }\n",
       "\n",
       "    .dataframe tbody tr th {\n",
       "        vertical-align: top;\n",
       "    }\n",
       "\n",
       "    .dataframe thead th {\n",
       "        text-align: right;\n",
       "    }\n",
       "</style>\n",
       "<table border=\"1\" class=\"dataframe\">\n",
       "  <thead>\n",
       "    <tr style=\"text-align: right;\">\n",
       "      <th></th>\n",
       "      <th>Freebase movie ID</th>\n",
       "      <th>Movie release date</th>\n",
       "      <th>Character name</th>\n",
       "      <th>Actor date of birth</th>\n",
       "      <th>Actor gender</th>\n",
       "      <th>Actor ethnicity (Freebase ID)</th>\n",
       "      <th>Actor name</th>\n",
       "      <th>Freebase character/actor map ID</th>\n",
       "      <th>Freebase character ID</th>\n",
       "      <th>Freebase actor ID</th>\n",
       "    </tr>\n",
       "  </thead>\n",
       "  <tbody>\n",
       "    <tr>\n",
       "      <th>count</th>\n",
       "      <td>450669</td>\n",
       "      <td>440674</td>\n",
       "      <td>192794</td>\n",
       "      <td>344524</td>\n",
       "      <td>405060</td>\n",
       "      <td>106058</td>\n",
       "      <td>449441</td>\n",
       "      <td>450669</td>\n",
       "      <td>192804</td>\n",
       "      <td>449854</td>\n",
       "    </tr>\n",
       "    <tr>\n",
       "      <th>unique</th>\n",
       "      <td>64330</td>\n",
       "      <td>18476</td>\n",
       "      <td>126629</td>\n",
       "      <td>29494</td>\n",
       "      <td>2</td>\n",
       "      <td>479</td>\n",
       "      <td>134078</td>\n",
       "      <td>450669</td>\n",
       "      <td>183435</td>\n",
       "      <td>135760</td>\n",
       "    </tr>\n",
       "    <tr>\n",
       "      <th>top</th>\n",
       "      <td>/m/0cc8620</td>\n",
       "      <td>2008</td>\n",
       "      <td>Doctor</td>\n",
       "      <td>1908-05-30</td>\n",
       "      <td>M</td>\n",
       "      <td>/m/0dryh9k</td>\n",
       "      <td>Mel Blanc</td>\n",
       "      <td>/m/0bgchxw</td>\n",
       "      <td>/m/0h577m2</td>\n",
       "      <td>/m/0c5vh</td>\n",
       "    </tr>\n",
       "    <tr>\n",
       "      <th>freq</th>\n",
       "      <td>115</td>\n",
       "      <td>5453</td>\n",
       "      <td>198</td>\n",
       "      <td>791</td>\n",
       "      <td>270257</td>\n",
       "      <td>16351</td>\n",
       "      <td>791</td>\n",
       "      <td>1</td>\n",
       "      <td>146</td>\n",
       "      <td>791</td>\n",
       "    </tr>\n",
       "  </tbody>\n",
       "</table>\n",
       "</div>"
      ],
      "text/plain": [
       "       Freebase movie ID Movie release date Character name  \\\n",
       "count             450669             440674         192794   \n",
       "unique             64330              18476         126629   \n",
       "top           /m/0cc8620               2008         Doctor   \n",
       "freq                 115               5453            198   \n",
       "\n",
       "       Actor date of birth Actor gender Actor ethnicity (Freebase ID)  \\\n",
       "count               344524       405060                        106058   \n",
       "unique               29494            2                           479   \n",
       "top             1908-05-30            M                    /m/0dryh9k   \n",
       "freq                   791       270257                         16351   \n",
       "\n",
       "       Actor name Freebase character/actor map ID Freebase character ID  \\\n",
       "count      449441                          450669                192804   \n",
       "unique     134078                          450669                183435   \n",
       "top     Mel Blanc                      /m/0bgchxw            /m/0h577m2   \n",
       "freq          791                               1                   146   \n",
       "\n",
       "       Freebase actor ID  \n",
       "count             449854  \n",
       "unique            135760  \n",
       "top             /m/0c5vh  \n",
       "freq                 791  "
      ]
     },
     "execution_count": 92,
     "metadata": {},
     "output_type": "execute_result"
    }
   ],
   "source": [
    "df_character_metadata.describe(include='object')"
   ]
  },
  {
   "cell_type": "markdown",
   "metadata": {},
   "source": [
    "### Null values"
   ]
  },
  {
   "cell_type": "code",
   "execution_count": 93,
   "metadata": {},
   "outputs": [
    {
     "name": "stdout",
     "output_type": "stream",
     "text": [
      "Total size of dataset: 450669\n",
      "Null data:\n",
      "Freebase movie ID                       0\n",
      "Movie release date                   9995\n",
      "Character name                     257875\n",
      "Actor date of birth                106145\n",
      "Actor gender                        45609\n",
      "Actor height (in meters)           295845\n",
      "Actor ethnicity (Freebase ID)      344611\n",
      "Actor name                           1228\n",
      "Actor age at movie release         158113\n",
      "Freebase character/actor map ID         0\n",
      "Freebase character ID              257865\n",
      "Freebase actor ID                     815\n",
      "dtype: int64\n"
     ]
    }
   ],
   "source": [
    "print(f\"Total size of dataset: {df_character_metadata.shape[0]}\")\n",
    "print(\"Null data:\")\n",
    "print(df_character_metadata.isnull().sum())"
   ]
  },
  {
   "cell_type": "code",
   "execution_count": 94,
   "metadata": {},
   "outputs": [
    {
     "name": "stdout",
     "output_type": "stream",
     "text": [
      "<class 'pandas.core.frame.DataFrame'>\n",
      "Int64Index: 450669 entries, 975900 to 28308153\n",
      "Data columns (total 12 columns):\n",
      " #   Column                           Non-Null Count   Dtype  \n",
      "---  ------                           --------------   -----  \n",
      " 0   Freebase movie ID                450669 non-null  object \n",
      " 1   Movie release date               440674 non-null  object \n",
      " 2   Character name                   192794 non-null  object \n",
      " 3   Actor date of birth              344524 non-null  object \n",
      " 4   Actor gender                     405060 non-null  object \n",
      " 5   Actor height (in meters)         154824 non-null  float64\n",
      " 6   Actor ethnicity (Freebase ID)    106058 non-null  object \n",
      " 7   Actor name                       449441 non-null  object \n",
      " 8   Actor age at movie release       292556 non-null  float64\n",
      " 9   Freebase character/actor map ID  450669 non-null  object \n",
      " 10  Freebase character ID            192804 non-null  object \n",
      " 11  Freebase actor ID                449854 non-null  object \n",
      "dtypes: float64(2), object(10)\n",
      "memory usage: 44.7+ MB\n"
     ]
    }
   ],
   "source": [
    "df_character_metadata.info()"
   ]
  },
  {
   "cell_type": "markdown",
   "metadata": {},
   "source": [
    "From the above statistics, we can see that for most of the actors the character name, the ethnicity and the height are missing."
   ]
  },
  {
   "cell_type": "markdown",
   "metadata": {},
   "source": [
    "### Gender analysis"
   ]
  },
  {
   "cell_type": "code",
   "execution_count": 384,
   "metadata": {},
   "outputs": [
    {
     "data": {
      "image/png": "[encoded data removed]",
      "text/plain": [
       "<Figure size 432x288 with 1 Axes>"
      ]
     },
     "metadata": {},
     "output_type": "display_data"
    }
   ],
   "source": [
    "actor_gender = df_character_metadata[[\"Actor gender\", \"Freebase actor ID\"]].drop_duplicates().dropna()[\"Actor gender\"].value_counts()\n",
    "plt.pie(actor_gender, labels=[\"Male\", \"Female\"], startangle = 90)\n",
    "plt.title(\"Gender repartition\")\n",
    "plt.show() "
   ]
  },
  {
   "cell_type": "markdown",
   "metadata": {},
   "source": [
    "### Actors ethnicity analysis"
   ]
  },
  {
   "cell_type": "code",
   "execution_count": 96,
   "metadata": {},
   "outputs": [
    {
     "name": "stdout",
     "output_type": "stream",
     "text": [
      "/m/0dryh9k    16351\n",
      "/m/0x67       10159\n",
      "/m/041rx      10121\n",
      "/m/02w7gg      6165\n",
      "/m/033tf_      3857\n",
      "              ...  \n",
      "/m/043_z22        1\n",
      "/m/03x_fq7        1\n",
      "/m/01hphz         1\n",
      "/m/033fjj         1\n",
      "/m/013y54         1\n",
      "Name: Actor ethnicity (Freebase ID), Length: 479, dtype: int64\n",
      "/m/0x67       1472\n",
      "/m/0dryh9k     721\n",
      "/m/041rx       717\n",
      "/m/02ctzb      494\n",
      "/m/02w7gg      385\n",
      "              ... \n",
      "/m/0960kn        1\n",
      "/m/0h6mqq9       1\n",
      "/m/0dqrh8        1\n",
      "/m/07n8wy        1\n",
      "/m/013y54        1\n",
      "Name: Actor ethnicity (Freebase ID), Length: 479, dtype: int64\n"
     ]
    }
   ],
   "source": [
    "print(df_character_metadata[\"Actor ethnicity (Freebase ID)\"].dropna().value_counts())\n",
    "print(df_character_metadata[[\"Actor ethnicity (Freebase ID)\", \"Freebase actor ID\"]].drop_duplicates().dropna()[\"Actor ethnicity (Freebase ID)\"].value_counts())"
   ]
  },
  {
   "cell_type": "markdown",
   "metadata": {},
   "source": [
    "# About the plot summaries\n",
    "\n",
    "### Import and general analysis"
   ]
  },
  {
   "cell_type": "code",
   "execution_count": 97,
   "metadata": {},
   "outputs": [
    {
     "data": {
      "text/html": [
       "<div>\n",
       "<style scoped>\n",
       "    .dataframe tbody tr th:only-of-type {\n",
       "        vertical-align: middle;\n",
       "    }\n",
       "\n",
       "    .dataframe tbody tr th {\n",
       "        vertical-align: top;\n",
       "    }\n",
       "\n",
       "    .dataframe thead th {\n",
       "        text-align: right;\n",
       "    }\n",
       "</style>\n",
       "<table border=\"1\" class=\"dataframe\">\n",
       "  <thead>\n",
       "    <tr style=\"text-align: right;\">\n",
       "      <th></th>\n",
       "      <th>Plot summary</th>\n",
       "    </tr>\n",
       "    <tr>\n",
       "      <th>Wikipedia movie ID</th>\n",
       "      <th></th>\n",
       "    </tr>\n",
       "  </thead>\n",
       "  <tbody>\n",
       "    <tr>\n",
       "      <th>23890098</th>\n",
       "      <td>Shlykov, a hard-working taxi driver and Lyosha...</td>\n",
       "    </tr>\n",
       "    <tr>\n",
       "      <th>31186339</th>\n",
       "      <td>The nation of Panem consists of a wealthy Capi...</td>\n",
       "    </tr>\n",
       "    <tr>\n",
       "      <th>20663735</th>\n",
       "      <td>Poovalli Induchoodan  is sentenced for six yea...</td>\n",
       "    </tr>\n",
       "    <tr>\n",
       "      <th>2231378</th>\n",
       "      <td>The Lemon Drop Kid , a New York City swindler,...</td>\n",
       "    </tr>\n",
       "    <tr>\n",
       "      <th>595909</th>\n",
       "      <td>Seventh-day Adventist Church pastor Michael Ch...</td>\n",
       "    </tr>\n",
       "  </tbody>\n",
       "</table>\n",
       "</div>"
      ],
      "text/plain": [
       "                                                         Plot summary\n",
       "Wikipedia movie ID                                                   \n",
       "23890098            Shlykov, a hard-working taxi driver and Lyosha...\n",
       "31186339            The nation of Panem consists of a wealthy Capi...\n",
       "20663735            Poovalli Induchoodan  is sentenced for six yea...\n",
       "2231378             The Lemon Drop Kid , a New York City swindler,...\n",
       "595909              Seventh-day Adventist Church pastor Michael Ch..."
      ]
     },
     "execution_count": 97,
     "metadata": {},
     "output_type": "execute_result"
    }
   ],
   "source": [
    "df_plot_summaries = pd.read_csv(DATA_PATH + PLOT_SUMMARIES_FILENAME, sep='\\t', header=None, names=COLUMN_NAMES_PLOT_SUMMARIES, index_col=0)\n",
    "df_plot_summaries.head()"
   ]
  },
  {
   "cell_type": "code",
   "execution_count": 98,
   "metadata": {},
   "outputs": [
    {
     "name": "stdout",
     "output_type": "stream",
     "text": [
      "Total size of dataset: 42303\n",
      "Null data:\n",
      "Plot summary    0\n",
      "dtype: int64\n"
     ]
    }
   ],
   "source": [
    "print(f\"Total size of dataset: {df_plot_summaries.shape[0]}\")\n",
    "print(\"Null data:\")\n",
    "print(df_plot_summaries.isnull().sum())"
   ]
  },
  {
   "cell_type": "code",
   "execution_count": 99,
   "metadata": {},
   "outputs": [
    {
     "name": "stdout",
     "output_type": "stream",
     "text": [
      "movies metadata count: 81741\n",
      "plot summaries count: 42303\n",
      "intersection count: 42204\n"
     ]
    }
   ],
   "source": [
    "print(f\"movies metadata count: {df_movie_metadata.shape[0]}\")\n",
    "print(f\"plot summaries count: {df_plot_summaries.shape[0]}\")\n",
    "print(f\"intersection count: {df_movie_metadata.join(df_plot_summaries, how = 'inner').shape[0]}\")\n"
   ]
  },
  {
   "cell_type": "markdown",
   "metadata": {},
   "source": [
    "# Completing and processing the dataset"
   ]
  },
  {
   "cell_type": "markdown",
   "metadata": {},
   "source": [
    "For this project we will consider movies with a summary and at least one character and discard the rest for character based analysis."
   ]
  },
  {
   "cell_type": "code",
   "execution_count": 100,
   "metadata": {
    "scrolled": true
   },
   "outputs": [
    {
     "name": "stdout",
     "output_type": "stream",
     "text": [
      "(37779, 9)\n"
     ]
    },
    {
     "data": {
      "text/html": [
       "<div>\n",
       "<style scoped>\n",
       "    .dataframe tbody tr th:only-of-type {\n",
       "        vertical-align: middle;\n",
       "    }\n",
       "\n",
       "    .dataframe tbody tr th {\n",
       "        vertical-align: top;\n",
       "    }\n",
       "\n",
       "    .dataframe thead th {\n",
       "        text-align: right;\n",
       "    }\n",
       "</style>\n",
       "<table border=\"1\" class=\"dataframe\">\n",
       "  <thead>\n",
       "    <tr style=\"text-align: right;\">\n",
       "      <th></th>\n",
       "      <th>Freebase movie ID</th>\n",
       "      <th>Movie name</th>\n",
       "      <th>Movie release date</th>\n",
       "      <th>Movie box office revenue</th>\n",
       "      <th>Movie runtime</th>\n",
       "      <th>Movie languages (Freebase ID:name tuples)</th>\n",
       "      <th>Movie countries (Freebase ID:name tuples)</th>\n",
       "      <th>Movie genres (Freebase ID:name tuples)</th>\n",
       "      <th>Plot summary</th>\n",
       "    </tr>\n",
       "    <tr>\n",
       "      <th>Wikipedia movie ID</th>\n",
       "      <th></th>\n",
       "      <th></th>\n",
       "      <th></th>\n",
       "      <th></th>\n",
       "      <th></th>\n",
       "      <th></th>\n",
       "      <th></th>\n",
       "      <th></th>\n",
       "      <th></th>\n",
       "    </tr>\n",
       "  </thead>\n",
       "  <tbody>\n",
       "    <tr>\n",
       "      <th>975900</th>\n",
       "      <td>/m/03vyhn</td>\n",
       "      <td>Ghosts of Mars</td>\n",
       "      <td>2001-08-24</td>\n",
       "      <td>14010832.0</td>\n",
       "      <td>98.0</td>\n",
       "      <td>{\"/m/02h40lc\": \"English Language\"}</td>\n",
       "      <td>{\"/m/09c7w0\": \"United States of America\"}</td>\n",
       "      <td>{\"/m/01jfsb\": \"Thriller\", \"/m/06n90\": \"Science...</td>\n",
       "      <td>Set in the second half of the 22nd century, th...</td>\n",
       "    </tr>\n",
       "    <tr>\n",
       "      <th>9363483</th>\n",
       "      <td>/m/0285_cd</td>\n",
       "      <td>White Of The Eye</td>\n",
       "      <td>1987</td>\n",
       "      <td>NaN</td>\n",
       "      <td>110.0</td>\n",
       "      <td>{\"/m/02h40lc\": \"English Language\"}</td>\n",
       "      <td>{\"/m/07ssc\": \"United Kingdom\"}</td>\n",
       "      <td>{\"/m/01jfsb\": \"Thriller\", \"/m/0glj9q\": \"Erotic...</td>\n",
       "      <td>A series of murders of rich young women throug...</td>\n",
       "    </tr>\n",
       "    <tr>\n",
       "      <th>261236</th>\n",
       "      <td>/m/01mrr1</td>\n",
       "      <td>A Woman in Flames</td>\n",
       "      <td>1983</td>\n",
       "      <td>NaN</td>\n",
       "      <td>106.0</td>\n",
       "      <td>{\"/m/04306rv\": \"German Language\"}</td>\n",
       "      <td>{\"/m/0345h\": \"Germany\"}</td>\n",
       "      <td>{\"/m/07s9rl0\": \"Drama\"}</td>\n",
       "      <td>Eva, an upper class housewife, becomes frustra...</td>\n",
       "    </tr>\n",
       "    <tr>\n",
       "      <th>18998739</th>\n",
       "      <td>/m/04jcqvw</td>\n",
       "      <td>The Sorcerer's Apprentice</td>\n",
       "      <td>2002</td>\n",
       "      <td>NaN</td>\n",
       "      <td>86.0</td>\n",
       "      <td>{\"/m/02h40lc\": \"English Language\"}</td>\n",
       "      <td>{\"/m/0hzlz\": \"South Africa\"}</td>\n",
       "      <td>{\"/m/0hqxf\": \"Family Film\", \"/m/01hmnh\": \"Fant...</td>\n",
       "      <td>Every hundred years, the evil Morgana  returns...</td>\n",
       "    </tr>\n",
       "    <tr>\n",
       "      <th>6631279</th>\n",
       "      <td>/m/0gffwj</td>\n",
       "      <td>Little city</td>\n",
       "      <td>1997-04-04</td>\n",
       "      <td>NaN</td>\n",
       "      <td>93.0</td>\n",
       "      <td>{\"/m/02h40lc\": \"English Language\"}</td>\n",
       "      <td>{\"/m/09c7w0\": \"United States of America\"}</td>\n",
       "      <td>{\"/m/06cvj\": \"Romantic comedy\", \"/m/0hj3n0w\": ...</td>\n",
       "      <td>Adam, a San Francisco-based artist who works a...</td>\n",
       "    </tr>\n",
       "  </tbody>\n",
       "</table>\n",
       "</div>"
      ],
      "text/plain": [
       "                   Freebase movie ID                 Movie name  \\\n",
       "Wikipedia movie ID                                                \n",
       "975900                     /m/03vyhn             Ghosts of Mars   \n",
       "9363483                   /m/0285_cd           White Of The Eye   \n",
       "261236                     /m/01mrr1          A Woman in Flames   \n",
       "18998739                  /m/04jcqvw  The Sorcerer's Apprentice   \n",
       "6631279                    /m/0gffwj                Little city   \n",
       "\n",
       "                   Movie release date  Movie box office revenue  \\\n",
       "Wikipedia movie ID                                                \n",
       "975900                     2001-08-24                14010832.0   \n",
       "9363483                          1987                       NaN   \n",
       "261236                           1983                       NaN   \n",
       "18998739                         2002                       NaN   \n",
       "6631279                    1997-04-04                       NaN   \n",
       "\n",
       "                    Movie runtime Movie languages (Freebase ID:name tuples)  \\\n",
       "Wikipedia movie ID                                                            \n",
       "975900                       98.0        {\"/m/02h40lc\": \"English Language\"}   \n",
       "9363483                     110.0        {\"/m/02h40lc\": \"English Language\"}   \n",
       "261236                      106.0         {\"/m/04306rv\": \"German Language\"}   \n",
       "18998739                     86.0        {\"/m/02h40lc\": \"English Language\"}   \n",
       "6631279                      93.0        {\"/m/02h40lc\": \"English Language\"}   \n",
       "\n",
       "                    Movie countries (Freebase ID:name tuples)  \\\n",
       "Wikipedia movie ID                                              \n",
       "975900              {\"/m/09c7w0\": \"United States of America\"}   \n",
       "9363483                        {\"/m/07ssc\": \"United Kingdom\"}   \n",
       "261236                                {\"/m/0345h\": \"Germany\"}   \n",
       "18998739                         {\"/m/0hzlz\": \"South Africa\"}   \n",
       "6631279             {\"/m/09c7w0\": \"United States of America\"}   \n",
       "\n",
       "                               Movie genres (Freebase ID:name tuples)  \\\n",
       "Wikipedia movie ID                                                      \n",
       "975900              {\"/m/01jfsb\": \"Thriller\", \"/m/06n90\": \"Science...   \n",
       "9363483             {\"/m/01jfsb\": \"Thriller\", \"/m/0glj9q\": \"Erotic...   \n",
       "261236                                        {\"/m/07s9rl0\": \"Drama\"}   \n",
       "18998739            {\"/m/0hqxf\": \"Family Film\", \"/m/01hmnh\": \"Fant...   \n",
       "6631279             {\"/m/06cvj\": \"Romantic comedy\", \"/m/0hj3n0w\": ...   \n",
       "\n",
       "                                                         Plot summary  \n",
       "Wikipedia movie ID                                                     \n",
       "975900              Set in the second half of the 22nd century, th...  \n",
       "9363483             A series of murders of rich young women throug...  \n",
       "261236              Eva, an upper class housewife, becomes frustra...  \n",
       "18998739            Every hundred years, the evil Morgana  returns...  \n",
       "6631279             Adam, a San Francisco-based artist who works a...  "
      ]
     },
     "execution_count": 100,
     "metadata": {},
     "output_type": "execute_result"
    }
   ],
   "source": [
    "df_movie_metadata = df_movie_metadata.join(df_plot_summaries, how= 'inner')\n",
    "df_movie_metadata = df_movie_metadata[df_movie_metadata[\"Freebase movie ID\"].isin(df_character_metadata[\"Freebase movie ID\"])]\n",
    "print(df_movie_metadata.shape)\n",
    "df_movie_metadata.head()"
   ]
  },
  {
   "cell_type": "markdown",
   "metadata": {},
   "source": [
    "We then try to complete the dataset with values from imdb."
   ]
  },
  {
   "cell_type": "code",
   "execution_count": 101,
   "metadata": {},
   "outputs": [
    {
     "ename": "NameError",
     "evalue": "name 'Cinemagoer' is not defined",
     "output_type": "error",
     "traceback": [
      "\u001b[0;31m---------------------------------------------------------------------------\u001b[0m",
      "\u001b[0;31mNameError\u001b[0m                                 Traceback (most recent call last)",
      "Cell \u001b[0;32mIn [101], line 2\u001b[0m\n\u001b[1;32m      1\u001b[0m clean_movie_metadata \u001b[39m=\u001b[39m []\n\u001b[0;32m----> 2\u001b[0m ia \u001b[39m=\u001b[39m Cinemagoer()\n\u001b[1;32m      3\u001b[0m \u001b[39mimport\u001b[39;00m \u001b[39mrandom\u001b[39;00m\n\u001b[1;32m      5\u001b[0m \u001b[39mfor\u001b[39;00m index, row \u001b[39min\u001b[39;00m df_movie_metadata\u001b[39m.\u001b[39miterrows():\n",
      "\u001b[0;31mNameError\u001b[0m: name 'Cinemagoer' is not defined"
     ]
    }
   ],
   "source": [
    "\n",
    "clean_movie_metadata = []\n",
    "ia = Cinemagoer()\n",
    "import random\n",
    "\n",
    "for index, row in df_movie_metadata.iterrows():\n",
    "    while True:\n",
    "        try:\n",
    "            film = ia.search_movie(row['Movie name'])[0]\n",
    "            break\n",
    "        except IndexError:\n",
    "            pass\n",
    "        except:\n",
    "            print(row['Movie name'], \"not found\")\n",
    "    if row.isnull().sum() == 0:\n",
    "        clean_movie_metadata.append([film.movieID, *row.tolist()[1:]])\n",
    "        print([film.movieID, *row.tolist()[1:3]])\n",
    "    else:\n",
    "        try:\n",
    "            if film[\"title\"].casefold() == row['Movie name'].casefold() and film[\"year\"] == pd.to_datetime(row['Movie release date']).year:\n",
    "                film = ia.get_movie(film.movieID)\n",
    "                clean_movie_metadata.append([film.movieID, film[\"title\"], film[\"year\"], int(film[\"box office\"]['Opening Weekend United States'].split()[0][1:].replace(',','')), int(film[\"runtimes\"][0]), row[\"Movie languages (Freebase ID:name tuples)\"], row[\"Movie countries (Freebase ID:name tuples)\"], row[\"Movie genres (Freebase ID:name tuples)\"], row[\"Plot summary\"]])\n",
    "                print([film.movieID, film[\"title\"], film[\"year\"]])\n",
    "            else:\n",
    "                print([film.movieID, film[\"title\"], film[\"year\"]], \"mismatch\", [row['Movie name'], pd.to_datetime(row['Movie release date']).year])\n",
    "        except KeyError as e:\n",
    "            print(film[\"title\"], \"missing data\", e)\n",
    "    if random.random() < 0.1:\n",
    "        break\n",
    "        \n",
    "clean_movie_metadata = pd.DataFrame(clean_movie_metadata, columns = [\"imdbid\", \"Movie name\", \"Movie release year\", \"Movie box office revenue\", \"Movie runtime\", \"Movie languages\", \"Movie countries\", \"Movie genres\", \"Plot summary\"])\n",
    "clean_movie_metadata.set_index(\"imdbid\")\n",
    "clean_movie_metadata"
   ]
  },
  {
   "cell_type": "code",
   "execution_count": null,
   "metadata": {},
   "outputs": [],
   "source": []
  },
  {
   "cell_type": "code",
   "execution_count": null,
   "metadata": {},
   "outputs": [],
   "source": []
  },
  {
   "cell_type": "code",
   "execution_count": null,
   "metadata": {},
   "outputs": [],
   "source": []
  }
 ],
 "metadata": {
  "kernelspec": {
   "display_name": "Python 3 (ipykernel)",
   "language": "python",
   "name": "python3"
  },
  "language_info": {
   "codemirror_mode": {
    "name": "ipython",
    "version": 3
   },
   "file_extension": ".py",
   "mimetype": "text/x-python",
   "name": "python",
   "nbconvert_exporter": "python",
   "pygments_lexer": "ipython3",
   "version": "3.9.12"
  },
  "vscode": {
   "interpreter": {
    "hash": "916dbcbb3f70747c44a77c7bcd40155683ae19c65e1c03b4aa3499c5328201f1"
   }
  }
 },
 "nbformat": 4,
 "nbformat_minor": 4
}
