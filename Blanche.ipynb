{
 "cells": [
  {
   "cell_type": "markdown",
   "metadata": {},
   "source": [
    "## CODE FOR DRAFT TO RUN (NO NEED TO COPY IT)"
   ]
  },
  {
   "cell_type": "code",
   "execution_count": null,
   "metadata": {},
   "outputs": [],
   "source": [
    "import pandas as pd\n",
    "import matplotlib.pyplot as plt\n",
    "from ast import literal_eval\n",
    "\n",
    "import json\n",
    "\n",
    "FOLDER_PATH = 'data/'\n",
    "DATA_COLUMNS = ['wiki_movie_id', 'freebase_movie_id', 'movie_name',\n",
    "       'movie_box_office_revenue', 'movie_runtime', 'languages', 'countries',\n",
    "       'genres', 'imdb_id', 'cast', 'rating', 'votes', 'budget', 'plot',\n",
    "       'characters_names', 'main_character', 'release_year']\n",
    "df = pd.read_csv(FOLDER_PATH + 'movie_processed.csv', names=DATA_COLUMNS, header=0, index_col=0)\n",
    "df.head()\n",
    "df_r1 = df[df[\"release_year\"].notna()]"
   ]
  },
  {
   "cell_type": "markdown",
   "metadata": {},
   "source": [
    "## CODE TO KEEP"
   ]
  },
  {
   "cell_type": "markdown",
   "metadata": {},
   "source": [
    "### FOR CHARACTER TYPE"
   ]
  },
  {
   "cell_type": "code",
   "execution_count": null,
   "metadata": {},
   "outputs": [],
   "source": [
    "#### Character type\n",
    "COLOMNS_NAMES_TV_TROPES = [\n",
    "    \"character_type\",\n",
    "    \"object\"\n",
    "]\n",
    "df_tvtropes = pd.read_csv(FOLDER_PATH + 'tvtropes.clusters.txt', sep='\\t', header=None, names=COLOMNS_NAMES_TV_TROPES)\n",
    "\n",
    "# Treats the object column to turn it into multiple columns\n",
    "df_tvtropes[\"character_name\"] = df_tvtropes.apply(lambda x: json.loads(x[\"object\"])[\"char\"], axis=1)\n",
    "df_tvtropes[\"movie_name\"] = df_tvtropes.apply(lambda x: json.loads(x[\"object\"])[\"movie\"], axis=1)\n",
    "df_tvtropes[\"freebase_id\"] = df_tvtropes.apply(lambda x: json.loads(x[\"object\"])[\"id\"], axis=1)\n",
    "df_tvtropes[\"actor_name\"] = df_tvtropes.apply(lambda x: json.loads(x[\"object\"])[\"actor\"], axis=1)\n",
    "df_tvtropes.drop(\"object\", axis=1, inplace=True)\n",
    "\n",
    "df_tvtropes.head()\n",
    "\n",
    "# We remove the movies with no box office value (removed 27030 movies) 34617-7587=27030\n",
    "df_box_office = df[df[\"movie_box_office_revenue\"].notna()]\n",
    "df_character_type = df_tvtropes.copy()\n",
    "\n",
    "# We add the box office revenue for each movie in the character type dataframe\n",
    "df_character_type[\"movie_box_office_revenue\"] = df_character_type[\"movie_name\"].apply(lambda movie_name: df_box_office[df_box_office[\"movie_name\"] == movie_name][\"movie_box_office_revenue\"].values)\n",
    "df_character_type[\"movie_box_office_revenue\"] = df_character_type[\"movie_box_office_revenue\"].apply(lambda x: x[0] if len(x) > 0 else 0)\n",
    "#TODO: drop movies with 0 as box office_revenue\n",
    "\n",
    "# We group the dataframe by character type and take the mean of the box office revenue\n",
    "df_character_type = df_character_type.groupby(\"character_type\")\n",
    "plt = df_character_type.mean().sort_values(\"movie_box_office_revenue\", ascending=False).plot(kind=\"bar\", figsize=(20, 10))\n",
    "plt.set_xlabel(\"Character type\")\n",
    "plt.set_ylabel(\"Mean box office revenue\")\n",
    "plt.set_title(\"Mean box office revenue by character type\")\n",
    "plt.get_figure().savefig(\"mean_box_office_revenue_by_character_type.png\")\n",
    "plt.get_figure().show()\n"
   ]
  },
  {
   "cell_type": "markdown",
   "metadata": {},
   "source": [
    "### FOR BOX OFFICE EVOLUTION (25%, 50%, 75%)"
   ]
  },
  {
   "cell_type": "code",
   "execution_count": null,
   "metadata": {},
   "outputs": [],
   "source": [
    "stats = df_r1[[\"release_year\", \"movie_box_office_revenue\"]].groupby(\"release_year\").describe()\n",
    "a = stats.movie_box_office_revenue[\"25%\"]\n",
    "b = stats.movie_box_office_revenue[\"50%\"]\n",
    "c = stats.movie_box_office_revenue[\"75%\"]\n",
    "\n",
    "plt.figure(figsize=(10,5))\n",
    "plt.stackplot(stats.index, a, b, c, labels=[\"25%\", \"50%\", \"75%\"], colors=[\"#E88DA4\", \"#EEAABB\", \"#F3C6D1\"])\n",
    "plt.legend(loc='upper left')\n",
    "plt.title(\"Box office revenue distribution per year\")\n",
    "plt.xlabel(\"Year\")\n",
    "plt.ylabel(\"Box office revenue\")\n",
    "plt.show()\n"
   ]
  },
  {
   "cell_type": "code",
   "execution_count": null,
   "metadata": {},
   "outputs": [],
   "source": [
    "df_r1[df_r1.release_year <= 1920].sort_values(by=\"movie_box_office_revenue\", ascending=False)[[\"movie_name\", \"movie_box_office_revenue\", \"release_year\"]].head(6)"
   ]
  },
  {
   "cell_type": "markdown",
   "metadata": {},
   "source": [
    "Before 1920 we only have the box office value for 4 movies of which \"The Birth of a Nation\" and \" Way Down East\" which respectively had a box office of 50 million dollars and 4,5 million dollars. This explains the spike seen on the graph. Furtheron we will remove those movies even if the data is correct it is not relevant as we do not have enough data point for that period. "
   ]
  },
  {
   "cell_type": "markdown",
   "metadata": {},
   "source": [
    "## DRAFT STUFF"
   ]
  },
  {
   "cell_type": "code",
   "execution_count": null,
   "metadata": {},
   "outputs": [],
   "source": [
    "df_character_type[\"movie_box_office_revenue\"] = df_character_type[\"movie_box_office_revenue\"].apply(lambda x: x[0] if len(x) > 0 else None) \n",
    "# import numpy as np\n",
    "# df_character_type.groupby(\"character_type\")\n",
    "#.aggregate(np.mean)\n",
    "# , \"character_name\", \"movie_name\", \"freebase_id\", \"actor_name\"\n",
    "df_character_type.groupby(\"character_type\").mean().sort_values(\"movie_box_office_revenue\", ascending=False).plot(kind=\"bar\", figsize=(20, 10))"
   ]
  },
  {
   "cell_type": "code",
   "execution_count": null,
   "metadata": {},
   "outputs": [],
   "source": [
    "\n",
    "#### Runtime evolution\n",
    "# Cleaning runtime data\n",
    "\n",
    "# soldiers of freedom is indeed a 6h movie\n",
    "# Unsung heroes is actually 98 min long\n",
    "# Swallow the sun is a TV series so indeed really long...\n",
    "# heimat est une serie de films...\n",
    "# once a eagle is a mini serie\n",
    "df_r1.sort_values(\"movie_runtime\", ascending=False)[[\"movie_name\", \"movie_runtime\"]].head(30)\n",
    "\n",
    "# Remove outliers\n",
    "# We remove movies with a runtime higher than 6h as it corresponds mostly to TV series, mini series and errors (removed 20 movies)\n",
    "df_runtime = df_r1[df_r1[\"movie_runtime\"] < 450]\n",
    "def group_by_decade(df):\n",
    "    df[\"decade\"] = df[\"release_year\"].apply(lambda x: int(x/10)*10)\n",
    "    return df\n",
    "\n",
    "df_runtime.boxplot(column=\"movie_runtime\", by=\"release_year\", figsize=(20, 10))\n",
    "\n",
    "df_runtime_decade = group_by_decade(df_runtime)\n",
    "df_runtime_decade.boxplot(column=\"movie_runtime\", by=\"decade\", figsize=(20, 10))\n",
    "\n",
    "\n",
    "# We remove the movies without value for the box office (26830 movies removed, 7461 kept)\n",
    "df_runtime = df_runtime[df_runtime[\"movie_box_office_revenue\"].notna()] \n",
    "#df_runtime.boxplot(column=\"movie_runtime\", by=\"movie_box_office_revenue\", figsize=(20, 10))\n",
    "\n",
    "#df_runtime.sort_values(\"movie_box_office_revenue\", ascending=False)[[\"movie_name\", \"movie_runtime\", \"movie_box_office_revenue\"]].head(50)\n",
    "\n",
    "def group_by_thousand(df):\n",
    "    df[\"thousand\"] = df[\"movie_box_office_revenue\"].apply(lambda x: int(x/1000)*1000)\n",
    "    return df\n",
    "\n",
    "def group_by_million(df):\n",
    "    df[\"million\"] = df[\"movie_box_office_revenue\"].apply(lambda x: int(x/1000000)*1000000)\n",
    "    return df\n",
    "\n",
    "#df_runtime_thousand = group_by_thousand(df_runtime)\n",
    "#df_runtime_thousand.boxplot(column=\"movie_runtime\", by=\"thousand\", figsize=(20, 10))\n",
    "\n",
    "df_runtime_million = group_by_million(df_runtime)\n",
    "#df_runtime_million.boxplot(column=\"movie_runtime\", by=\"million\", figsize=(20, 10))\n",
    "\n",
    "\n",
    "# box_offices = df_runtime_million.movie_box_office_revenue.apply(lambda x: int(x/1000000)*1000000).value_counts()\n",
    "# fig, ax = plt.subplots()\n",
    "# ax.bar(box_offices.index, box_offices.values, color=\"blue\")\n",
    "# ax.set_xlabel(\"Box office\")\n",
    "# ax.set_ylabel(\"Number of movies\")\n",
    "# ax.set_title(\"Movie box office\")\n",
    "# plt.xticks(rotation=90)\n",
    "# plt.show()\n",
    "# box_offices\n",
    "\n",
    "#### Number of character evolution\n",
    "# Clean cast data\n",
    "# We remove the movies with no cast (removed 17703 movies)\n",
    "df_cast = df_r1[df_r1[\"cast\"].notna()]\n",
    "df_cast[\"cast_length\"] = df_cast[\"cast\"].apply(lambda cast: len(cast))\n",
    "#df_cast.boxplot(column=\"cast_length\", by=\"release_year\", figsize=(20, 10))\n",
    "type(df_cast[\"cast\"].head(1).values[0])\n",
    "\n",
    "#### Ratio Men/Women evolution\n",
    "# TODO: try to do a graph nb of women in cast by year (or by decade) and another one with nb of men\n",
    "def get_nb_actors(cast):\n",
    "    return len(cast)\n",
    "\n",
    "def get_nb_female_actors(cast):\n",
    "    return None\n"
   ]
  }
 ],
 "metadata": {
  "kernelspec": {
   "display_name": "Python 3 (ipykernel)",
   "language": "python",
   "name": "python3"
  },
  "language_info": {
   "codemirror_mode": {
    "name": "ipython",
    "version": 3
   },
   "file_extension": ".py",
   "mimetype": "text/x-python",
   "name": "python",
   "nbconvert_exporter": "python",
   "pygments_lexer": "ipython3",
   "version": "3.10.6"
  },
  "orig_nbformat": 4,
  "vscode": {
   "interpreter": {
    "hash": "916dbcbb3f70747c44a77c7bcd40155683ae19c65e1c03b4aa3499c5328201f1"
   }
  }
 },
 "nbformat": 4,
 "nbformat_minor": 2
}
